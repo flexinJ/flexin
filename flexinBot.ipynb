{
  "nbformat": 4,
  "nbformat_minor": 0,
  "metadata": {
    "colab": {
      "provenance": [],
      "authorship_tag": "ABX9TyM929Kn5FdH2XjaIgEEi48W",
      "include_colab_link": true
    },
    "kernelspec": {
      "name": "python3",
      "display_name": "Python 3"
    },
    "language_info": {
      "name": "python"
    }
  },
  "cells": [
    {
      "cell_type": "markdown",
      "metadata": {
        "id": "view-in-github",
        "colab_type": "text"
      },
      "source": [
        "<a href=\"https://colab.research.google.com/github/flexinJ/flexinBot/blob/main/flexinBot.ipynb\" target=\"_parent\"><img src=\"https://colab.research.google.com/assets/colab-badge.svg\" alt=\"Open In Colab\"/></a>"
      ]
    },
    {
      "cell_type": "code",
      "execution_count": 281,
      "metadata": {
        "colab": {
          "base_uri": "https://localhost:8080/"
        },
        "id": "t_aFRGeP8o2w",
        "outputId": "0c634fec-2c9c-4463-8cc6-62610591e1ae"
      },
      "outputs": [
        {
          "output_type": "stream",
          "name": "stdout",
          "text": [
            "Looking in indexes: https://pypi.org/simple, https://us-python.pkg.dev/colab-wheels/public/simple/\n",
            "Requirement already satisfied: yfinance in /usr/local/lib/python3.7/dist-packages (0.1.87)\n",
            "Requirement already satisfied: numpy>=1.15 in /usr/local/lib/python3.7/dist-packages (from yfinance) (1.21.6)\n",
            "Requirement already satisfied: pandas>=0.24.0 in /usr/local/lib/python3.7/dist-packages (from yfinance) (1.3.5)\n",
            "Requirement already satisfied: requests>=2.26 in /usr/local/lib/python3.7/dist-packages (from yfinance) (2.28.1)\n",
            "Requirement already satisfied: lxml>=4.5.1 in /usr/local/lib/python3.7/dist-packages (from yfinance) (4.9.1)\n",
            "Requirement already satisfied: multitasking>=0.0.7 in /usr/local/lib/python3.7/dist-packages (from yfinance) (0.0.11)\n",
            "Requirement already satisfied: appdirs>=1.4.4 in /usr/local/lib/python3.7/dist-packages (from yfinance) (1.4.4)\n",
            "Requirement already satisfied: pytz>=2017.3 in /usr/local/lib/python3.7/dist-packages (from pandas>=0.24.0->yfinance) (2022.6)\n",
            "Requirement already satisfied: python-dateutil>=2.7.3 in /usr/local/lib/python3.7/dist-packages (from pandas>=0.24.0->yfinance) (2.8.2)\n",
            "Requirement already satisfied: six>=1.5 in /usr/local/lib/python3.7/dist-packages (from python-dateutil>=2.7.3->pandas>=0.24.0->yfinance) (1.15.0)\n",
            "Requirement already satisfied: certifi>=2017.4.17 in /usr/local/lib/python3.7/dist-packages (from requests>=2.26->yfinance) (2022.9.24)\n",
            "Requirement already satisfied: urllib3<1.27,>=1.21.1 in /usr/local/lib/python3.7/dist-packages (from requests>=2.26->yfinance) (1.24.3)\n",
            "Requirement already satisfied: charset-normalizer<3,>=2 in /usr/local/lib/python3.7/dist-packages (from requests>=2.26->yfinance) (2.1.1)\n",
            "Requirement already satisfied: idna<4,>=2.5 in /usr/local/lib/python3.7/dist-packages (from requests>=2.26->yfinance) (2.10)\n",
            "Looking in indexes: https://pypi.org/simple, https://us-python.pkg.dev/colab-wheels/public/simple/\n",
            "Requirement already satisfied: numpy in /usr/local/lib/python3.7/dist-packages (1.21.6)\n",
            "Looking in indexes: https://pypi.org/simple, https://us-python.pkg.dev/colab-wheels/public/simple/\n",
            "Requirement already satisfied: pandas in /usr/local/lib/python3.7/dist-packages (1.3.5)\n",
            "Requirement already satisfied: pytz>=2017.3 in /usr/local/lib/python3.7/dist-packages (from pandas) (2022.6)\n",
            "Requirement already satisfied: numpy>=1.17.3 in /usr/local/lib/python3.7/dist-packages (from pandas) (1.21.6)\n",
            "Requirement already satisfied: python-dateutil>=2.7.3 in /usr/local/lib/python3.7/dist-packages (from pandas) (2.8.2)\n",
            "Requirement already satisfied: six>=1.5 in /usr/local/lib/python3.7/dist-packages (from python-dateutil>=2.7.3->pandas) (1.15.0)\n",
            "Looking in indexes: https://pypi.org/simple, https://us-python.pkg.dev/colab-wheels/public/simple/\n",
            "Requirement already satisfied: hurst in /usr/local/lib/python3.7/dist-packages (0.0.5)\n",
            "Requirement already satisfied: numpy>=1.10 in /usr/local/lib/python3.7/dist-packages (from hurst) (1.21.6)\n",
            "Requirement already satisfied: pandas>=0.18 in /usr/local/lib/python3.7/dist-packages (from hurst) (1.3.5)\n",
            "Requirement already satisfied: pytz>=2017.3 in /usr/local/lib/python3.7/dist-packages (from pandas>=0.18->hurst) (2022.6)\n",
            "Requirement already satisfied: python-dateutil>=2.7.3 in /usr/local/lib/python3.7/dist-packages (from pandas>=0.18->hurst) (2.8.2)\n",
            "Requirement already satisfied: six>=1.5 in /usr/local/lib/python3.7/dist-packages (from python-dateutil>=2.7.3->pandas>=0.18->hurst) (1.15.0)\n"
          ]
        }
      ],
      "source": [
        "# Downloading required packages\n",
        "!pip install yfinance\n",
        "!pip install numpy\n",
        "!pip install pandas\n",
        "!pip install hurst"
      ]
    },
    {
      "cell_type": "code",
      "source": [
        "# Import of the necessary modules\n",
        "import numpy as np\n",
        "import pandas as pd\n",
        "import math\n",
        "import yfinance as yf\n",
        "from hurst import compute_Hc\n",
        "import matplotlib.pyplot as plt"
      ],
      "metadata": {
        "id": "NsE9PTzF9hB7"
      },
      "execution_count": 282,
      "outputs": []
    },
    {
      "cell_type": "code",
      "source": [
        "######################## Welcome ##########################\n",
        "# Based in fibo sequence.\n",
        "# Flexin (@moraisjota) make this ~ enjoy xD\n",
        "######################## FlexinBot ########################"
      ],
      "metadata": {
        "id": "afGCAGmh-QT-"
      },
      "execution_count": 283,
      "outputs": []
    },
    {
      "cell_type": "code",
      "source": [
        "# Wallet\n",
        "wallet = ['EURUSD=X', 'JPY=x']\n",
        "# Database\n",
        "database = pd.DataFrame()\n",
        "# Wallet verification loop\n",
        "##############"
      ],
      "metadata": {
        "id": "NFvj3XV--Zp4"
      },
      "execution_count": 284,
      "outputs": []
    },
    {
      "cell_type": "code",
      "source": [
        "# Symbol parameters definition\n",
        "symbol = 'BTC-USD'\n",
        "dateRange = '1mo'\n",
        "timeFrame = '15m'\n",
        "# Finance database import\n",
        "data = yf.Ticker(symbol).history(period=dateRange, interval=timeFrame)\n",
        "data.drop(['Volume', 'Dividends', 'Stock Splits'], axis=1, inplace=True)"
      ],
      "metadata": {
        "id": "AZvXDWeU-zd3"
      },
      "execution_count": 285,
      "outputs": []
    },
    {
      "cell_type": "code",
      "source": [
        "######################## Indicators ########################\n",
        "# Moving average\n",
        "# 8, 13 and 55 periods (EMA, Adj close)\n",
        "data['mA8'] = data['Close'].ewm(span=8, min_periods=8).mean()\n",
        "data['mA13'] = data['Close'].ewm(span=13, min_periods=13).mean()\n",
        "data['mA55'] = data['Close'].ewm(span=55, min_periods=55).mean()\n",
        "# Ichimoku Cloud\n",
        "# 8, 21 and 55 periods\n",
        "data['tenkanSen'] = (data['High'].rolling(window=8).max()+data['High'].rolling(window=8).min())/2\n",
        "data['kijunSen'] = (data['High'].rolling(window=21).max()+data['Low'].rolling(window=21).min())/2\n",
        "data['senkouA'] = ((data['tenkanSen']+data['kijunSen'])/2).shift(21)\n",
        "data['senkouB'] = ((data['High'].rolling(window=55).max()+data['Low'].rolling(window=55).min())/2).shift(21)\n",
        "# Relative Strength Index (RSI)\n",
        "# 21 periods (close)\n",
        "diff = data['Close'].diff()\n",
        "diffUp = diff.clip(lower=0)\n",
        "diffDown = -1*diff.clip(upper=0)\n",
        "averageGain = diffUp.ewm(span=21, min_periods=21).mean()\n",
        "averageLoss = abs(diffDown.ewm(span=21, min_periods=21).mean())\n",
        "relativeStrength = averageGain / averageLoss\n",
        "data['RSI'] = RSI = 100.0 - (100.0 / (1.0 + relativeStrength))\n",
        "# Calculate series of Log return of close prices\n",
        "data['logCloseReturn'] = np.log(data['Close']/data['Close'].shift(1))"
      ],
      "metadata": {
        "id": "Ir6D5Y5W_1dF"
      },
      "execution_count": 286,
      "outputs": []
    },
    {
      "cell_type": "code",
      "source": [
        "######################## Hurst exponent filter ########################\n",
        "'''\n",
        "H = 0.5 — Brownian motion\n",
        "0.5 < H < 1.0 — persistent behavior\n",
        "0 < H < 0.5 — anti-persistent behavior\n",
        "'''\n",
        "# Funcion def calculate Hurst Exponent (available on github on https://github.com/Mottl/hurst)\n",
        "H = lambda x: compute_Hc(x)[0]\n",
        "data['Hurst'] = data['logCloseReturn'].rolling(window=128).apply(H)"
      ],
      "metadata": {
        "id": "FBy27IxipyGL"
      },
      "execution_count": 287,
      "outputs": []
    },
    {
      "cell_type": "code",
      "source": [
        "# Plot the Hurst exponent graphic\n",
        "data['Hurst'].plot(figsize=(8, 5))\n",
        "print('Hurst exponent is', data['Hurst'][-1].round(4))"
      ],
      "metadata": {
        "colab": {
          "base_uri": "https://localhost:8080/",
          "height": 355
        },
        "id": "7XZZy2xm4qkR",
        "outputId": "a04df752-afce-433b-d1bf-d0098626a03a"
      },
      "execution_count": 288,
      "outputs": [
        {
          "output_type": "stream",
          "name": "stdout",
          "text": [
            "Hurst exponent is 0.3056\n"
          ]
        },
        {
          "output_type": "display_data",
          "data": {
            "text/plain": [
              "<Figure size 576x360 with 1 Axes>"
            ],
            "image/png": "[encoded data removed]"
          },
          "metadata": {
            "needs_background": "light"
          }
        }
      ]
    },
    {
      "cell_type": "code",
      "source": [
        "# Dealing with NaN data\n",
        "data.dropna(inplace=True, axis=0)\n",
        "# Visualize database\n",
        "data.tail()"
      ],
      "metadata": {
        "colab": {
          "base_uri": "https://localhost:8080/",
          "height": 388
        },
        "id": "W-AvjuPKzu0W",
        "outputId": "0997321b-08ec-4152-96b6-6f222a3dcd68"
      },
      "execution_count": 289,
      "outputs": [
        {
          "output_type": "execute_result",
          "data": {
            "text/plain": [
              "                                   Open          High           Low  \\\n",
              "Datetime                                                              \n",
              "2022-11-27 18:00:00+00:00  16537.017578  16542.558594  16537.017578   \n",
              "2022-11-27 18:15:00+00:00  16541.449219  16547.275391  16538.546875   \n",
              "2022-11-27 18:30:00+00:00  16547.677734  16555.013672  16547.677734   \n",
              "2022-11-27 18:45:00+00:00  16554.943359  16554.943359  16554.943359   \n",
              "2022-11-27 18:46:00+00:00  16555.564453  16555.564453  16555.564453   \n",
              "\n",
              "                                  Close           mA8          mA13  \\\n",
              "Datetime                                                              \n",
              "2022-11-27 18:00:00+00:00  16540.861328  16545.448095  16548.762514   \n",
              "2022-11-27 18:15:00+00:00  16547.275391  16545.854161  16548.550068   \n",
              "2022-11-27 18:30:00+00:00  16554.443359  16547.762872  16549.391967   \n",
              "2022-11-27 18:45:00+00:00  16554.943359  16549.358536  16550.185023   \n",
              "2022-11-27 18:46:00+00:00  16555.564453  16550.737628  16550.953513   \n",
              "\n",
              "                                   mA55     tenkanSen     kijunSen  \\\n",
              "Datetime                                                             \n",
              "2022-11-27 18:00:00+00:00  16547.403712  16556.678711  16555.40918   \n",
              "2022-11-27 18:15:00+00:00  16547.399129  16555.733398  16555.40918   \n",
              "2022-11-27 18:30:00+00:00  16547.650709  16554.755859  16555.40918   \n",
              "2022-11-27 18:45:00+00:00  16547.911160  16546.851562  16555.40918   \n",
              "2022-11-27 18:46:00+00:00  16548.184492  16547.126953  16555.40918   \n",
              "\n",
              "                                senkouA       senkouB        RSI  \\\n",
              "Datetime                                                           \n",
              "2022-11-27 18:00:00+00:00  16556.235840  16513.039062  43.288572   \n",
              "2022-11-27 18:15:00+00:00  16556.235840  16513.039062  47.879879   \n",
              "2022-11-27 18:30:00+00:00  16556.235840  16519.247070  52.597496   \n",
              "2022-11-27 18:45:00+00:00  16556.235840  16519.247070  52.924444   \n",
              "2022-11-27 18:46:00+00:00  16556.154785  16519.247070  53.363965   \n",
              "\n",
              "                           logCloseReturn     Hurst  \n",
              "Datetime                                             \n",
              "2022-11-27 18:00:00+00:00        0.000229  0.285060  \n",
              "2022-11-27 18:15:00+00:00        0.000388  0.291308  \n",
              "2022-11-27 18:30:00+00:00        0.000433  0.307848  \n",
              "2022-11-27 18:45:00+00:00        0.000030  0.298965  \n",
              "2022-11-27 18:46:00+00:00        0.000038  0.305598  "
            ],
            "text/html": [
              "\n",
              "  <div id=\"df-a7440736-5d9d-4042-8d5c-004187b5fd40\">\n",
              "    <div class=\"colab-df-container\">\n",
              "      <div>\n",
              "<style scoped>\n",
              "    .dataframe tbody tr th:only-of-type {\n",
              "        vertical-align: middle;\n",
              "    }\n",
              "\n",
              "    .dataframe tbody tr th {\n",
              "        vertical-align: top;\n",
              "    }\n",
              "\n",
              "    .dataframe thead th {\n",
              "        text-align: right;\n",
              "    }\n",
              "</style>\n",
              "<table border=\"1\" class=\"dataframe\">\n",
              "  <thead>\n",
              "    <tr style=\"text-align: right;\">\n",
              "      <th></th>\n",
              "      <th>Open</th>\n",
              "      <th>High</th>\n",
              "      <th>Low</th>\n",
              "      <th>Close</th>\n",
              "      <th>mA8</th>\n",
              "      <th>mA13</th>\n",
              "      <th>mA55</th>\n",
              "      <th>tenkanSen</th>\n",
              "      <th>kijunSen</th>\n",
              "      <th>senkouA</th>\n",
              "      <th>senkouB</th>\n",
              "      <th>RSI</th>\n",
              "      <th>logCloseReturn</th>\n",
              "      <th>Hurst</th>\n",
              "    </tr>\n",
              "    <tr>\n",
              "      <th>Datetime</th>\n",
              "      <th></th>\n",
              "      <th></th>\n",
              "      <th></th>\n",
              "      <th></th>\n",
              "      <th></th>\n",
              "      <th></th>\n",
              "      <th></th>\n",
              "      <th></th>\n",
              "      <th></th>\n",
              "      <th></th>\n",
              "      <th></th>\n",
              "      <th></th>\n",
              "      <th></th>\n",
              "      <th></th>\n",
              "    </tr>\n",
              "  </thead>\n",
              "  <tbody>\n",
              "    <tr>\n",
              "      <th>2022-11-27 18:00:00+00:00</th>\n",
              "      <td>16537.017578</td>\n",
              "      <td>16542.558594</td>\n",
              "      <td>16537.017578</td>\n",
              "      <td>16540.861328</td>\n",
              "      <td>16545.448095</td>\n",
              "      <td>16548.762514</td>\n",
              "      <td>16547.403712</td>\n",
              "      <td>16556.678711</td>\n",
              "      <td>16555.40918</td>\n",
              "      <td>16556.235840</td>\n",
              "      <td>16513.039062</td>\n",
              "      <td>43.288572</td>\n",
              "      <td>0.000229</td>\n",
              "      <td>0.285060</td>\n",
              "    </tr>\n",
              "    <tr>\n",
              "      <th>2022-11-27 18:15:00+00:00</th>\n",
              "      <td>16541.449219</td>\n",
              "      <td>16547.275391</td>\n",
              "      <td>16538.546875</td>\n",
              "      <td>16547.275391</td>\n",
              "      <td>16545.854161</td>\n",
              "      <td>16548.550068</td>\n",
              "      <td>16547.399129</td>\n",
              "      <td>16555.733398</td>\n",
              "      <td>16555.40918</td>\n",
              "      <td>16556.235840</td>\n",
              "      <td>16513.039062</td>\n",
              "      <td>47.879879</td>\n",
              "      <td>0.000388</td>\n",
              "      <td>0.291308</td>\n",
              "    </tr>\n",
              "    <tr>\n",
              "      <th>2022-11-27 18:30:00+00:00</th>\n",
              "      <td>16547.677734</td>\n",
              "      <td>16555.013672</td>\n",
              "      <td>16547.677734</td>\n",
              "      <td>16554.443359</td>\n",
              "      <td>16547.762872</td>\n",
              "      <td>16549.391967</td>\n",
              "      <td>16547.650709</td>\n",
              "      <td>16554.755859</td>\n",
              "      <td>16555.40918</td>\n",
              "      <td>16556.235840</td>\n",
              "      <td>16519.247070</td>\n",
              "      <td>52.597496</td>\n",
              "      <td>0.000433</td>\n",
              "      <td>0.307848</td>\n",
              "    </tr>\n",
              "    <tr>\n",
              "      <th>2022-11-27 18:45:00+00:00</th>\n",
              "      <td>16554.943359</td>\n",
              "      <td>16554.943359</td>\n",
              "      <td>16554.943359</td>\n",
              "      <td>16554.943359</td>\n",
              "      <td>16549.358536</td>\n",
              "      <td>16550.185023</td>\n",
              "      <td>16547.911160</td>\n",
              "      <td>16546.851562</td>\n",
              "      <td>16555.40918</td>\n",
              "      <td>16556.235840</td>\n",
              "      <td>16519.247070</td>\n",
              "      <td>52.924444</td>\n",
              "      <td>0.000030</td>\n",
              "      <td>0.298965</td>\n",
              "    </tr>\n",
              "    <tr>\n",
              "      <th>2022-11-27 18:46:00+00:00</th>\n",
              "      <td>16555.564453</td>\n",
              "      <td>16555.564453</td>\n",
              "      <td>16555.564453</td>\n",
              "      <td>16555.564453</td>\n",
              "      <td>16550.737628</td>\n",
              "      <td>16550.953513</td>\n",
              "      <td>16548.184492</td>\n",
              "      <td>16547.126953</td>\n",
              "      <td>16555.40918</td>\n",
              "      <td>16556.154785</td>\n",
              "      <td>16519.247070</td>\n",
              "      <td>53.363965</td>\n",
              "      <td>0.000038</td>\n",
              "      <td>0.305598</td>\n",
              "    </tr>\n",
              "  </tbody>\n",
              "</table>\n",
              "</div>\n",
              "      <button class=\"colab-df-convert\" onclick=\"convertToInteractive('df-a7440736-5d9d-4042-8d5c-004187b5fd40')\"\n",
              "              title=\"Convert this dataframe to an interactive table.\"\n",
              "              style=\"display:none;\">\n",
              "        \n",
              "  <svg xmlns=\"http://www.w3.org/2000/svg\" height=\"24px\"viewBox=\"0 0 24 24\"\n",
              "       width=\"24px\">\n",
              "    <path d=\"M0 0h24v24H0V0z\" fill=\"none\"/>\n",
              "    <path d=\"M18.56 5.44l.94 2.06.94-2.06 2.06-.94-2.06-.94-.94-2.06-.94 2.06-2.06.94zm-11 1L8.5 8.5l.94-2.06 2.06-.94-2.06-.94L8.5 2.5l-.94 2.06-2.06.94zm10 10l.94 2.06.94-2.06 2.06-.94-2.06-.94-.94-2.06-.94 2.06-2.06.94z\"/><path d=\"M17.41 7.96l-1.37-1.37c-.4-.4-.92-.59-1.43-.59-.52 0-1.04.2-1.43.59L10.3 9.45l-7.72 7.72c-.78.78-.78 2.05 0 2.83L4 21.41c.39.39.9.59 1.41.59.51 0 1.02-.2 1.41-.59l7.78-7.78 2.81-2.81c.8-.78.8-2.07 0-2.86zM5.41 20L4 18.59l7.72-7.72 1.47 1.35L5.41 20z\"/>\n",
              "  </svg>\n",
              "      </button>\n",
              "      \n",
              "  <style>\n",
              "    .colab-df-container {\n",
              "      display:flex;\n",
              "      flex-wrap:wrap;\n",
              "      gap: 12px;\n",
              "    }\n",
              "\n",
              "    .colab-df-convert {\n",
              "      background-color: #E8F0FE;\n",
              "      border: none;\n",
              "      border-radius: 50%;\n",
              "      cursor: pointer;\n",
              "      display: none;\n",
              "      fill: #1967D2;\n",
              "      height: 32px;\n",
              "      padding: 0 0 0 0;\n",
              "      width: 32px;\n",
              "    }\n",
              "\n",
              "    .colab-df-convert:hover {\n",
              "      background-color: #E2EBFA;\n",
              "      box-shadow: 0px 1px 2px rgba(60, 64, 67, 0.3), 0px 1px 3px 1px rgba(60, 64, 67, 0.15);\n",
              "      fill: #174EA6;\n",
              "    }\n",
              "\n",
              "    [theme=dark] .colab-df-convert {\n",
              "      background-color: #3B4455;\n",
              "      fill: #D2E3FC;\n",
              "    }\n",
              "\n",
              "    [theme=dark] .colab-df-convert:hover {\n",
              "      background-color: #434B5C;\n",
              "      box-shadow: 0px 1px 3px 1px rgba(0, 0, 0, 0.15);\n",
              "      filter: drop-shadow(0px 1px 2px rgba(0, 0, 0, 0.3));\n",
              "      fill: #FFFFFF;\n",
              "    }\n",
              "  </style>\n",
              "\n",
              "      <script>\n",
              "        const buttonEl =\n",
              "          document.querySelector('#df-a7440736-5d9d-4042-8d5c-004187b5fd40 button.colab-df-convert');\n",
              "        buttonEl.style.display =\n",
              "          google.colab.kernel.accessAllowed ? 'block' : 'none';\n",
              "\n",
              "        async function convertToInteractive(key) {\n",
              "          const element = document.querySelector('#df-a7440736-5d9d-4042-8d5c-004187b5fd40');\n",
              "          const dataTable =\n",
              "            await google.colab.kernel.invokeFunction('convertToInteractive',\n",
              "                                                     [key], {});\n",
              "          if (!dataTable) return;\n",
              "\n",
              "          const docLinkHtml = 'Like what you see? Visit the ' +\n",
              "            '<a target=\"_blank\" href=https://colab.research.google.com/notebooks/data_table.ipynb>data table notebook</a>'\n",
              "            + ' to learn more about interactive tables.';\n",
              "          element.innerHTML = '';\n",
              "          dataTable['output_type'] = 'display_data';\n",
              "          await google.colab.output.renderOutput(dataTable, element);\n",
              "          const docLink = document.createElement('div');\n",
              "          docLink.innerHTML = docLinkHtml;\n",
              "          element.appendChild(docLink);\n",
              "        }\n",
              "      </script>\n",
              "    </div>\n",
              "  </div>\n",
              "  "
            ]
          },
          "metadata": {},
          "execution_count": 289
        }
      ]
    },
    {
      "cell_type": "code",
      "source": [
        "# Capturing all required current values of variables\n",
        "currentValues = dict()\n",
        "# Close price\n",
        "currentValues['currentClosePrice'] = currentClosePrice = data['Close'][-1]\n",
        "# Open price\n",
        "currentValues['currentOpenPrice'] = currentOpenPrice = data['Open'][-1]\n",
        "# Moving average\n",
        "currentValues['currentMa8'] = currentMa8 = data['mA8'][-1]\n",
        "currentValues['currentMa13'] = currentMa13 = data['mA13'][-1]\n",
        "currentValues['currentMa55'] = currentMa55 = data['mA55'][-1]\n",
        "# Ichimoku Cloud\n",
        "currentValues['currentSenkouA'] = currentSenkouA = data['senkouA'][-1]\n",
        "currentValues['currentSenkouB'] = currentSenkouB = data['senkouB'][-1]\n",
        "# RSI\n",
        "currentValues['currentRsi'] = currentRsi = data['RSI'][-1]\n",
        "# Hurst exponent\n",
        "currentValues['currentHurst'] = currentHurst = data['Hurst'][-1]"
      ],
      "metadata": {
        "id": "LnSmVqPG614V"
      },
      "execution_count": 290,
      "outputs": []
    },
    {
      "cell_type": "code",
      "source": [
        " # Strategy\n",
        "## Buy\n",
        "if currentOpenPrice > currentMa8 and currentClosePrice > currentMa8 and currentMa8 > currentMa13 and currentMa13 > currentSenkouA and currentSenkouA > currentSenkouB and currentRSI > 50 and 1 > currentHurst > 0.5:\n",
        "  print('Buy')\n",
        "else:\n",
        "  print('Wait')\n",
        "  \n",
        "### Sell\n",
        "if currentOpenPrice < currentMa8 and currentClosePrice < currentMa8 and currentMa8 < currentMa13 and currentMa13 < currentSenkouA and currentSenkouA < currentSenkouB and currentRSI < 50 and 1 > currentHurst > 0.5:\n",
        "  print('Sell')\n",
        "else:\n",
        "  print('Wait')"
      ],
      "metadata": {
        "colab": {
          "base_uri": "https://localhost:8080/"
        },
        "id": "6-GkNcOnYebD",
        "outputId": "c7bacc22-a685-4d84-a371-26c843490348"
      },
      "execution_count": 291,
      "outputs": [
        {
          "output_type": "stream",
          "name": "stdout",
          "text": [
            "Wait\n",
            "Wait\n"
          ]
        }
      ]
    }
  ]
}