{
  "nbformat": 4,
  "nbformat_minor": 0,
  "metadata": {
    "colab": {
      "provenance": [],
      "authorship_tag": "ABX9TyMj0EwCvfXMXckWY4SIj8hj",
      "include_colab_link": true
    },
    "kernelspec": {
      "name": "python3",
      "display_name": "Python 3"
    },
    "language_info": {
      "name": "python"
    }
  },
  "cells": [
    {
      "cell_type": "markdown",
      "metadata": {
        "id": "view-in-github",
        "colab_type": "text"
      },
      "source": [
        "<a href=\"https://colab.research.google.com/github/flexinJ/flexinBot/blob/main/flexinBot.ipynb\" target=\"_parent\"><img src=\"https://colab.research.google.com/assets/colab-badge.svg\" alt=\"Open In Colab\"/></a>"
      ]
    },
    {
      "cell_type": "code",
      "execution_count": null,
      "metadata": {
        "colab": {
          "base_uri": "https://localhost:8080/"
        },
        "id": "t_aFRGeP8o2w",
        "outputId": "eaa2db3c-70ef-4ba4-88dd-8285c9c5770a"
      },
      "outputs": [
        {
          "output_type": "stream",
          "name": "stdout",
          "text": [
            "Looking in indexes: https://pypi.org/simple, https://us-python.pkg.dev/colab-wheels/public/simple/\n",
            "Requirement already satisfied: yfinance in /usr/local/lib/python3.7/dist-packages (0.1.87)\n",
            "Requirement already satisfied: requests>=2.26 in /usr/local/lib/python3.7/dist-packages (from yfinance) (2.28.1)\n",
            "Requirement already satisfied: numpy>=1.15 in /usr/local/lib/python3.7/dist-packages (from yfinance) (1.21.6)\n",
            "Requirement already satisfied: multitasking>=0.0.7 in /usr/local/lib/python3.7/dist-packages (from yfinance) (0.0.11)\n",
            "Requirement already satisfied: appdirs>=1.4.4 in /usr/local/lib/python3.7/dist-packages (from yfinance) (1.4.4)\n",
            "Requirement already satisfied: lxml>=4.5.1 in /usr/local/lib/python3.7/dist-packages (from yfinance) (4.9.1)\n",
            "Requirement already satisfied: pandas>=0.24.0 in /usr/local/lib/python3.7/dist-packages (from yfinance) (1.3.5)\n",
            "Requirement already satisfied: python-dateutil>=2.7.3 in /usr/local/lib/python3.7/dist-packages (from pandas>=0.24.0->yfinance) (2.8.2)\n",
            "Requirement already satisfied: pytz>=2017.3 in /usr/local/lib/python3.7/dist-packages (from pandas>=0.24.0->yfinance) (2022.6)\n",
            "Requirement already satisfied: six>=1.5 in /usr/local/lib/python3.7/dist-packages (from python-dateutil>=2.7.3->pandas>=0.24.0->yfinance) (1.15.0)\n",
            "Requirement already satisfied: certifi>=2017.4.17 in /usr/local/lib/python3.7/dist-packages (from requests>=2.26->yfinance) (2022.9.24)\n",
            "Requirement already satisfied: charset-normalizer<3,>=2 in /usr/local/lib/python3.7/dist-packages (from requests>=2.26->yfinance) (2.1.1)\n",
            "Requirement already satisfied: idna<4,>=2.5 in /usr/local/lib/python3.7/dist-packages (from requests>=2.26->yfinance) (2.10)\n",
            "Requirement already satisfied: urllib3<1.27,>=1.21.1 in /usr/local/lib/python3.7/dist-packages (from requests>=2.26->yfinance) (1.24.3)\n",
            "Looking in indexes: https://pypi.org/simple, https://us-python.pkg.dev/colab-wheels/public/simple/\n",
            "Requirement already satisfied: numpy in /usr/local/lib/python3.7/dist-packages (1.21.6)\n",
            "Looking in indexes: https://pypi.org/simple, https://us-python.pkg.dev/colab-wheels/public/simple/\n",
            "Requirement already satisfied: pandas in /usr/local/lib/python3.7/dist-packages (1.3.5)\n",
            "Requirement already satisfied: pytz>=2017.3 in /usr/local/lib/python3.7/dist-packages (from pandas) (2022.6)\n",
            "Requirement already satisfied: numpy>=1.17.3 in /usr/local/lib/python3.7/dist-packages (from pandas) (1.21.6)\n",
            "Requirement already satisfied: python-dateutil>=2.7.3 in /usr/local/lib/python3.7/dist-packages (from pandas) (2.8.2)\n",
            "Requirement already satisfied: six>=1.5 in /usr/local/lib/python3.7/dist-packages (from python-dateutil>=2.7.3->pandas) (1.15.0)\n",
            "Looking in indexes: https://pypi.org/simple, https://us-python.pkg.dev/colab-wheels/public/simple/\n",
            "Requirement already satisfied: hurst in /usr/local/lib/python3.7/dist-packages (0.0.5)\n",
            "Requirement already satisfied: numpy>=1.10 in /usr/local/lib/python3.7/dist-packages (from hurst) (1.21.6)\n",
            "Requirement already satisfied: pandas>=0.18 in /usr/local/lib/python3.7/dist-packages (from hurst) (1.3.5)\n",
            "Requirement already satisfied: python-dateutil>=2.7.3 in /usr/local/lib/python3.7/dist-packages (from pandas>=0.18->hurst) (2.8.2)\n",
            "Requirement already satisfied: pytz>=2017.3 in /usr/local/lib/python3.7/dist-packages (from pandas>=0.18->hurst) (2022.6)\n",
            "Requirement already satisfied: six>=1.5 in /usr/local/lib/python3.7/dist-packages (from python-dateutil>=2.7.3->pandas>=0.18->hurst) (1.15.0)\n"
          ]
        }
      ],
      "source": [
        "# Downloading required packages\n",
        "!pip install yfinance\n",
        "!pip install numpy\n",
        "!pip install pandas\n",
        "!pip install hurst"
      ]
    },
    {
      "cell_type": "code",
      "source": [
        "# Import of the necessary modules\n",
        "import numpy as np\n",
        "import pandas as pd\n",
        "import math\n",
        "import yfinance as yf\n",
        "from hurst import compute_Hc\n",
        "import matplotlib.pyplot as plt\n",
        "from IPython.display import clear_output \n",
        "from time import sleep"
      ],
      "metadata": {
        "id": "NsE9PTzF9hB7"
      },
      "execution_count": null,
      "outputs": []
    },
    {
      "cell_type": "code",
      "source": [
        "######################## Welcome ##########################\n",
        "# Based in fibo sequence.\n",
        "# Flexin (@moraisjota) make this ~ enjoy xD\n",
        "######################## FlexinBot ########################"
      ],
      "metadata": {
        "id": "afGCAGmh-QT-"
      },
      "execution_count": null,
      "outputs": []
    },
    {
      "cell_type": "code",
      "source": [
        "class tradingSystem():\n",
        "  def flexin(symbol, dateRange, timeFrame):\n",
        "    ######################## DataFrame ########################\n",
        "    # Finance database import\n",
        "    data = yf.Ticker(symbol).history(period=dateRange, interval=timeFrame)\n",
        "    data.drop(['Volume', 'Dividends', 'Stock Splits'], axis=1, inplace=True)\n",
        "    ######################## Indicators ########################\n",
        "    # Moving average\n",
        "    # 8, 13 and 55 periods (EMA, Adj close)\n",
        "    data['mA8'] = data['Close'].ewm(span=8, min_periods=8).mean()\n",
        "    data['mA13'] = data['Close'].ewm(span=13, min_periods=13).mean()\n",
        "    data['mA55'] = data['High'].ewm(span=55, min_periods=55).mean()\n",
        "    # Ichimoku Cloud\n",
        "    # 8, 21 and 55 periods\n",
        "    data['tenkanSen'] = (data['High'].rolling(window=8).max()+data['High'].rolling(window=8).min())/2\n",
        "    data['kijunSen'] = (data['High'].rolling(window=21).max()+data['Low'].rolling(window=21).min())/2\n",
        "    data['senkouA'] = ((data['tenkanSen']+data['kijunSen'])/2).shift(21)\n",
        "    data['senkouB'] = ((data['High'].rolling(window=55).max()+data['Low'].rolling(window=55).min())/2).shift(21)\n",
        "    # Relative Strength Index (RSI)\n",
        "    # 21 periods (close) \n",
        "    diff = data['Close'].diff()\n",
        "    diffUp = diff.clip(lower=0)\n",
        "    diffDown = -1*diff.clip(upper=0)\n",
        "    averageGain = diffUp.ewm(span=21, min_periods=21).mean()\n",
        "    averageLoss = abs(diffDown.ewm(span=21, min_periods=21).mean())\n",
        "    relativeStrength = averageGain / averageLoss\n",
        "    data['RSI'] = RSI = 100.0 - (100.0 / (1.0 + relativeStrength))\n",
        "    # Calculate series of Log return of close prices \n",
        "    data['logCloseReturn'] = np.log(data['Close']/data['Close'].shift(1))\n",
        "    ######################## Hurst exponent filter ########################\n",
        "    '''\n",
        "    H = 0.5 — Brownian motion\n",
        "    0.5 < H < 1.0 — persistent behavior\n",
        "    0 < H < 0.5 — anti-persistent behavior\n",
        "    '''\n",
        "    # Funcion def calculate Hurst Exponent (available on github on https://github.com/Mottl/hurst)\n",
        "    H = lambda x: compute_Hc(x)[0]\n",
        "    data['Hurst'] = data['logCloseReturn'].rolling(window=100).apply(H)\n",
        "    # Dealing with NaN data\n",
        "    data.dropna(inplace=True, axis=0)\n",
        "    ######################## Current values ########################\n",
        "    # Capturing all required current values of variables\n",
        "    currentValues = dict()\n",
        "    # Close price\n",
        "    currentValues['currentClosePrice'] = currentClosePrice = data['Close'][-1]\n",
        "    # Open price\n",
        "    currentValues['currentOpenPrice'] = currentOpenPrice = data['Open'][-1]\n",
        "    # Moving average\n",
        "    currentValues['currentMa8'] = currentMa8 = data['mA8'][-1]\n",
        "    currentValues['currentMa13'] = currentMa13 = data['mA13'][-1]\n",
        "    currentValues['currentMa55'] = currentMa55 = data['mA55'][-1]\n",
        "    # Ichimoku Cloud\n",
        "    currentValues['currentSenkouA'] = currentSenkouA = data['senkouA'][-1]\n",
        "    currentValues['currentSenkouB'] = currentSenkouB = data['senkouB'][-1]\n",
        "    # RSI\n",
        "    currentValues['currentRsi'] = currentRsi = data['RSI'][-1]\n",
        "    # Hurst exponent\n",
        "    currentValues['currentHurst'] = currentHurst = data['Hurst'][-1]\n",
        "    ######################## Flexin strategy ########################\n",
        "    # Buy\n",
        "    if currentClosePrice > currentMa8 and currentOpenPrice > currentMa8 and currentMa8 > currentMa13 and currentMa13 > currentMa55 and currentMa13 > currentSenkouA and currentSenkouA > currentSenkouB and currentRsi > 50 and 1 > currentHurst > 0.5:\n",
        "      buy = True\n",
        "      print('Buy:', buy)\n",
        "    else:\n",
        "      print('Buy: False')\n",
        "    # Sell\n",
        "    if currentClosePrice < currentMa8 and currentOpenPrice < currentMa8 and currentMa8 < currentMa13 and currentMa13 < currentMa55 and currentMa13 < currentSenkouA and currentSenkouA < currentSenkouB and currentRsi < 50 and 1 > currentHurst > 0.5:\n",
        "      sell = True\n",
        "      print('Sell: ', sell)\n",
        "    else:\n",
        "      print('Sell: False')\n",
        "    # Hurst exponent\n",
        "    print('Hurst exponent is equal to', data['Hurst'][-1].round(2))\n"
      ],
      "metadata": {
        "id": "Ir6D5Y5W_1dF"
      },
      "execution_count": null,
      "outputs": []
    },
    {
      "cell_type": "code",
      "source": [
        "#'EURUSD=X', '1mo', '15m'\n",
        "while True:\n",
        "  tradingSystem.flexin('EURUSD=X', 'max', '1m')\n",
        "  print('\\n“O importante é entender profundamente as coisas e as relações entre elas.\\n É nisso que reside a inteligência.”\\n')\n",
        "  sleep(60)\n",
        "  clear_output()"
      ],
      "metadata": {
        "id": "AZvXDWeU-zd3"
      },
      "execution_count": null,
      "outputs": []
    }
  ]
}