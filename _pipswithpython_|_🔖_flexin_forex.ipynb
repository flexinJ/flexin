{
  "cells": [
    {
      "cell_type": "markdown",
      "metadata": {
        "id": "view-in-github",
        "colab_type": "text"
      },
      "source": [
        "<a href=\"https://colab.research.google.com/github/flexinJ/flexin/blob/main/_pipswithpython_%7C_%F0%9F%94%96_flexin_forex.ipynb\" target=\"_parent\"><img src=\"https://colab.research.google.com/assets/colab-badge.svg\" alt=\"Open In Colab\"/></a>"
      ]
    },
    {
      "cell_type": "markdown",
      "metadata": {
        "id": "ulB7RIHbDyXb"
      },
      "source": [
        "# **Pips With Python** 💸"
      ]
    },
    {
      "cell_type": "markdown",
      "metadata": {
        "id": "SheTPxVD8bK5"
      },
      "source": [
        "**Dependencies**"
      ]
    },
    {
      "cell_type": "code",
      "execution_count": 1,
      "metadata": {
        "id": "deNjJ2VIHK7x",
        "colab": {
          "base_uri": "https://localhost:8080/"
        },
        "outputId": "cb4c5dbf-0115-4f0d-efbb-fc1696ce6e8b"
      },
      "outputs": [
        {
          "output_type": "stream",
          "name": "stdout",
          "text": [
            "Collecting hurst\n",
            "  Downloading hurst-0.0.5-py3-none-any.whl.metadata (3.6 kB)\n",
            "Requirement already satisfied: yfinance in /usr/local/lib/python3.10/dist-packages (0.2.43)\n",
            "Collecting pandas_ta\n",
            "  Downloading pandas_ta-0.3.14b.tar.gz (115 kB)\n",
            "\u001b[2K     \u001b[90m━━━━━━━━━━━━━━━━━━━━━━━━━━━━━━━━━━━━━━━━\u001b[0m \u001b[32m115.1/115.1 kB\u001b[0m \u001b[31m2.2 MB/s\u001b[0m eta \u001b[36m0:00:00\u001b[0m\n",
            "\u001b[?25h  Preparing metadata (setup.py) ... \u001b[?25l\u001b[?25hdone\n",
            "Requirement already satisfied: requests in /usr/local/lib/python3.10/dist-packages (2.32.3)\n",
            "Requirement already satisfied: pandas in /usr/local/lib/python3.10/dist-packages (2.1.4)\n",
            "Requirement already satisfied: numpy in /usr/local/lib/python3.10/dist-packages (1.26.4)\n",
            "Requirement already satisfied: multitasking>=0.0.7 in /usr/local/lib/python3.10/dist-packages (from yfinance) (0.0.11)\n",
            "Requirement already satisfied: lxml>=4.9.1 in /usr/local/lib/python3.10/dist-packages (from yfinance) (4.9.4)\n",
            "Requirement already satisfied: platformdirs>=2.0.0 in /usr/local/lib/python3.10/dist-packages (from yfinance) (4.2.2)\n",
            "Requirement already satisfied: pytz>=2022.5 in /usr/local/lib/python3.10/dist-packages (from yfinance) (2024.1)\n",
            "Requirement already satisfied: frozendict>=2.3.4 in /usr/local/lib/python3.10/dist-packages (from yfinance) (2.4.4)\n",
            "Requirement already satisfied: peewee>=3.16.2 in /usr/local/lib/python3.10/dist-packages (from yfinance) (3.17.6)\n",
            "Requirement already satisfied: beautifulsoup4>=4.11.1 in /usr/local/lib/python3.10/dist-packages (from yfinance) (4.12.3)\n",
            "Requirement already satisfied: html5lib>=1.1 in /usr/local/lib/python3.10/dist-packages (from yfinance) (1.1)\n",
            "Requirement already satisfied: charset-normalizer<4,>=2 in /usr/local/lib/python3.10/dist-packages (from requests) (3.3.2)\n",
            "Requirement already satisfied: idna<4,>=2.5 in /usr/local/lib/python3.10/dist-packages (from requests) (3.8)\n",
            "Requirement already satisfied: urllib3<3,>=1.21.1 in /usr/local/lib/python3.10/dist-packages (from requests) (2.0.7)\n",
            "Requirement already satisfied: certifi>=2017.4.17 in /usr/local/lib/python3.10/dist-packages (from requests) (2024.7.4)\n",
            "Requirement already satisfied: python-dateutil>=2.8.2 in /usr/local/lib/python3.10/dist-packages (from pandas) (2.8.2)\n",
            "Requirement already satisfied: tzdata>=2022.1 in /usr/local/lib/python3.10/dist-packages (from pandas) (2024.1)\n",
            "Requirement already satisfied: soupsieve>1.2 in /usr/local/lib/python3.10/dist-packages (from beautifulsoup4>=4.11.1->yfinance) (2.6)\n",
            "Requirement already satisfied: six>=1.9 in /usr/local/lib/python3.10/dist-packages (from html5lib>=1.1->yfinance) (1.16.0)\n",
            "Requirement already satisfied: webencodings in /usr/local/lib/python3.10/dist-packages (from html5lib>=1.1->yfinance) (0.5.1)\n",
            "Downloading hurst-0.0.5-py3-none-any.whl (5.9 kB)\n",
            "Building wheels for collected packages: pandas_ta\n",
            "  Building wheel for pandas_ta (setup.py) ... \u001b[?25l\u001b[?25hdone\n",
            "  Created wheel for pandas_ta: filename=pandas_ta-0.3.14b0-py3-none-any.whl size=218909 sha256=4a337ac5fc649617efb38f0ed96f3f992f43a37939508f2b6343a323dade7741\n",
            "  Stored in directory: /root/.cache/pip/wheels/69/00/ac/f7fa862c34b0e2ef320175100c233377b4c558944f12474cf0\n",
            "Successfully built pandas_ta\n",
            "Installing collected packages: pandas_ta, hurst\n",
            "Successfully installed hurst-0.0.5 pandas_ta-0.3.14b0\n"
          ]
        }
      ],
      "source": [
        "!pip install hurst yfinance pandas_ta requests pandas numpy"
      ]
    },
    {
      "cell_type": "markdown",
      "metadata": {
        "id": "XuqyoISVGUnI"
      },
      "source": [
        "**Imports**"
      ]
    },
    {
      "cell_type": "code",
      "execution_count": 2,
      "metadata": {
        "id": "kTQPWMVqJGNB"
      },
      "outputs": [],
      "source": [
        "import requests\n",
        "import yfinance as yf\n",
        "import pandas as pd\n",
        "import numpy as np\n",
        "from hurst import compute_Hc\n",
        "import pandas_ta as ta\n",
        "from IPython.display import clear_output\n",
        "from time import sleep"
      ]
    },
    {
      "cell_type": "markdown",
      "metadata": {
        "id": "d6HrCvblYCV_"
      },
      "source": [
        "**Data**"
      ]
    },
    {
      "cell_type": "code",
      "execution_count": 3,
      "metadata": {
        "id": "mBL2-B7DFGyR"
      },
      "outputs": [],
      "source": [
        "def getFinanceDataFrameBy(ticker, period, interval):\n",
        "  '''\n",
        "    Get data from Yahoo Finance.\n",
        "      param ticker: str\n",
        "      param period: str\n",
        "      param interval: str\n",
        "  '''\n",
        "  try:\n",
        "    df = yf.Ticker(ticker).history(period, interval)\n",
        "    df['Ticker'], df['Period'], df['Interval'] = ticker, period, interval\n",
        "    df.drop(['Volume', 'Dividends', 'Stock Splits'], axis=1, inplace=True)\n",
        "    df = fixDateTimeColumnIn(df)\n",
        "    df = log(df)\n",
        "    df = hurst(df)\n",
        "    df = smooth(df)\n",
        "    df = fast(df)\n",
        "    df = twentyfour(df)\n",
        "    df = slow(df)\n",
        "    df = f(df)\n",
        "    df = adx(df)\n",
        "    df = cleanNanRowsIn(df)\n",
        "    return df\n",
        "  except:\n",
        "    return f'❌ Error collect data for {ticker}.'"
      ]
    },
    {
      "cell_type": "markdown",
      "metadata": {
        "id": "AyooRmn7SBi8"
      },
      "source": [
        "**Fix**"
      ]
    },
    {
      "cell_type": "code",
      "execution_count": 4,
      "metadata": {
        "id": "kFlRVVHpHyyy"
      },
      "outputs": [],
      "source": [
        "def fixDateTimeColumnIn(dataFrame):\n",
        "  '''\n",
        "    Fix datetime.\n",
        "      param dataframe: pd.DataFrame\n",
        "  '''\n",
        "  try:\n",
        "    if 'Datetime' not in dataFrame.columns:\n",
        "      dataFrame['Datetime'] = pd.to_datetime(dataFrame.index)\n",
        "      return dataFrame\n",
        "    else:\n",
        "      return dataFrame\n",
        "  except:\n",
        "    return f'❌ Error in fix datetime.'"
      ]
    },
    {
      "cell_type": "code",
      "execution_count": 5,
      "metadata": {
        "id": "_H4JTGIFEJpX"
      },
      "outputs": [],
      "source": [
        "def cleanNanRowsIn(dataFrame):\n",
        "  '''\n",
        "    Drop NaN rows.\n",
        "      param df: pd.DataFrame\n",
        "  '''\n",
        "  try:\n",
        "    dataFrame = dataFrame.dropna()\n",
        "    return dataFrame\n",
        "  except:\n",
        "    return f'❌ Error in drop NaN rows.'"
      ]
    },
    {
      "cell_type": "markdown",
      "metadata": {
        "id": "v7v0FfWvoko0"
      },
      "source": [
        "**Tools**"
      ]
    },
    {
      "cell_type": "code",
      "execution_count": 6,
      "metadata": {
        "id": "HdqLrEXfbXf6"
      },
      "outputs": [],
      "source": [
        "def discord(message):\n",
        "  '''\n",
        "    Send a message to a Discord channel using a webhook.\n",
        "      param message: str\n",
        "  '''\n",
        "  url = 'https://discord.com/api/webhooks/1267663408996552816/-tCBhj8C-rbEc7gSKhktIkcmpDs99RjdNJj03MDnnciMNIJABIUTg3GBcRGRxqRC_p2D'\n",
        "  data = {\n",
        "      'content': message\n",
        "      }\n",
        "  try:\n",
        "    response = requests.post(url, json=data)\n",
        "  except:\n",
        "    return f'❌ Error sending message to discord.'"
      ]
    },
    {
      "cell_type": "code",
      "execution_count": 7,
      "metadata": {
        "id": "mF1baPg-X-ce"
      },
      "outputs": [],
      "source": [
        "def transition():\n",
        "  '''\n",
        "    Transition.\n",
        "  '''\n",
        "  clear_output(wait=True)\n",
        "  sleep(1)"
      ]
    },
    {
      "cell_type": "markdown",
      "metadata": {
        "id": "nTd7qmzyxrPL"
      },
      "source": [
        "**Moving verages**"
      ]
    },
    {
      "cell_type": "code",
      "execution_count": 8,
      "metadata": {
        "id": "1hN4LgxGU04z"
      },
      "outputs": [],
      "source": [
        "def fast(df):\n",
        "  '''\n",
        "    Compute fast exponential moving average.\n",
        "      param df: pd.DataFrame\n",
        "  '''\n",
        "  try:\n",
        "    df['Fast'] = df['Close'].ewm(50).mean()\n",
        "    return df\n",
        "  except:\n",
        "    return f'❌ Error compute fast exponential moving average.'"
      ]
    },
    {
      "cell_type": "code",
      "execution_count": 9,
      "metadata": {
        "id": "EKYvUPh6Y6r-"
      },
      "outputs": [],
      "source": [
        "def twentyfour(df):\n",
        "  '''\n",
        "    Compute shifted fast exponential moving average.\n",
        "      param df: pd.DataFrame\n",
        "  '''\n",
        "  try:\n",
        "    df['Twentyfour'] = df['Fast'].shift(24)\n",
        "    return df\n",
        "  except:\n",
        "    return f'❌ Error compute shifted fast exponential moving average.'"
      ]
    },
    {
      "cell_type": "code",
      "execution_count": 10,
      "metadata": {
        "id": "WmkorYfLgv4X"
      },
      "outputs": [],
      "source": [
        "def slow(df):\n",
        "  '''\n",
        "    Compute slow exponential moving average.\n",
        "      param df: pd.DataFrame\n",
        "  '''\n",
        "  try:\n",
        "    df['Slow'] = df['Close'].ewm(100).mean()\n",
        "    return df\n",
        "  except:\n",
        "    return f'❌ Error compute slow exponential moving average.'"
      ]
    },
    {
      "cell_type": "code",
      "execution_count": 11,
      "metadata": {
        "id": "k7eez03IhncC"
      },
      "outputs": [],
      "source": [
        "def f(df):\n",
        "  '''\n",
        "    Compute flexin exponential moving average.\n",
        "      param df: pd.DataFrame\n",
        "  '''\n",
        "  try:\n",
        "    df['Flexin'] = df['Close'].ewm(len(df['Close'])/2).mean()\n",
        "    return df\n",
        "  except:\n",
        "    return f'❌ Error compute flexin exponential moving average.'"
      ]
    },
    {
      "cell_type": "markdown",
      "metadata": {
        "id": "rGQrvIEkx6Ia"
      },
      "source": [
        "Quantitative"
      ]
    },
    {
      "cell_type": "code",
      "execution_count": 12,
      "metadata": {
        "id": "GHOHLeHSGbd1"
      },
      "outputs": [],
      "source": [
        "def log(df):\n",
        "  '''\n",
        "    Compute log return.\n",
        "      param df: pd.DataFrame\n",
        "  '''\n",
        "  try:\n",
        "    df['Log'] = np.log(df['Close']/df['Close'].shift(1))\n",
        "    return df\n",
        "  except:\n",
        "    return f'❌ Error compute log return.'"
      ]
    },
    {
      "cell_type": "code",
      "execution_count": 13,
      "metadata": {
        "id": "98dnZJj72IgU"
      },
      "outputs": [],
      "source": [
        "def hurst(df):\n",
        "  '''\n",
        "    Compute hurst exponent.\n",
        "      param df: pd.DataFrame\n",
        "  '''\n",
        "  try:\n",
        "    H = lambda x: compute_Hc(x)[0]\n",
        "    df['Hurst'] = df['Log'].rolling(window=100).apply(H)\n",
        "    return df\n",
        "  except:\n",
        "    return f'❌ Error compute hurst exponent.'"
      ]
    },
    {
      "cell_type": "code",
      "execution_count": 14,
      "metadata": {
        "id": "UdSk58mKPMfd"
      },
      "outputs": [],
      "source": [
        "def smooth(df, smooth=[5, 25, 50, 75, 100]):\n",
        "  '''\n",
        "    Compute smooth hurst exponent of log returns.\n",
        "      param df: pd.DataFrame\n",
        "      param smooth: list\n",
        "  '''\n",
        "  try:\n",
        "    for s in smooth:\n",
        "      df[f'H_{s}'] = df['Hurst'].ewm(s).mean()\n",
        "      continue\n",
        "    return df\n",
        "  except:\n",
        "    return f'❌ Error compute smooth hurst exponent.'"
      ]
    },
    {
      "cell_type": "code",
      "execution_count": 15,
      "metadata": {
        "id": "DIqC3LOSWrTt"
      },
      "outputs": [],
      "source": [
        "def adx(df):\n",
        "  '''\n",
        "    Compute average directional index.\n",
        "      param df: pd.DataFrame\n",
        "  '''\n",
        "  try:\n",
        "    adx = ta.adx(df['High'], df['Low'], df['Close'], length=14)\n",
        "    df = df.join(adx)\n",
        "    return df\n",
        "  except:\n",
        "    return f'❌ Error compute average directional index.'"
      ]
    },
    {
      "cell_type": "markdown",
      "metadata": {
        "id": "fZKJyEzZu54k"
      },
      "source": [
        "Info"
      ]
    },
    {
      "cell_type": "code",
      "execution_count": 16,
      "metadata": {
        "id": "Jj4G5JMnu8KJ"
      },
      "outputs": [],
      "source": [
        "def long(df):\n",
        "  '''\n",
        "    Long.\n",
        "      param df: pd.DataFrame\n",
        "  '''\n",
        "  try:\n",
        "    type = 'Up-trend'\n",
        "    ticker = df['Ticker'].iloc[-1]\n",
        "    period = df['Period'].iloc[-1]\n",
        "    date = df['Datetime'].iloc[-1]\n",
        "    interval = df['Interval'].iloc[-1]\n",
        "    discord(f'📈{type} for next {period}, 🔖{ticker}, 📅{date}, ⌚{interval}, 🌱{hurst.round(2)} | developed by pipswithpython💸.')\n",
        "    return f'📈{type} for next {period}, 🔖{ticker}, 📅{date}, ⌚{interval}, 🌱{hurst.round(2)} | developed by pipswithpython💸.'\n",
        "  except:\n",
        "    return f'❌ Error long position.'"
      ]
    },
    {
      "cell_type": "code",
      "execution_count": 17,
      "metadata": {
        "id": "BiHOuEZgvaHI"
      },
      "outputs": [],
      "source": [
        "def short(df):\n",
        "  '''\n",
        "    Short.\n",
        "      param df: pd.DataFrame\n",
        "  '''\n",
        "  try:\n",
        "    type = 'Down-trend'\n",
        "    ticker = df['Ticker'].iloc[-1]\n",
        "    period = df['Period'].iloc[-1]\n",
        "    date = df['Datetime'].iloc[-1]\n",
        "    interval = df['Interval'].iloc[-1]\n",
        "    hurst = df['Hurst'].iloc[-1]\n",
        "    discord(f'📉{type} for next {period}, 🔖{ticker}, 📅{date}, ⌚{interval}, 🌱{hurst.round(2)} | developed by pipswithpython💸.')\n",
        "    return f'📉{type} for next {period}, 🔖{ticker}, 📅{date}, ⌚{interval}, 🌱{hurst.round(2)} | developed by pipswithpython💸.'\n",
        "  except:\n",
        "    return f'❌ Error short position.'"
      ]
    },
    {
      "cell_type": "code",
      "execution_count": 18,
      "metadata": {
        "id": "89k4Trchv208"
      },
      "outputs": [],
      "source": [
        "def nothinIn(df):\n",
        "  '''\n",
        "    No signal.\n",
        "      param df: pd.DataFrame\n",
        "  '''\n",
        "  try:\n",
        "    ticker = df['Ticker'].iloc[-1]\n",
        "    period = df['Period'].iloc[-1]\n",
        "    date = df['Datetime'].iloc[-1]\n",
        "    interval = df['Interval'].iloc[-1]\n",
        "    hurst = df['Hurst'].iloc[-1]\n",
        "    adx = df['ADX_14'].iloc[-1]\n",
        "    return f'💤Nothin for next {period}, 🔖{ticker}, 📅{date}, ⌚{interval}, 🌱{hurst.round(2)}, ⚡{adx.round(2)} | developed by pipswithpython💸.'\n",
        "  except:\n",
        "    return f'❌ Error in no signal function.'"
      ]
    },
    {
      "cell_type": "markdown",
      "metadata": {
        "id": "fUgl8Sw3HmjF"
      },
      "source": [
        "Verify"
      ]
    },
    {
      "cell_type": "code",
      "execution_count": 19,
      "metadata": {
        "id": "nMCzy1VY-bq2"
      },
      "outputs": [],
      "source": [
        "def hurstExponentConvergenceIn(df):\n",
        "  '''\n",
        "    Verify Hurst Exponent Convergence.\n",
        "      param df: pd.DataFrame\n",
        "  '''\n",
        "  v = None\n",
        "  try:\n",
        "    if df['Hurst'].iloc[-1]>0.55 and df['H_5'].iloc[-1]>df['H_25'].iloc[-1] and df['H_25'].iloc[-1]>df['H_50'].iloc[-1] and df['H_50'].iloc[-1]>df['H_75'].iloc[-1] and df['H_75'].iloc[-1]>df['H_100'].iloc[-1]:\n",
        "      v = True\n",
        "    else:\n",
        "      v = False\n",
        "    return v\n",
        "  except:\n",
        "    return f'❌ Error in verify function.'"
      ]
    },
    {
      "cell_type": "markdown",
      "metadata": {
        "id": "FCrRtAhwhjN4"
      },
      "source": [
        "Trend direction"
      ]
    },
    {
      "cell_type": "code",
      "execution_count": 20,
      "metadata": {
        "id": "YYBodhCCKJg-"
      },
      "outputs": [],
      "source": [
        "def futureTrendDirectionIn(df):\n",
        "  '''\n",
        "    Position.\n",
        "      param df: pd.DataFrame\n",
        "  '''\n",
        "  try:\n",
        "    if df['Hurst'].iloc[-1]>0.55 and df['Fast'].iloc[-1]>df['Slow'].iloc[-1] and df['ADX_14'].iloc[-1]>25 and df['DMP_14'].iloc[-1]>df['DMN_14'].iloc[-1] and df['Twentyfour'].iloc[-1]>df['Flexin'].iloc[-1]:\n",
        "      short(df)\n",
        "    elif df['Hurst'].iloc[-1]>0.55 and df['Fast'].iloc[-1]<df['Slow'].iloc[-1] and df['ADX_14'].iloc[-1]>25 and df['DMP_14'].iloc[-1]<df['DMN_14'].iloc[-1] and df['Twentyfour'].iloc[-1]<df['Flexin'].iloc[-1]:\n",
        "      long(df)\n",
        "    elif df['Hurst'].iloc[-1]<0 and df['ADX_14'].iloc[-1]>25 and df['DMP_14'].iloc[-1]>df['DMN_14'].iloc[-1]:\n",
        "      long(df)\n",
        "    elif df['Hurst'].iloc[-1]<0 and df['ADX_14'].iloc[-1]>25 and df['DMP_14'].iloc[-1]<df['DMN_14'].iloc[-1]:\n",
        "      short(df)\n",
        "    else:\n",
        "      nothinIn(df)\n",
        "  except:\n",
        "    return f'❌ Error in position function.'"
      ]
    },
    {
      "cell_type": "code",
      "execution_count": 21,
      "metadata": {
        "id": "vPxtxcyi_EH6"
      },
      "outputs": [],
      "source": [
        "def signal(df):\n",
        "  '''\n",
        "    Signals.\n",
        "      param df: pd.DataFrame\n",
        "  '''\n",
        "  if hurstExponentConvergenceIn(df) == True:\n",
        "    print(futureTrendDirectionIn(df))\n",
        "  else:\n",
        "    print(nothinIn(df))"
      ]
    },
    {
      "cell_type": "markdown",
      "metadata": {
        "id": "3diNQqzCp5CS"
      },
      "source": [
        "App"
      ]
    },
    {
      "cell_type": "code",
      "execution_count": 22,
      "metadata": {
        "id": "9SeNsW5pp2lJ"
      },
      "outputs": [],
      "source": [
        "def run(tickers, period, interval):\n",
        "  '''\n",
        "    Flexin system.\n",
        "      param t: ticker\n",
        "      param p: period\n",
        "      param i: interval\n",
        "  '''\n",
        "  for ticker in tickers:\n",
        "    f = getFinanceDataFrameBy(ticker, period, interval)\n",
        "    signal(f)\n",
        "    transition()"
      ]
    },
    {
      "cell_type": "markdown",
      "metadata": {
        "id": "1nvyhSUK9nI0"
      },
      "source": [
        "Variables"
      ]
    },
    {
      "cell_type": "code",
      "execution_count": 23,
      "metadata": {
        "id": "ksoBEdGAzuOJ"
      },
      "outputs": [],
      "source": [
        "wallet = ['BTC-USD',\n",
        "          'ETH-USD',\n",
        "          'EURUSD=X',\n",
        "          'JPY=X',\n",
        "          'GBPUSD=X',\n",
        "          'USDCHF=X',\n",
        "          'CAD=X',\n",
        "          'CHFJPY=X',\n",
        "          'EURGBP=X',\n",
        "          'EURCHF=X',\n",
        "          'EURJPY=X',\n",
        "          'EURCAD=X',\n",
        "          'GBPCHF=X',\n",
        "          'GBPJPY=X',\n",
        "          'AUDJPY=X',\n",
        "          'NZDUSD=X',\n",
        "          'AUDUSD=X',\n",
        "          'USDZAR=X']"
      ]
    },
    {
      "cell_type": "markdown",
      "metadata": {
        "id": "cdN-a5BO47Ru"
      },
      "source": [
        "Loop"
      ]
    },
    {
      "cell_type": "code",
      "execution_count": null,
      "metadata": {
        "colab": {
          "base_uri": "https://localhost:8080/"
        },
        "id": "SM_GfK_Vr4WD",
        "outputId": "23eec4e8-9a64-429d-bce6-4929ad379375"
      },
      "outputs": [
        {
          "output_type": "stream",
          "name": "stdout",
          "text": [
            "💤Nothin for next 1d, 🔖BTC-USD, 📅2024-09-01 16:59:00+00:00, ⌚1m, 🌱0.44, ⚡14.58 | developed by pipswithpython💸.\n"
          ]
        }
      ],
      "source": [
        "while True:\n",
        "  run(wallet, '1d', '1m')"
      ]
    },
    {
      "cell_type": "code",
      "source": [],
      "metadata": {
        "id": "rCFKuQIvWh89"
      },
      "execution_count": null,
      "outputs": []
    }
  ],
  "metadata": {
    "colab": {
      "provenance": [],
      "authorship_tag": "ABX9TyOiIcb6wKSC06PWmtOtUZH7",
      "include_colab_link": true
    },
    "kernelspec": {
      "display_name": "Python 3",
      "name": "python3"
    },
    "language_info": {
      "name": "python"
    }
  },
  "nbformat": 4,
  "nbformat_minor": 0
}