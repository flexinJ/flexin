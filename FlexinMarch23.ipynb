{
  "cells": [
    {
      "cell_type": "markdown",
      "metadata": {
        "id": "view-in-github",
        "colab_type": "text"
      },
      "source": [
        "<a href=\"https://colab.research.google.com/github/flexinJ/flexin/blob/main/FlexinMarch23.ipynb\" target=\"_parent\"><img src=\"https://colab.research.google.com/assets/colab-badge.svg\" alt=\"Open In Colab\"/></a>"
      ]
    },
    {
      "cell_type": "code",
      "execution_count": 1,
      "metadata": {
        "colab": {
          "base_uri": "https://localhost:8080/"
        },
        "id": "t_aFRGeP8o2w",
        "outputId": "c4775ac5-fe93-450e-bfb2-183b21e1062e"
      },
      "outputs": [
        {
          "output_type": "stream",
          "name": "stdout",
          "text": [
            "Looking in indexes: https://pypi.org/simple, https://us-python.pkg.dev/colab-wheels/public/simple/\n",
            "Requirement already satisfied: yfinance in /usr/local/lib/python3.9/dist-packages (0.2.14)\n",
            "Requirement already satisfied: html5lib>=1.1 in /usr/local/lib/python3.9/dist-packages (from yfinance) (1.1)\n",
            "Requirement already satisfied: beautifulsoup4>=4.11.1 in /usr/local/lib/python3.9/dist-packages (from yfinance) (4.11.2)\n",
            "Requirement already satisfied: pandas>=1.3.0 in /usr/local/lib/python3.9/dist-packages (from yfinance) (1.4.4)\n",
            "Requirement already satisfied: frozendict>=2.3.4 in /usr/local/lib/python3.9/dist-packages (from yfinance) (2.3.6)\n",
            "Requirement already satisfied: cryptography>=3.3.2 in /usr/local/lib/python3.9/dist-packages (from yfinance) (40.0.1)\n",
            "Requirement already satisfied: requests>=2.26 in /usr/local/lib/python3.9/dist-packages (from yfinance) (2.27.1)\n",
            "Requirement already satisfied: lxml>=4.9.1 in /usr/local/lib/python3.9/dist-packages (from yfinance) (4.9.2)\n",
            "Requirement already satisfied: numpy>=1.16.5 in /usr/local/lib/python3.9/dist-packages (from yfinance) (1.22.4)\n",
            "Requirement already satisfied: pytz>=2022.5 in /usr/local/lib/python3.9/dist-packages (from yfinance) (2022.7.1)\n",
            "Requirement already satisfied: appdirs>=1.4.4 in /usr/local/lib/python3.9/dist-packages (from yfinance) (1.4.4)\n",
            "Requirement already satisfied: multitasking>=0.0.7 in /usr/local/lib/python3.9/dist-packages (from yfinance) (0.0.11)\n",
            "Requirement already satisfied: soupsieve>1.2 in /usr/local/lib/python3.9/dist-packages (from beautifulsoup4>=4.11.1->yfinance) (2.4)\n",
            "Requirement already satisfied: cffi>=1.12 in /usr/local/lib/python3.9/dist-packages (from cryptography>=3.3.2->yfinance) (1.15.1)\n",
            "Requirement already satisfied: six>=1.9 in /usr/local/lib/python3.9/dist-packages (from html5lib>=1.1->yfinance) (1.16.0)\n",
            "Requirement already satisfied: webencodings in /usr/local/lib/python3.9/dist-packages (from html5lib>=1.1->yfinance) (0.5.1)\n",
            "Requirement already satisfied: python-dateutil>=2.8.1 in /usr/local/lib/python3.9/dist-packages (from pandas>=1.3.0->yfinance) (2.8.2)\n",
            "Requirement already satisfied: charset-normalizer~=2.0.0 in /usr/local/lib/python3.9/dist-packages (from requests>=2.26->yfinance) (2.0.12)\n",
            "Requirement already satisfied: urllib3<1.27,>=1.21.1 in /usr/local/lib/python3.9/dist-packages (from requests>=2.26->yfinance) (1.26.15)\n",
            "Requirement already satisfied: idna<4,>=2.5 in /usr/local/lib/python3.9/dist-packages (from requests>=2.26->yfinance) (3.4)\n",
            "Requirement already satisfied: certifi>=2017.4.17 in /usr/local/lib/python3.9/dist-packages (from requests>=2.26->yfinance) (2022.12.7)\n",
            "Requirement already satisfied: pycparser in /usr/local/lib/python3.9/dist-packages (from cffi>=1.12->cryptography>=3.3.2->yfinance) (2.21)\n",
            "Looking in indexes: https://pypi.org/simple, https://us-python.pkg.dev/colab-wheels/public/simple/\n",
            "Requirement already satisfied: numpy in /usr/local/lib/python3.9/dist-packages (1.22.4)\n",
            "Looking in indexes: https://pypi.org/simple, https://us-python.pkg.dev/colab-wheels/public/simple/\n",
            "Requirement already satisfied: pandas in /usr/local/lib/python3.9/dist-packages (1.4.4)\n",
            "Requirement already satisfied: python-dateutil>=2.8.1 in /usr/local/lib/python3.9/dist-packages (from pandas) (2.8.2)\n",
            "Requirement already satisfied: pytz>=2020.1 in /usr/local/lib/python3.9/dist-packages (from pandas) (2022.7.1)\n",
            "Requirement already satisfied: numpy>=1.18.5 in /usr/local/lib/python3.9/dist-packages (from pandas) (1.22.4)\n",
            "Requirement already satisfied: six>=1.5 in /usr/local/lib/python3.9/dist-packages (from python-dateutil>=2.8.1->pandas) (1.16.0)\n",
            "Looking in indexes: https://pypi.org/simple, https://us-python.pkg.dev/colab-wheels/public/simple/\n",
            "Collecting hurst\n",
            "  Downloading hurst-0.0.5-py3-none-any.whl (5.9 kB)\n",
            "Requirement already satisfied: pandas>=0.18 in /usr/local/lib/python3.9/dist-packages (from hurst) (1.4.4)\n",
            "Requirement already satisfied: numpy>=1.10 in /usr/local/lib/python3.9/dist-packages (from hurst) (1.22.4)\n",
            "Requirement already satisfied: python-dateutil>=2.8.1 in /usr/local/lib/python3.9/dist-packages (from pandas>=0.18->hurst) (2.8.2)\n",
            "Requirement already satisfied: pytz>=2020.1 in /usr/local/lib/python3.9/dist-packages (from pandas>=0.18->hurst) (2022.7.1)\n",
            "Requirement already satisfied: six>=1.5 in /usr/local/lib/python3.9/dist-packages (from python-dateutil>=2.8.1->pandas>=0.18->hurst) (1.16.0)\n",
            "Installing collected packages: hurst\n",
            "Successfully installed hurst-0.0.5\n",
            "Looking in indexes: https://pypi.org/simple, https://us-python.pkg.dev/colab-wheels/public/simple/\n",
            "Requirement already satisfied: tqdm in /usr/local/lib/python3.9/dist-packages (4.65.0)\n"
          ]
        }
      ],
      "source": [
        "# Downloading required packages\n",
        "!pip install yfinance\n",
        "!pip install numpy\n",
        "!pip install pandas\n",
        "!pip install hurst\n",
        "!pip install tqdm"
      ]
    },
    {
      "cell_type": "code",
      "execution_count": 2,
      "metadata": {
        "id": "NsE9PTzF9hB7"
      },
      "outputs": [],
      "source": [
        "# Import of the necessary modules\n",
        "from IPython.display import clear_output \n",
        "from time import sleep\n",
        "from tqdm.notebook import tqdm\n",
        "import pandas as pd\n",
        "import requests"
      ]
    },
    {
      "cell_type": "code",
      "source": [
        "def send_to_telegram(message):\n",
        "\n",
        "    apiToken = '6183952601:AAFbfrKfZb3iKX6GfYZQnatxo0lg1S4lL8Y'\n",
        "    chatID = '@flexinflexinbot1'\n",
        "    apiURL = f'https://api.telegram.org/bot{apiToken}/sendMessage'\n",
        "\n",
        "    try:\n",
        "        response = requests.post(apiURL, json={'chat_id': chatID, 'text': message})\n",
        "        print(response.text)\n",
        "    except Exception as e:\n",
        "        print(e)"
      ],
      "metadata": {
        "id": "mpSyRPHdwlWr"
      },
      "execution_count": 3,
      "outputs": []
    },
    {
      "cell_type": "code",
      "execution_count": 7,
      "metadata": {
        "id": "Ir6D5Y5W_1dF"
      },
      "outputs": [],
      "source": [
        "class Flexin:\n",
        "  \n",
        "  def __init__(self, wallet):\n",
        "    '''\n",
        "    Symbol of any pair, stock or commodity\n",
        "    :param symbol: symbol\n",
        "    '''\n",
        "    self.wallet = wallet\n",
        "\n",
        "  # Objects\n",
        "  def ok(self):\n",
        "    # Packages needed for this function\n",
        "    import yfinance as yf\n",
        "    from hurst import compute_Hc\n",
        "    '''\n",
        "    Returns data for any symbol - The first collection is made for the daily\n",
        "    chart and then the hourly chart.\n",
        "    :param symbol: asset symbol for analysis \n",
        "    '''\n",
        "    for symbol in wallet:\n",
        "      # BBs variables\n",
        "      n = 20 # Moving average periods\n",
        "      k = 2 # Factor to shift the bands\n",
        "      print(f'analyzing {symbol}...')\n",
        "      #------------------------------------------------------------------------- \n",
        "      # Daily filter - For period => 'max' and interval='1d'\n",
        "      #-------------------------------------------------------------------------\n",
        "      d = yf.Ticker(symbol).history(period='max', interval='1d')\n",
        "      #d.drop(['Volume', 'Dividends', 'Stock Splits'], axis=1, inplace=True)\n",
        "      # Hurst exponent filter (https://github.com/Mottl/hurst)\n",
        "      H = lambda x: compute_Hc(x)[0]\n",
        "      d['Hurst'] = d['Close'].rolling(window=1024).apply(H)\n",
        "      # Bollinger Bands\n",
        "      d['Standard Deviation'] = d['Close'].rolling(n).std()\n",
        "      d['Middle Band'] = d['Close'].rolling(n).mean()\n",
        "      d['Upper Band'] = d['Middle Band'] + d['Standard Deviation']*k\n",
        "      d['Lower Band'] = d['Middle Band'] - d['Standard Deviation']*k\n",
        "      # OK\n",
        "      print('🆗 Step 1 - Successful Daily data collection!')\n",
        "      #-------------------------------------------------------------------------\n",
        "      # Hour filter - For period => '1y' and interval='1h'\n",
        "      #-------------------------------------------------------------------------\n",
        "      h = yf.Ticker(symbol).history(period='1y', interval='1h')\n",
        "      #h.drop(['Volume', 'Dividends', 'Stock Splits'], axis=1, inplace=True)\n",
        "      # Hurst exponent filter (https://github.com/Mottl/hurst)\n",
        "      H = lambda x: compute_Hc(x)[0]\n",
        "      h['Hurst'] = h['Close'].rolling(window=1024).apply(H)\n",
        "      # Bollinger Bands\n",
        "      h['Standard Deviation'] = h['Close'].rolling(n).std()\n",
        "      h['Middle Band'] = h['Close'].rolling(n).mean()\n",
        "      h['Upper Band'] = h['Middle Band'] + h['Standard Deviation']*k\n",
        "      h['Lower Band'] = h['Middle Band'] - h['Standard Deviation']*k\n",
        "      # OK\n",
        "      print('🆗 Step 2 - Successful Hour data collection!')\n",
        "      #-------------------------------------------------------------------------\n",
        "      # Strategy\n",
        "      #-------------------------------------------------------------------------\n",
        "      verify_long = False\n",
        "      verify_short = False\n",
        "      Hurst = h['Hurst'][-1]\n",
        "      #-------------------------------------------------------------------------\n",
        "      if 1>d['Hurst'][-1]>0.5 and 1>h['Hurst'][-1]>0.5:\n",
        "        print(f'>>> for {symbol} 🏂! H© = {Hurst.round(4)} with persistent behavior.')\n",
        "        if d['Close'][-1]>d['Middle Band'][-1] and d['Open'][-1]>d['Middle Band'][-1] and h['Close'][-1]>h['Upper Band'][-1] and h['Open'][-1]>h['Middle Band'][-1]: # BUY/LONG\n",
        "          verify_long = True\n",
        "          print(f'>>> 📈 BUY: {verify_long}.')\n",
        "        else:\n",
        "          if d['Close'][-1]<d['Middle Band'][-1] and d['Open'][-1]<d['Middle Band'][-1] and h['Close'][-1]<h['Lower Band'][-1] and h['Open'][-1]<h['Middle Band'][-1]: # SELL/SHORT\n",
        "            verify_short = True\n",
        "            print(f'📉 SELL: {verify_short}.')\n",
        "      else:\n",
        "        print(f'>>> for {symbol} -> H© = {Hurst.round(4)} 💤! Anti-persistent behavior.')\n",
        "      #-------------------------------------------------------------------------\n",
        "      print('')\n",
        "    #---------------------------------------------------------------------------\n",
        "  #-----------------------------------------------------------------------------"
      ]
    },
    {
      "cell_type": "code",
      "execution_count": 5,
      "metadata": {
        "id": "w0r5GRS1GvwX"
      },
      "outputs": [],
      "source": [
        "wallet = ['EURUSD=X',\n",
        "          'JPY=X',\n",
        "          'GBPUSD=X',\n",
        "          'CHF=X',\n",
        "          'AUDUSD=X',\n",
        "          'CAD=X',\n",
        "          'NZDUSD=X',\n",
        "          '^HSI']"
      ]
    },
    {
      "cell_type": "code",
      "execution_count": null,
      "metadata": {
        "id": "0eJfJBocqCSK"
      },
      "outputs": [],
      "source": [
        "while True:\n",
        "  Flexin(wallet).ok()\n",
        "  clear_output()"
      ]
    }
  ],
  "metadata": {
    "accelerator": "GPU",
    "colab": {
      "provenance": [],
      "include_colab_link": true
    },
    "gpuClass": "standard",
    "kernelspec": {
      "display_name": "Python 3",
      "name": "python3"
    },
    "language_info": {
      "name": "python"
    }
  },
  "nbformat": 4,
  "nbformat_minor": 0
}