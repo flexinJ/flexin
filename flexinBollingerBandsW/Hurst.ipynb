{
  "cells": [
    {
      "cell_type": "markdown",
      "metadata": {
        "id": "view-in-github",
        "colab_type": "text"
      },
      "source": [
        "<a href=\"https://colab.research.google.com/github/flexinJ/flexinBot/blob/main/flexinBollingerBandsW/Hurst.ipynb\" target=\"_parent\"><img src=\"https://colab.research.google.com/assets/colab-badge.svg\" alt=\"Open In Colab\"/></a>"
      ]
    },
    {
      "cell_type": "code",
      "execution_count": null,
      "metadata": {
        "colab": {
          "base_uri": "https://localhost:8080/"
        },
        "id": "t_aFRGeP8o2w",
        "outputId": "545f1fc2-1d87-46e7-9a7d-48fbd704b892"
      },
      "outputs": [
        {
          "output_type": "stream",
          "name": "stdout",
          "text": [
            "Looking in indexes: https://pypi.org/simple, https://us-python.pkg.dev/colab-wheels/public/simple/\n",
            "Collecting yfinance\n",
            "  Downloading yfinance-0.1.87-py2.py3-none-any.whl (29 kB)\n",
            "Requirement already satisfied: lxml>=4.5.1 in /usr/local/lib/python3.8/dist-packages (from yfinance) (4.9.1)\n",
            "Requirement already satisfied: numpy>=1.15 in /usr/local/lib/python3.8/dist-packages (from yfinance) (1.21.6)\n",
            "Requirement already satisfied: multitasking>=0.0.7 in /usr/local/lib/python3.8/dist-packages (from yfinance) (0.0.11)\n",
            "Requirement already satisfied: appdirs>=1.4.4 in /usr/local/lib/python3.8/dist-packages (from yfinance) (1.4.4)\n",
            "Requirement already satisfied: pandas>=0.24.0 in /usr/local/lib/python3.8/dist-packages (from yfinance) (1.3.5)\n",
            "Collecting requests>=2.26\n",
            "  Downloading requests-2.28.1-py3-none-any.whl (62 kB)\n",
            "\u001b[K     |████████████████████████████████| 62 kB 322 kB/s \n",
            "\u001b[?25hRequirement already satisfied: pytz>=2017.3 in /usr/local/lib/python3.8/dist-packages (from pandas>=0.24.0->yfinance) (2022.6)\n",
            "Requirement already satisfied: python-dateutil>=2.7.3 in /usr/local/lib/python3.8/dist-packages (from pandas>=0.24.0->yfinance) (2.8.2)\n",
            "Requirement already satisfied: six>=1.5 in /usr/local/lib/python3.8/dist-packages (from python-dateutil>=2.7.3->pandas>=0.24.0->yfinance) (1.15.0)\n",
            "Requirement already satisfied: charset-normalizer<3,>=2 in /usr/local/lib/python3.8/dist-packages (from requests>=2.26->yfinance) (2.1.1)\n",
            "Requirement already satisfied: idna<4,>=2.5 in /usr/local/lib/python3.8/dist-packages (from requests>=2.26->yfinance) (2.10)\n",
            "Requirement already satisfied: certifi>=2017.4.17 in /usr/local/lib/python3.8/dist-packages (from requests>=2.26->yfinance) (2022.9.24)\n",
            "Requirement already satisfied: urllib3<1.27,>=1.21.1 in /usr/local/lib/python3.8/dist-packages (from requests>=2.26->yfinance) (1.24.3)\n",
            "Installing collected packages: requests, yfinance\n",
            "  Attempting uninstall: requests\n",
            "    Found existing installation: requests 2.23.0\n",
            "    Uninstalling requests-2.23.0:\n",
            "      Successfully uninstalled requests-2.23.0\n",
            "Successfully installed requests-2.28.1 yfinance-0.1.87\n",
            "Looking in indexes: https://pypi.org/simple, https://us-python.pkg.dev/colab-wheels/public/simple/\n",
            "Requirement already satisfied: numpy in /usr/local/lib/python3.8/dist-packages (1.21.6)\n",
            "Looking in indexes: https://pypi.org/simple, https://us-python.pkg.dev/colab-wheels/public/simple/\n",
            "Requirement already satisfied: pandas in /usr/local/lib/python3.8/dist-packages (1.3.5)\n",
            "Requirement already satisfied: python-dateutil>=2.7.3 in /usr/local/lib/python3.8/dist-packages (from pandas) (2.8.2)\n",
            "Requirement already satisfied: pytz>=2017.3 in /usr/local/lib/python3.8/dist-packages (from pandas) (2022.6)\n",
            "Requirement already satisfied: numpy>=1.17.3 in /usr/local/lib/python3.8/dist-packages (from pandas) (1.21.6)\n",
            "Requirement already satisfied: six>=1.5 in /usr/local/lib/python3.8/dist-packages (from python-dateutil>=2.7.3->pandas) (1.15.0)\n",
            "Looking in indexes: https://pypi.org/simple, https://us-python.pkg.dev/colab-wheels/public/simple/\n",
            "Collecting hurst\n",
            "  Downloading hurst-0.0.5-py3-none-any.whl (5.9 kB)\n",
            "Requirement already satisfied: pandas>=0.18 in /usr/local/lib/python3.8/dist-packages (from hurst) (1.3.5)\n",
            "Requirement already satisfied: numpy>=1.10 in /usr/local/lib/python3.8/dist-packages (from hurst) (1.21.6)\n",
            "Requirement already satisfied: pytz>=2017.3 in /usr/local/lib/python3.8/dist-packages (from pandas>=0.18->hurst) (2022.6)\n",
            "Requirement already satisfied: python-dateutil>=2.7.3 in /usr/local/lib/python3.8/dist-packages (from pandas>=0.18->hurst) (2.8.2)\n",
            "Requirement already satisfied: six>=1.5 in /usr/local/lib/python3.8/dist-packages (from python-dateutil>=2.7.3->pandas>=0.18->hurst) (1.15.0)\n",
            "Installing collected packages: hurst\n",
            "Successfully installed hurst-0.0.5\n"
          ]
        }
      ],
      "source": [
        "# Downloading required packages\n",
        "!pip install yfinance\n",
        "!pip install numpy\n",
        "!pip install pandas\n",
        "!pip install hurst"
      ]
    },
    {
      "cell_type": "code",
      "execution_count": null,
      "metadata": {
        "id": "NsE9PTzF9hB7"
      },
      "outputs": [],
      "source": [
        "# Import of the necessary modules\n",
        "import numpy as np\n",
        "import pandas as pd\n",
        "import math\n",
        "import yfinance as yf\n",
        "from hurst import compute_Hc\n",
        "import matplotlib.pyplot as plt\n",
        "from IPython.display import clear_output \n",
        "from time import sleep"
      ]
    },
    {
      "cell_type": "code",
      "execution_count": null,
      "metadata": {
        "id": "afGCAGmh-QT-"
      },
      "outputs": [],
      "source": [
        "######################## Welcome ##########################\n",
        "# Based in Bollinger bands, Hurt\n",
        "# Analyze in M15 w/ input in M1\n",
        "# Flexin (@moraisjota) make this ~ enjoy xD\n",
        "######################## FlexinBot ########################"
      ]
    },
    {
      "cell_type": "code",
      "execution_count": null,
      "metadata": {
        "id": "Ir6D5Y5W_1dF"
      },
      "outputs": [],
      "source": [
        "class tradingSystem():\n",
        "  def flexin(wallet, dateRange, timeFrame):\n",
        "    for symbol in wallet:\n",
        "      ######################## DataFrame ########################\n",
        "      # Finance database import\n",
        "      data = yf.Ticker(symbol).history(period=dateRange, interval=timeFrame)\n",
        "      data.drop(['Volume', 'Dividends', 'Stock Splits'], axis=1, inplace=True)\n",
        "      # Calculate series of Log return of close prices \n",
        "      data['logCloseReturn'] = np.log(data['Close']/data['Close'].shift(1))\n",
        "      ######################## Indicators ########################\n",
        "      # Bollinger bands\n",
        "      n = 20 # Moving average periods\n",
        "      k = 2 # Factor to shift the bands\n",
        "      data['Standard Deviation'] = data['Close'].rolling(n).std()\n",
        "      data['Middle Band'] = data['Close'].rolling(n).mean()\n",
        "      data['Upper Band'] = data['Middle Band'] + data['Standard Deviation']*k\n",
        "      data['Lower Band'] = data['Middle Band'] - data['Standard Deviation']*k\n",
        "      # Hurst exponent filter (https://github.com/Mottl/hurst)\n",
        "      H = lambda x: compute_Hc(x)[0]\n",
        "      data['Hurst'] = data['logCloseReturn'].rolling(window=100).apply(H)\n",
        "      # Dealing with NaN data\n",
        "      data.dropna(inplace=True, axis=0)\n",
        "      ###################### Current values ######################\n",
        "      # Price\n",
        "      closePrice = data['Close'][-1] \n",
        "      openPrice = data['Open'][-1]\n",
        "      # Bollinger bands\n",
        "      middleBand = data['Middle Band'][-1] \n",
        "      upperBand = data['Upper Band'][-1]\n",
        "      lowerBand = data['Lower Band'][-1]\n",
        "      # Hurst exponent\n",
        "      hurst = data['Hurst'][-1]\n",
        "      print('-----------------------------------------------------------------')\n",
        "      print('####################### Flexin strategy 🤖 ######################')\n",
        "      ###################### Flexin strategy ######################\n",
        "      if 1 > hurst > 0.5:\n",
        "        print(f'>>> for {symbol}')\n",
        "        print(f'WOW 🏂! H© = {hurst.round(2)} w/ persistent behavior.')\n",
        "        if closePrice > upperBand: # Buy signal\n",
        "          buy = True\n",
        "          print(f'Price closes above the upper band. ⬆️')\n",
        "          if True in buy:\n",
        "            print(f'Uptrend probability. 📈📈📈')\n",
        "        else:\n",
        "          if closePrice < lowerBand: # Sell signal\n",
        "            sell = True\n",
        "            print(f'Price closes below the lower band. ⬇️')\n",
        "            if True in sell:\n",
        "              print(f'Downtrend probability. 📉📉📉')\n",
        "      else:\n",
        "        print(f'>>> for {symbol} -> H© = {hurst.round(2)} 💤')\n",
        "        print('Wait...✋! Anti-persistent behavior.')"
      ]
    },
    {
      "cell_type": "code",
      "execution_count": null,
      "metadata": {
        "id": "AZvXDWeU-zd3"
      },
      "outputs": [],
      "source": [
        "while True:\n",
        "  tradingSystem.flexin(['EURUSD=X', '^HSI'], '5d', '15m')"
      ]
    }
  ],
  "metadata": {
    "accelerator": "GPU",
    "colab": {
      "provenance": [],
      "authorship_tag": "ABX9TyPOQzvMvxVDH6SwyiiK3D4m",
      "include_colab_link": true
    },
    "gpuClass": "standard",
    "kernelspec": {
      "display_name": "Python 3",
      "name": "python3"
    },
    "language_info": {
      "name": "python"
    }
  },
  "nbformat": 4,
  "nbformat_minor": 0
}