{
  "cells": [
    {
      "cell_type": "markdown",
      "metadata": {
        "id": "view-in-github",
        "colab_type": "text"
      },
      "source": [
        "<a href=\"https://colab.research.google.com/github/flexinJ/flexin/blob/main/Flexin_Analyzer_%2424_updates_october.ipynb\" target=\"_parent\"><img src=\"https://colab.research.google.com/assets/colab-badge.svg\" alt=\"Open In Colab\"/></a>"
      ]
    },
    {
      "cell_type": "markdown",
      "metadata": {
        "id": "JDC65mC4TItk"
      },
      "source": [
        "Installation of dependencies"
      ]
    },
    {
      "cell_type": "code",
      "execution_count": 1,
      "metadata": {
        "colab": {
          "base_uri": "https://localhost:8080/"
        },
        "id": "AqtflG_Lf7yN",
        "outputId": "daeafc1a-a3ac-4f3f-8143-6b338f1bb935"
      },
      "outputs": [
        {
          "output_type": "stream",
          "name": "stdout",
          "text": [
            "Requirement already satisfied: yfinance in /usr/local/lib/python3.10/dist-packages (0.2.31)\n",
            "Requirement already satisfied: pandas>=1.3.0 in /usr/local/lib/python3.10/dist-packages (from yfinance) (1.5.3)\n",
            "Requirement already satisfied: numpy>=1.16.5 in /usr/local/lib/python3.10/dist-packages (from yfinance) (1.23.5)\n",
            "Requirement already satisfied: requests>=2.31 in /usr/local/lib/python3.10/dist-packages (from yfinance) (2.31.0)\n",
            "Requirement already satisfied: multitasking>=0.0.7 in /usr/local/lib/python3.10/dist-packages (from yfinance) (0.0.11)\n",
            "Requirement already satisfied: lxml>=4.9.1 in /usr/local/lib/python3.10/dist-packages (from yfinance) (4.9.3)\n",
            "Requirement already satisfied: appdirs>=1.4.4 in /usr/local/lib/python3.10/dist-packages (from yfinance) (1.4.4)\n",
            "Requirement already satisfied: pytz>=2022.5 in /usr/local/lib/python3.10/dist-packages (from yfinance) (2023.3.post1)\n",
            "Requirement already satisfied: frozendict>=2.3.4 in /usr/local/lib/python3.10/dist-packages (from yfinance) (2.3.8)\n",
            "Requirement already satisfied: peewee>=3.16.2 in /usr/local/lib/python3.10/dist-packages (from yfinance) (3.17.0)\n",
            "Requirement already satisfied: beautifulsoup4>=4.11.1 in /usr/local/lib/python3.10/dist-packages (from yfinance) (4.11.2)\n",
            "Requirement already satisfied: html5lib>=1.1 in /usr/local/lib/python3.10/dist-packages (from yfinance) (1.1)\n",
            "Requirement already satisfied: soupsieve>1.2 in /usr/local/lib/python3.10/dist-packages (from beautifulsoup4>=4.11.1->yfinance) (2.5)\n",
            "Requirement already satisfied: six>=1.9 in /usr/local/lib/python3.10/dist-packages (from html5lib>=1.1->yfinance) (1.16.0)\n",
            "Requirement already satisfied: webencodings in /usr/local/lib/python3.10/dist-packages (from html5lib>=1.1->yfinance) (0.5.1)\n",
            "Requirement already satisfied: python-dateutil>=2.8.1 in /usr/local/lib/python3.10/dist-packages (from pandas>=1.3.0->yfinance) (2.8.2)\n",
            "Requirement already satisfied: charset-normalizer<4,>=2 in /usr/local/lib/python3.10/dist-packages (from requests>=2.31->yfinance) (3.3.1)\n",
            "Requirement already satisfied: idna<4,>=2.5 in /usr/local/lib/python3.10/dist-packages (from requests>=2.31->yfinance) (3.4)\n",
            "Requirement already satisfied: urllib3<3,>=1.21.1 in /usr/local/lib/python3.10/dist-packages (from requests>=2.31->yfinance) (2.0.7)\n",
            "Requirement already satisfied: certifi>=2017.4.17 in /usr/local/lib/python3.10/dist-packages (from requests>=2.31->yfinance) (2023.7.22)\n",
            "Collecting pandas_ta\n",
            "  Downloading pandas_ta-0.3.14b.tar.gz (115 kB)\n",
            "\u001b[2K     \u001b[90m━━━━━━━━━━━━━━━━━━━━━━━━━━━━━━━━━━━━━━━━\u001b[0m \u001b[32m115.1/115.1 kB\u001b[0m \u001b[31m2.4 MB/s\u001b[0m eta \u001b[36m0:00:00\u001b[0m\n",
            "\u001b[?25h  Preparing metadata (setup.py) ... \u001b[?25l\u001b[?25hdone\n",
            "Requirement already satisfied: pandas in /usr/local/lib/python3.10/dist-packages (from pandas_ta) (1.5.3)\n",
            "Requirement already satisfied: python-dateutil>=2.8.1 in /usr/local/lib/python3.10/dist-packages (from pandas->pandas_ta) (2.8.2)\n",
            "Requirement already satisfied: pytz>=2020.1 in /usr/local/lib/python3.10/dist-packages (from pandas->pandas_ta) (2023.3.post1)\n",
            "Requirement already satisfied: numpy>=1.21.0 in /usr/local/lib/python3.10/dist-packages (from pandas->pandas_ta) (1.23.5)\n",
            "Requirement already satisfied: six>=1.5 in /usr/local/lib/python3.10/dist-packages (from python-dateutil>=2.8.1->pandas->pandas_ta) (1.16.0)\n",
            "Building wheels for collected packages: pandas_ta\n",
            "  Building wheel for pandas_ta (setup.py) ... \u001b[?25l\u001b[?25hdone\n",
            "  Created wheel for pandas_ta: filename=pandas_ta-0.3.14b0-py3-none-any.whl size=218908 sha256=686374a6f17091afdc28bfe46fc1ba9274c8b88c73d97c7dc3e3d0200269ba7a\n",
            "  Stored in directory: /root/.cache/pip/wheels/69/00/ac/f7fa862c34b0e2ef320175100c233377b4c558944f12474cf0\n",
            "Successfully built pandas_ta\n",
            "Installing collected packages: pandas_ta\n",
            "Successfully installed pandas_ta-0.3.14b0\n",
            "Collecting hurst\n",
            "  Downloading hurst-0.0.5-py3-none-any.whl (5.9 kB)\n",
            "Requirement already satisfied: pandas>=0.18 in /usr/local/lib/python3.10/dist-packages (from hurst) (1.5.3)\n",
            "Requirement already satisfied: numpy>=1.10 in /usr/local/lib/python3.10/dist-packages (from hurst) (1.23.5)\n",
            "Requirement already satisfied: python-dateutil>=2.8.1 in /usr/local/lib/python3.10/dist-packages (from pandas>=0.18->hurst) (2.8.2)\n",
            "Requirement already satisfied: pytz>=2020.1 in /usr/local/lib/python3.10/dist-packages (from pandas>=0.18->hurst) (2023.3.post1)\n",
            "Requirement already satisfied: six>=1.5 in /usr/local/lib/python3.10/dist-packages (from python-dateutil>=2.8.1->pandas>=0.18->hurst) (1.16.0)\n",
            "Installing collected packages: hurst\n",
            "Successfully installed hurst-0.0.5\n",
            "Requirement already satisfied: requests in /usr/local/lib/python3.10/dist-packages (2.31.0)\n",
            "Requirement already satisfied: charset-normalizer<4,>=2 in /usr/local/lib/python3.10/dist-packages (from requests) (3.3.1)\n",
            "Requirement already satisfied: idna<4,>=2.5 in /usr/local/lib/python3.10/dist-packages (from requests) (3.4)\n",
            "Requirement already satisfied: urllib3<3,>=1.21.1 in /usr/local/lib/python3.10/dist-packages (from requests) (2.0.7)\n",
            "Requirement already satisfied: certifi>=2017.4.17 in /usr/local/lib/python3.10/dist-packages (from requests) (2023.7.22)\n"
          ]
        }
      ],
      "source": [
        "!pip install yfinance\n",
        "!pip install pandas_ta\n",
        "!pip install hurst\n",
        "!pip install requests"
      ]
    },
    {
      "cell_type": "markdown",
      "metadata": {
        "id": "HtlXNYKFSfs1"
      },
      "source": [
        "Initial variables"
      ]
    },
    {
      "cell_type": "code",
      "execution_count": 2,
      "metadata": {
        "id": "-zF-IGRtfZs0"
      },
      "outputs": [],
      "source": [
        "wallet = [\"CL=F\",\n",
        "          \"AUDJPY=X\",\n",
        "          \"JPY=X\",\n",
        "          \"NZDUSD=X\",\n",
        "          \"AUDUSD=X\",\n",
        "          \"CAD=X\",\n",
        "          \"GBPUSD=X\",\n",
        "          \"EURUSD=X\",\n",
        "          \"CHF=X\"]\n",
        "history = \"1wk\"\n",
        "time = [\"30m\", \"5m\", \"1m\"]"
      ]
    },
    {
      "cell_type": "markdown",
      "metadata": {
        "id": "M2fHVbm5SnRB"
      },
      "source": [
        "Connects telegram API"
      ]
    },
    {
      "cell_type": "code",
      "execution_count": 3,
      "metadata": {
        "id": "T23IHW4Sr8EA"
      },
      "outputs": [],
      "source": [
        "def telegram(message):\n",
        "  import requests\n",
        "  apiToken = \"6183952601:AAFbfrKfZb3iKX6GfYZQnatxo0lg1S4lL8Y\"\n",
        "  chatID = \"@flexinflexinbot1\"\n",
        "  apiURL = f\"https://api.telegram.org/bot{apiToken}/sendMessage\"\n",
        "  try:\n",
        "    response = requests.post(apiURL, json={\"chat_id\": chatID, \"text\": message})\n",
        "    print(f\"📲 The message was sent to telegram...\")\n",
        "    return response\n",
        "  except:\n",
        "    return f\"❌ Error sending message to telegram...\""
      ]
    },
    {
      "cell_type": "markdown",
      "metadata": {
        "id": "k22jmh9hSvFt"
      },
      "source": [
        "Collect financial data"
      ]
    },
    {
      "cell_type": "code",
      "execution_count": 4,
      "metadata": {
        "id": "UB8FTcD2f3Bo"
      },
      "outputs": [],
      "source": [
        "def get(symbol, history: str, time: str):\n",
        "  import yfinance as yf\n",
        "  try:\n",
        "    df = yf.Ticker(symbol).history(period=history, interval=time)\n",
        "    df[\"Symbol\"] = symbol\n",
        "    df[\"Time\"] = time\n",
        "    show_time(time)\n",
        "    return df\n",
        "  except:\n",
        "    return f\"❌ Unable to collect data for {symbol}...\""
      ]
    },
    {
      "cell_type": "markdown",
      "metadata": {
        "id": "3iC-hbA_NWTC"
      },
      "source": [
        "Indicators"
      ]
    },
    {
      "cell_type": "code",
      "execution_count": 5,
      "metadata": {
        "id": "o-aeGBtvf_ir"
      },
      "outputs": [],
      "source": [
        "def adx(df):\n",
        "  import pandas_ta as ta\n",
        "  try:\n",
        "    adx = ta.adx(df[\"High\"], df[\"Low\"], df[\"Close\"], length=14)\n",
        "    df = df.join(adx)\n",
        "    return df\n",
        "  except:\n",
        "    return f\"❌ Error generating ADX...\""
      ]
    },
    {
      "cell_type": "code",
      "execution_count": 6,
      "metadata": {
        "id": "DclE4GEChFoQ"
      },
      "outputs": [],
      "source": [
        "def macd(df):\n",
        "  import pandas_ta as ta\n",
        "  try:\n",
        "    macd = ta.macd(df[\"Close\"])\n",
        "    df = df.join(macd)\n",
        "    return df\n",
        "  except:\n",
        "    return f\"❌ Error generating MACD...\""
      ]
    },
    {
      "cell_type": "code",
      "execution_count": 7,
      "metadata": {
        "id": "z__2ohsGhZkt"
      },
      "outputs": [],
      "source": [
        "def atr(df):\n",
        "  import pandas_ta as ta\n",
        "  try:\n",
        "    atr = ta.atr(df[\"High\"], df[\"Low\"], df[\"Close\"], length=14)\n",
        "    df = df.join(atr)\n",
        "    return df\n",
        "  except:\n",
        "    return f\"❌ Error generating ATR...\""
      ]
    },
    {
      "cell_type": "code",
      "execution_count": 8,
      "metadata": {
        "id": "hzsW6kIvhbQ3"
      },
      "outputs": [],
      "source": [
        "def hurst(df):\n",
        "  from hurst import compute_Hc\n",
        "  try:\n",
        "    def H(x): return compute_Hc(x)[0]\n",
        "    df[\"Hurst\"] = df[\"Close\"].rolling(window=100).apply(H)\n",
        "    return df\n",
        "  except:\n",
        "    return f\"❌ Error generating HURST..\""
      ]
    },
    {
      "cell_type": "code",
      "execution_count": 9,
      "metadata": {
        "id": "n1czJV50hckO"
      },
      "outputs": [],
      "source": [
        "def fast(df):\n",
        "  import pandas_ta as ta\n",
        "  try:\n",
        "    fast = ta.ema(df[\"Close\"], 50)\n",
        "    df = df.join(fast)\n",
        "    return df\n",
        "  except:\n",
        "    return f\"❌ Error generating EMA 50..\""
      ]
    },
    {
      "cell_type": "code",
      "execution_count": 10,
      "metadata": {
        "id": "ZAwQOQI0hdv8"
      },
      "outputs": [],
      "source": [
        "def slow(df):\n",
        "  import pandas_ta as ta\n",
        "  try:\n",
        "    slow = ta.ema(df[\"Close\"], 200)\n",
        "    df = df.join(slow)\n",
        "    return df\n",
        "  except:\n",
        "    return f\"❌ Error generating EMA 200...\""
      ]
    },
    {
      "cell_type": "code",
      "execution_count": 11,
      "metadata": {
        "id": "ocX2rmqShfV2"
      },
      "outputs": [],
      "source": [
        "def fft(df):\n",
        "  import numpy as np\n",
        "  try:\n",
        "    fft = np.fft.fft(df[\"Close\"].values)\n",
        "    index = np.argsort(np.abs(fft))[::-1]\n",
        "    filter = np.zeros_like(fft)\n",
        "    filter[index[:1]] = fft[index[:1]]\n",
        "    ifft = np.fft.ifft(filter).real\n",
        "    return ifft[-1]\n",
        "  except:\n",
        "    return f\"❌ Error generating FFT...\""
      ]
    },
    {
      "cell_type": "markdown",
      "metadata": {
        "id": "vkJ0ZV6dNqb0"
      },
      "source": [
        "Signal Check"
      ]
    },
    {
      "cell_type": "code",
      "execution_count": 12,
      "metadata": {
        "id": "xMXK-G_jjlkN"
      },
      "outputs": [],
      "source": [
        "def adxSignal(df):\n",
        "  try:\n",
        "    df.loc[(df[\"ADX_14\"].shift(1) > 25) & (df[\"DMP_14\"].shift(1) > df[\"DMN_14\"].shift(1)), \"ADX Signal\"] = \"Uptrend\"\n",
        "    df.loc[(df[\"ADX_14\"].shift(1) > 25) & (df[\"DMN_14\"].shift(1) > df[\"DMP_14\"].shift(1)), \"ADX Signal\"] = \"Downtrend\"\n",
        "    return df\n",
        "  except:\n",
        "    return f\"❌ Error generating ADX signal...\""
      ]
    },
    {
      "cell_type": "code",
      "execution_count": 13,
      "metadata": {
        "id": "1AGILsnwmnPi"
      },
      "outputs": [],
      "source": [
        "def macdSignal(df):\n",
        "  try:\n",
        "    df.loc[df[\"MACDh_12_26_9\"].shift(1) > 0, \"MACD Signal Hist\"] = \"Buy\"\n",
        "    df.loc[df[\"MACDh_12_26_9\"].shift(1) < 0, \"MACD Signal Hist\"] = \"Sell\"\n",
        "    return df\n",
        "  except:\n",
        "    return f\"❌ Error generating MACD signal...\""
      ]
    },
    {
      "cell_type": "code",
      "execution_count": 14,
      "metadata": {
        "id": "dCRMheAvmqrZ"
      },
      "outputs": [],
      "source": [
        "def signal(df):\n",
        "  try:\n",
        "    df.loc[(df[\"Hurst\"].shift(1) > 0.55) & (df[\"MACD Signal Hist\"].shift(1) == \"Buy\") & (df[\"ADX Signal\"].shift(1) == \"Uptrend\") & (df[\"EMA_50\"].shift(1) > df[\"EMA_200\"].shift(1)) & (df[\"Close\"].shift(1) > df[\"EMA_50\"].shift(1)), \"Signal\"] = \"Buy\"\n",
        "    df.loc[(df[\"Hurst\"].shift(1) > 0.55) & (df[\"MACD Signal Hist\"].shift(1) == \"Sell\") & (df[\"ADX Signal\"].shift(1) == \"Downtrend\") & (df[\"EMA_50\"].shift(1) < df[\"EMA_200\"].shift(1)) & (df[\"Close\"].shift(1) < df[\"EMA_50\"].shift(1)), \"Signal\"] = \"Sell\"\n",
        "    return df\n",
        "  except:\n",
        "    return f\"❌ Error generating Final signal...\""
      ]
    },
    {
      "cell_type": "markdown",
      "metadata": {
        "id": "14xoo9WmP3ry"
      },
      "source": [
        "Apply indicators and signal checkers"
      ]
    },
    {
      "cell_type": "code",
      "execution_count": 31,
      "metadata": {
        "id": "YUUzgJ95ryMF"
      },
      "outputs": [],
      "source": [
        "def apply(symbol, history, time):\n",
        "  try:\n",
        "    df = get(symbol, history, time)\n",
        "    df = adx(df)\n",
        "    df = macd(df)\n",
        "    df = fast(df)\n",
        "    df = slow(df)\n",
        "    df = hurst(df)\n",
        "    df = atr(df)\n",
        "    df = adxSignal(df)\n",
        "    df = macdSignal(df)\n",
        "    df = signal(df)\n",
        "    print(\" |🌧️ Indicators applied\")\n",
        "    return df\n",
        "  except:\n",
        "    return f\"❌ Error apply indicators...\""
      ]
    },
    {
      "cell_type": "markdown",
      "metadata": {
        "id": "wBqjsrbfPgwO"
      },
      "source": [
        "Collect trade information"
      ]
    },
    {
      "cell_type": "code",
      "execution_count": 32,
      "metadata": {
        "id": "ew2gzcAXDz5X"
      },
      "outputs": [],
      "source": [
        "def compute_atr(symbol, history):\n",
        "  time = \"30m\"\n",
        "  data = get(symbol, history, time)\n",
        "  data = atr(data)\n",
        "  return data"
      ]
    },
    {
      "cell_type": "code",
      "execution_count": 33,
      "metadata": {
        "id": "_uHtdXOwXOxS"
      },
      "outputs": [],
      "source": [
        "def buy(df):\n",
        "  try:\n",
        "    symbol = df[\"Symbol\"][-1]\n",
        "    type = df[\"Signal\"][-1]\n",
        "    price = df[\"Close\"][-1]\n",
        "    atr = df[\"ATRr_14\"][-1]\n",
        "    tp = price+atr\n",
        "    sl = price-(1.5*atr)\n",
        "    telegram(f\"\"\"\n",
        "    🫡 Flexin Analyzer 🤳\n",
        "    Symbol: {symbol}\n",
        "    Type: {type}\n",
        "    EP: {price.round(4)}\n",
        "    TP: {tp.round(4)}\n",
        "    SL: {sl.round(4)}\n",
        "              \"\"\")\n",
        "  except:\n",
        "    return f\"❌ Error collecting trade information...\""
      ]
    },
    {
      "cell_type": "code",
      "execution_count": 34,
      "metadata": {
        "id": "y6vQlvszALqA"
      },
      "outputs": [],
      "source": [
        "def sell(df):\n",
        "  try:\n",
        "    symbol = df[\"Symbol\"][-1]\n",
        "    type = df[\"Signal\"][-1]\n",
        "    price = df[\"Close\"][-1]\n",
        "    atr = df[\"ATRr_14\"][-1]\n",
        "    tp = price-atr\n",
        "    sl = price+(1.5*atr)\n",
        "    telegram(f\"\"\"\n",
        "    🫡 Flexin Analyzer 🤳\n",
        "    Symbol: {symbol}\n",
        "    Type: {type}\n",
        "    EP: {price.round(4)}\n",
        "    TP: {tp.round(4)}\n",
        "    SL: {sl.round(4)}\n",
        "              \"\"\")\n",
        "  except:\n",
        "    return f\"❌ Error collecting trade information...\""
      ]
    },
    {
      "cell_type": "markdown",
      "metadata": {
        "id": "H5aa7f2eTbR2"
      },
      "source": [
        "Console Log"
      ]
    },
    {
      "cell_type": "code",
      "execution_count": 35,
      "metadata": {
        "id": "A_WoESvIB6ha"
      },
      "outputs": [],
      "source": [
        "def show_buy():\n",
        "  return print(\"📈 Buy\")"
      ]
    },
    {
      "cell_type": "code",
      "execution_count": 36,
      "metadata": {
        "id": "Du_dNCbiCMrp"
      },
      "outputs": [],
      "source": [
        "def show_sell():\n",
        "  return print(\"📉 Sell\")"
      ]
    },
    {
      "cell_type": "code",
      "execution_count": 37,
      "metadata": {
        "id": "6Ij-vgLSzCnf"
      },
      "outputs": [],
      "source": [
        "def wait():\n",
        "  return print(\"💤 No signal\")"
      ]
    },
    {
      "cell_type": "markdown",
      "metadata": {
        "id": "Qcq43cEbRYIB"
      },
      "source": [
        "Signal checker"
      ]
    },
    {
      "cell_type": "code",
      "execution_count": 38,
      "metadata": {
        "id": "XciwCGDbvtyw"
      },
      "outputs": [],
      "source": [
        "def check(df):\n",
        "  if df[\"Signal\"][0] == df[\"Signal\"][1] == df[\"Signal\"][2]:\n",
        "    if df[\"Signal\"][0] == \"Buy\" and df[\"Signal\"][1] == \"Buy\" and df[\"Signal\"][2] == \"Buy\":\n",
        "      show_buy()\n",
        "      order = \"Buy\"\n",
        "      return order\n",
        "    elif df[\"Signal\"][0] == \"Sell\" and df[\"Signal\"][1] == \"Sell\" and df[\"Signal\"][2] == \"Sell\":\n",
        "      show_sell()\n",
        "      order = \"Sell\"\n",
        "      return order\n",
        "  else:\n",
        "    order = None\n",
        "    return order"
      ]
    },
    {
      "cell_type": "markdown",
      "metadata": {
        "id": "so7E6-9RPtEb"
      },
      "source": [
        "Display"
      ]
    },
    {
      "cell_type": "code",
      "execution_count": 39,
      "metadata": {
        "id": "dnW0XAu4Bgvi"
      },
      "outputs": [],
      "source": [
        "def title(symbol):\n",
        "  return print(f\"🕵️ Analyzing {symbol}...\")"
      ]
    },
    {
      "cell_type": "code",
      "execution_count": 40,
      "metadata": {
        "id": "HZ8nnRU0KRHF"
      },
      "outputs": [],
      "source": [
        "def show_time(time):\n",
        "  return print(f\"⌚ {time}\")"
      ]
    },
    {
      "cell_type": "code",
      "execution_count": 41,
      "metadata": {
        "id": "hr0JlVow014a"
      },
      "outputs": [],
      "source": [
        "def show_hurst(df):\n",
        "  H = df[\"Hurst\"][-1]\n",
        "  return print(f\" |🌱 {H.round(2)}\")"
      ]
    },
    {
      "cell_type": "markdown",
      "metadata": {
        "id": "3dZAL7CpUmJU"
      },
      "source": [
        "Tools"
      ]
    },
    {
      "cell_type": "code",
      "execution_count": 42,
      "metadata": {
        "id": "nHtO2mrZvnmL"
      },
      "outputs": [],
      "source": [
        "def transition():\n",
        "  from IPython.display import clear_output\n",
        "  from time import sleep\n",
        "  sleep(60)\n",
        "  clear_output()"
      ]
    },
    {
      "cell_type": "markdown",
      "metadata": {
        "id": "_Sq3BzeAUBnX"
      },
      "source": [
        "Flexin Analyzer"
      ]
    },
    {
      "cell_type": "code",
      "execution_count": 43,
      "metadata": {
        "id": "gRAh7DqFr0wV"
      },
      "outputs": [],
      "source": [
        "def flexin(symbols, history, times):\n",
        "  import pandas as pd\n",
        "  import concurrent.futures as cf\n",
        "  from concurrent.futures import ThreadPoolExecutor\n",
        "\n",
        "  for symbol in symbols:\n",
        "    result = list()\n",
        "    title(symbol)\n",
        "    for time in times:\n",
        "      df = apply(symbol, history, time)\n",
        "      show_hurst(df)\n",
        "      result.append({\n",
        "          \"Symbol\": symbol,\n",
        "          \"Time\": time,\n",
        "          \"Signal\": df[\"Signal\"][-1],\n",
        "          \"Price\": df[\"Close\"][-1],\n",
        "          \"ATR\": df[\"ATRr_14\"][-1]\n",
        "          })\n",
        "    signal = pd.DataFrame(result)\n",
        "    try:\n",
        "      if check(signal) == \"Buy\":\n",
        "        telegram(result)\n",
        "        #data = compute_atr(symbol, history)\n",
        "      elif check(signal) == \"Sell\":\n",
        "        telegram(result)\n",
        "        #data = compute_atr(symbol, history)\n",
        "      else:\n",
        "        wait()\n",
        "        transition()\n",
        "    except:\n",
        "      return f\"Check Signal no response for {symbol}... ❌\""
      ]
    },
    {
      "cell_type": "markdown",
      "metadata": {
        "id": "p-05FcpZUHh8"
      },
      "source": [
        "Main function"
      ]
    },
    {
      "cell_type": "code",
      "execution_count": 44,
      "metadata": {
        "id": "DAfWjkA6fwV9"
      },
      "outputs": [],
      "source": [
        "def main():\n",
        "  while True:\n",
        "    flexin(wallet, history, time)\n",
        "    transition()"
      ]
    },
    {
      "cell_type": "markdown",
      "metadata": {
        "id": "GHC4kY4IUW1A"
      },
      "source": [
        "Execute"
      ]
    },
    {
      "cell_type": "code",
      "execution_count": null,
      "metadata": {
        "id": "7ot1u_5ffqKY"
      },
      "outputs": [],
      "source": [
        "main()"
      ]
    },
    {
      "cell_type": "markdown",
      "metadata": {
        "id": "1kg6cP2hZEcU"
      },
      "source": [
        "Thanks :)"
      ]
    }
  ],
  "metadata": {
    "colab": {
      "provenance": [],
      "authorship_tag": "ABX9TyPxV8zwOKm8o1271bZEu9lH",
      "include_colab_link": true
    },
    "kernelspec": {
      "display_name": "Python 3",
      "name": "python3"
    },
    "language_info": {
      "name": "python"
    }
  },
  "nbformat": 4,
  "nbformat_minor": 0
}