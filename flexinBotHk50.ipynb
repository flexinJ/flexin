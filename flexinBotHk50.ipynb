{
  "cells": [
    {
      "cell_type": "markdown",
      "metadata": {
        "id": "view-in-github",
        "colab_type": "text"
      },
      "source": [
        "<a href=\"https://colab.research.google.com/github/flexinJ/flexinBot/blob/main/flexinBotHk50.ipynb\" target=\"_parent\"><img src=\"https://colab.research.google.com/assets/colab-badge.svg\" alt=\"Open In Colab\"/></a>"
      ]
    },
    {
      "cell_type": "code",
      "execution_count": 1,
      "metadata": {
        "colab": {
          "base_uri": "https://localhost:8080/"
        },
        "id": "t_aFRGeP8o2w",
        "outputId": "e773c3d2-6057-497d-b0b6-6ea6ff7f0dfb"
      },
      "outputs": [
        {
          "output_type": "stream",
          "name": "stdout",
          "text": [
            "Looking in indexes: https://pypi.org/simple, https://us-python.pkg.dev/colab-wheels/public/simple/\n",
            "Collecting yfinance\n",
            "  Downloading yfinance-0.1.87-py2.py3-none-any.whl (29 kB)\n",
            "Requirement already satisfied: numpy>=1.15 in /usr/local/lib/python3.7/dist-packages (from yfinance) (1.21.6)\n",
            "Requirement already satisfied: pandas>=0.24.0 in /usr/local/lib/python3.7/dist-packages (from yfinance) (1.3.5)\n",
            "Collecting requests>=2.26\n",
            "  Downloading requests-2.28.1-py3-none-any.whl (62 kB)\n",
            "\u001b[K     |████████████████████████████████| 62 kB 699 kB/s \n",
            "\u001b[?25hRequirement already satisfied: multitasking>=0.0.7 in /usr/local/lib/python3.7/dist-packages (from yfinance) (0.0.11)\n",
            "Requirement already satisfied: lxml>=4.5.1 in /usr/local/lib/python3.7/dist-packages (from yfinance) (4.9.1)\n",
            "Requirement already satisfied: appdirs>=1.4.4 in /usr/local/lib/python3.7/dist-packages (from yfinance) (1.4.4)\n",
            "Requirement already satisfied: python-dateutil>=2.7.3 in /usr/local/lib/python3.7/dist-packages (from pandas>=0.24.0->yfinance) (2.8.2)\n",
            "Requirement already satisfied: pytz>=2017.3 in /usr/local/lib/python3.7/dist-packages (from pandas>=0.24.0->yfinance) (2022.6)\n",
            "Requirement already satisfied: six>=1.5 in /usr/local/lib/python3.7/dist-packages (from python-dateutil>=2.7.3->pandas>=0.24.0->yfinance) (1.15.0)\n",
            "Requirement already satisfied: idna<4,>=2.5 in /usr/local/lib/python3.7/dist-packages (from requests>=2.26->yfinance) (2.10)\n",
            "Requirement already satisfied: urllib3<1.27,>=1.21.1 in /usr/local/lib/python3.7/dist-packages (from requests>=2.26->yfinance) (1.24.3)\n",
            "Requirement already satisfied: certifi>=2017.4.17 in /usr/local/lib/python3.7/dist-packages (from requests>=2.26->yfinance) (2022.9.24)\n",
            "Requirement already satisfied: charset-normalizer<3,>=2 in /usr/local/lib/python3.7/dist-packages (from requests>=2.26->yfinance) (2.1.1)\n",
            "Installing collected packages: requests, yfinance\n",
            "  Attempting uninstall: requests\n",
            "    Found existing installation: requests 2.23.0\n",
            "    Uninstalling requests-2.23.0:\n",
            "      Successfully uninstalled requests-2.23.0\n",
            "Successfully installed requests-2.28.1 yfinance-0.1.87\n",
            "Looking in indexes: https://pypi.org/simple, https://us-python.pkg.dev/colab-wheels/public/simple/\n",
            "Requirement already satisfied: numpy in /usr/local/lib/python3.7/dist-packages (1.21.6)\n",
            "Looking in indexes: https://pypi.org/simple, https://us-python.pkg.dev/colab-wheels/public/simple/\n",
            "Requirement already satisfied: pandas in /usr/local/lib/python3.7/dist-packages (1.3.5)\n",
            "Requirement already satisfied: python-dateutil>=2.7.3 in /usr/local/lib/python3.7/dist-packages (from pandas) (2.8.2)\n",
            "Requirement already satisfied: numpy>=1.17.3 in /usr/local/lib/python3.7/dist-packages (from pandas) (1.21.6)\n",
            "Requirement already satisfied: pytz>=2017.3 in /usr/local/lib/python3.7/dist-packages (from pandas) (2022.6)\n",
            "Requirement already satisfied: six>=1.5 in /usr/local/lib/python3.7/dist-packages (from python-dateutil>=2.7.3->pandas) (1.15.0)\n",
            "Looking in indexes: https://pypi.org/simple, https://us-python.pkg.dev/colab-wheels/public/simple/\n",
            "Collecting hurst\n",
            "  Downloading hurst-0.0.5-py3-none-any.whl (5.9 kB)\n",
            "Requirement already satisfied: numpy>=1.10 in /usr/local/lib/python3.7/dist-packages (from hurst) (1.21.6)\n",
            "Requirement already satisfied: pandas>=0.18 in /usr/local/lib/python3.7/dist-packages (from hurst) (1.3.5)\n",
            "Requirement already satisfied: pytz>=2017.3 in /usr/local/lib/python3.7/dist-packages (from pandas>=0.18->hurst) (2022.6)\n",
            "Requirement already satisfied: python-dateutil>=2.7.3 in /usr/local/lib/python3.7/dist-packages (from pandas>=0.18->hurst) (2.8.2)\n",
            "Requirement already satisfied: six>=1.5 in /usr/local/lib/python3.7/dist-packages (from python-dateutil>=2.7.3->pandas>=0.18->hurst) (1.15.0)\n",
            "Installing collected packages: hurst\n",
            "Successfully installed hurst-0.0.5\n"
          ]
        }
      ],
      "source": [
        "# Downloading required packages\n",
        "!pip install yfinance\n",
        "!pip install numpy\n",
        "!pip install pandas\n",
        "!pip install hurst"
      ]
    },
    {
      "cell_type": "code",
      "execution_count": 2,
      "metadata": {
        "id": "NsE9PTzF9hB7"
      },
      "outputs": [],
      "source": [
        "# Import of the necessary modules\n",
        "import numpy as np\n",
        "import pandas as pd\n",
        "import math\n",
        "import yfinance as yf\n",
        "from hurst import compute_Hc\n",
        "import matplotlib.pyplot as plt\n",
        "from IPython.display import clear_output \n",
        "from time import sleep"
      ]
    },
    {
      "cell_type": "code",
      "execution_count": 3,
      "metadata": {
        "id": "afGCAGmh-QT-"
      },
      "outputs": [],
      "source": [
        "######################## Welcome ##########################\n",
        "# Based in fibo sequence.\n",
        "# Flexin (@moraisjota) make this ~ enjoy xD\n",
        "######################## FlexinBot ########################"
      ]
    },
    {
      "cell_type": "code",
      "execution_count": 4,
      "metadata": {
        "id": "Ir6D5Y5W_1dF"
      },
      "outputs": [],
      "source": [
        "class tradingSystem():\n",
        "  def flexin(symbol, dateRange, timeFrame):\n",
        "    ######################## DataFrame ########################\n",
        "    # Finance database import\n",
        "    data = yf.Ticker(symbol).history(period=dateRange, interval=timeFrame)\n",
        "    data.drop(['Volume', 'Dividends', 'Stock Splits'], axis=1, inplace=True)\n",
        "    ######################## Indicators ########################\n",
        "    # Moving average\n",
        "    # 8, 13 and 55 periods (EMA, Adj close)\n",
        "    data['mA8'] = data['Close'].ewm(span=8, min_periods=8).mean()\n",
        "    data['mA13'] = data['Close'].ewm(span=13, min_periods=13).mean()\n",
        "    data['mA55'] = data['Close'].ewm(span=55, min_periods=55).mean()\n",
        "    # Ichimoku Cloud\n",
        "    # 8, 21 and 55 periods\n",
        "    data['tenkanSen'] = (data['High'].rolling(window=8).max()+data['High'].rolling(window=8).min())/2\n",
        "    data['kijunSen'] = (data['High'].rolling(window=21).max()+data['Low'].rolling(window=21).min())/2\n",
        "    data['senkouA'] = ((data['tenkanSen']+data['kijunSen'])/2).shift(21)\n",
        "    data['senkouB'] = ((data['High'].rolling(window=55).max()+data['Low'].rolling(window=55).min())/2).shift(21)\n",
        "    # Relative Strength Index (RSI)\n",
        "    # 21 periods (close) \n",
        "    diff = data['Close'].diff()\n",
        "    diffUp = diff.clip(lower=0)\n",
        "    diffDown = -1*diff.clip(upper=0)\n",
        "    averageGain = diffUp.ewm(span=21, min_periods=21).mean()\n",
        "    averageLoss = abs(diffDown.ewm(span=21, min_periods=21).mean())\n",
        "    relativeStrength = averageGain / averageLoss\n",
        "    data['RSI'] = RSI = 100.0 - (100.0 / (1.0 + relativeStrength))\n",
        "    # Calculate series of Log return of close prices \n",
        "    data['logCloseReturn'] = np.log(data['Close']/data['Close'].shift(1))\n",
        "    ######################## Hurst exponent filter ########################\n",
        "    '''\n",
        "    H = 0.5 — Brownian motion\n",
        "    0.5 < H < 1.0 — persistent behavior\n",
        "    0 < H < 0.5 — anti-persistent behavior\n",
        "    '''\n",
        "    # Funcion def calculate Hurst Exponent (available on github on https://github.com/Mottl/hurst)\n",
        "    H = lambda x: compute_Hc(x)[0]\n",
        "    data['Hurst'] = data['logCloseReturn'].rolling(window=100).apply(H)\n",
        "    # Dealing with NaN data\n",
        "    data.dropna(inplace=True, axis=0)\n",
        "    ######################## Current values ########################\n",
        "    # Capturing all required current values of variables\n",
        "    currentValues = dict()\n",
        "    # Close price\n",
        "    currentValues['Close price'] = currentClosePrice = data['Close'][-1]\n",
        "    # Open price\n",
        "    currentValues['Open price'] = currentOpenPrice = data['Open'][-1]\n",
        "    # Moving average\n",
        "    currentValues['Ma8'] = currentMa8 = data['mA8'][-1]\n",
        "    currentValues['Ma13'] = currentMa13 = data['mA13'][-1]\n",
        "    currentValues['Ma55'] = currentMa55 = data['mA55'][-1]\n",
        "    # Ichimoku Cloud\n",
        "    currentValues['Senkou A'] = currentSenkouA = data['senkouA'][-1]\n",
        "    currentValues['Senkou B'] = currentSenkouB = data['senkouB'][-1]\n",
        "    # RSI\n",
        "    currentValues['Rsi'] = currentRsi = data['RSI'][-1]\n",
        "    # Hurst exponent\n",
        "    currentValues['Hurst'] = currentHurst = data['Hurst'][-1]\n",
        "    print('-----------------------------------------------------------------')\n",
        "    # Plot hurst graph\n",
        "    data['Hurst'].tail(5).plot(figsize=(8, 5), color='deepskyblue', linestyle='dashdot').grid(True)\n",
        "    plt.title('Hurst Exponent', fontsize=20)\n",
        "    plt.xlabel('Time', size=16,  color = 'r')\n",
        "    plt.ylabel('Hurst value', size=16, color = 'deepskyblue') \n",
        "    plt.show()\n",
        "    # View current data\n",
        "    print('######################## Flexin strategy ########################')\n",
        "    currentValues = dict(sorted(currentValues.items(), key=lambda item: item[1]))\n",
        "    for k, v in currentValues.items():\n",
        "      currentValues = sorted(currentValues)\n",
        "      print(f'{k}| {v.round(4)}')\n",
        "    print('######################## Flexin signals! ########################')\n",
        "    ######################## Flexin strategy ########################\n",
        "    # Buy\n",
        "    if currentClosePrice > currentMa8 and currentOpenPrice > currentMa8 and currentMa8 > currentMa13 and currentMa13 > currentMa55 and currentMa13 > currentSenkouA and currentSenkouA > currentSenkouB and currentRsi > 50 and 1 > currentHurst > 0.5:\n",
        "      buy = True\n",
        "      print('Buy:', buy)\n",
        "    else:\n",
        "      print('Buy: False')\n",
        "    # Sell\n",
        "    if currentClosePrice < currentMa8 and currentOpenPrice < currentMa8 and currentMa8 < currentMa13 and currentMa13 < currentMa55 and currentMa13 < currentSenkouA and currentSenkouA < currentSenkouB and currentRsi < 50 and 1 > currentHurst > 0.5:\n",
        "      sell = True\n",
        "      print('Sell: ', sell)\n",
        "    else:\n",
        "      print('Sell: False')\n",
        "    print('-----------------------------------------------------------------')"
      ]
    },
    {
      "cell_type": "code",
      "execution_count": null,
      "metadata": {
        "colab": {
          "base_uri": "https://localhost:8080/",
          "height": 613
        },
        "id": "AZvXDWeU-zd3",
        "outputId": "b16c684d-5cb5-4fab-fa10-4bbc4835f192"
      },
      "outputs": [
        {
          "output_type": "stream",
          "name": "stdout",
          "text": [
            "-----------------------------------------------------------------\n"
          ]
        },
        {
          "output_type": "display_data",
          "data": {
            "text/plain": [
              "<Figure size 576x360 with 1 Axes>"
            ],
            "image/png": "[encoded data removed]"
          },
          "metadata": {
            "needs_background": "light"
          }
        },
        {
          "output_type": "stream",
          "name": "stdout",
          "text": [
            "######################## Flexin strategy ########################\n",
            "Hurst| 0.4685\n",
            "Rsi| 47.117\n",
            "Senkou A| 18153.5845\n",
            "Ma55| 18196.9314\n",
            "Close price| 18203.2598\n",
            "Open price| 18203.2598\n",
            "Ma8| 18209.8574\n",
            "Ma13| 18212.298\n",
            "Senkou B| 18214.2656\n",
            "######################## Flexin signals! ########################\n",
            "Buy: False\n",
            "Sell: False\n",
            "-----------------------------------------------------------------\n"
          ]
        }
      ],
      "source": [
        "# 'EURUSD=X', '1mo', '15m'\n",
        "# '^HSI', '5d', '1m'\n",
        "while True:\n",
        "  tradingSystem.flexin('^HSI', '7d', '1m')\n",
        "  sleep(60)\n",
        "  clear_output()"
      ]
    }
  ],
  "metadata": {
    "colab": {
      "provenance": [],
      "authorship_tag": "ABX9TyPZtG5dQ+Rs2MSlVWzi2UAy",
      "include_colab_link": true
    },
    "kernelspec": {
      "display_name": "Python 3",
      "name": "python3"
    },
    "language_info": {
      "name": "python"
    },
    "gpuClass": "standard"
  },
  "nbformat": 4,
  "nbformat_minor": 0
}