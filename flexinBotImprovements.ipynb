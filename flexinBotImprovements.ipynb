{
  "cells": [
    {
      "cell_type": "markdown",
      "metadata": {
        "id": "view-in-github",
        "colab_type": "text"
      },
      "source": [
        "<a href=\"https://colab.research.google.com/github/flexinJ/flexinBot/blob/main/flexinBotImprovements.ipynb\" target=\"_parent\"><img src=\"https://colab.research.google.com/assets/colab-badge.svg\" alt=\"Open In Colab\"/></a>"
      ]
    },
    {
      "cell_type": "code",
      "execution_count": 1,
      "metadata": {
        "colab": {
          "base_uri": "https://localhost:8080/"
        },
        "id": "t_aFRGeP8o2w",
        "outputId": "c10b3dbc-4747-4c12-cdcb-2fc34c7a0ac2"
      },
      "outputs": [
        {
          "output_type": "stream",
          "name": "stdout",
          "text": [
            "Looking in indexes: https://pypi.org/simple, https://us-python.pkg.dev/colab-wheels/public/simple/\n",
            "Requirement already satisfied: yfinance in /usr/local/lib/python3.7/dist-packages (0.1.87)\n",
            "Requirement already satisfied: requests>=2.26 in /usr/local/lib/python3.7/dist-packages (from yfinance) (2.28.1)\n",
            "Requirement already satisfied: multitasking>=0.0.7 in /usr/local/lib/python3.7/dist-packages (from yfinance) (0.0.11)\n",
            "Requirement already satisfied: lxml>=4.5.1 in /usr/local/lib/python3.7/dist-packages (from yfinance) (4.9.1)\n",
            "Requirement already satisfied: pandas>=0.24.0 in /usr/local/lib/python3.7/dist-packages (from yfinance) (1.3.5)\n",
            "Requirement already satisfied: appdirs>=1.4.4 in /usr/local/lib/python3.7/dist-packages (from yfinance) (1.4.4)\n",
            "Requirement already satisfied: numpy>=1.15 in /usr/local/lib/python3.7/dist-packages (from yfinance) (1.21.6)\n",
            "Requirement already satisfied: python-dateutil>=2.7.3 in /usr/local/lib/python3.7/dist-packages (from pandas>=0.24.0->yfinance) (2.8.2)\n",
            "Requirement already satisfied: pytz>=2017.3 in /usr/local/lib/python3.7/dist-packages (from pandas>=0.24.0->yfinance) (2022.6)\n",
            "Requirement already satisfied: six>=1.5 in /usr/local/lib/python3.7/dist-packages (from python-dateutil>=2.7.3->pandas>=0.24.0->yfinance) (1.15.0)\n",
            "Requirement already satisfied: urllib3<1.27,>=1.21.1 in /usr/local/lib/python3.7/dist-packages (from requests>=2.26->yfinance) (1.24.3)\n",
            "Requirement already satisfied: certifi>=2017.4.17 in /usr/local/lib/python3.7/dist-packages (from requests>=2.26->yfinance) (2022.9.24)\n",
            "Requirement already satisfied: charset-normalizer<3,>=2 in /usr/local/lib/python3.7/dist-packages (from requests>=2.26->yfinance) (2.1.1)\n",
            "Requirement already satisfied: idna<4,>=2.5 in /usr/local/lib/python3.7/dist-packages (from requests>=2.26->yfinance) (2.10)\n",
            "Looking in indexes: https://pypi.org/simple, https://us-python.pkg.dev/colab-wheels/public/simple/\n",
            "Requirement already satisfied: numpy in /usr/local/lib/python3.7/dist-packages (1.21.6)\n",
            "Looking in indexes: https://pypi.org/simple, https://us-python.pkg.dev/colab-wheels/public/simple/\n",
            "Requirement already satisfied: pandas in /usr/local/lib/python3.7/dist-packages (1.3.5)\n",
            "Requirement already satisfied: python-dateutil>=2.7.3 in /usr/local/lib/python3.7/dist-packages (from pandas) (2.8.2)\n",
            "Requirement already satisfied: pytz>=2017.3 in /usr/local/lib/python3.7/dist-packages (from pandas) (2022.6)\n",
            "Requirement already satisfied: numpy>=1.17.3 in /usr/local/lib/python3.7/dist-packages (from pandas) (1.21.6)\n",
            "Requirement already satisfied: six>=1.5 in /usr/local/lib/python3.7/dist-packages (from python-dateutil>=2.7.3->pandas) (1.15.0)\n",
            "Looking in indexes: https://pypi.org/simple, https://us-python.pkg.dev/colab-wheels/public/simple/\n",
            "Requirement already satisfied: hurst in /usr/local/lib/python3.7/dist-packages (0.0.5)\n",
            "Requirement already satisfied: numpy>=1.10 in /usr/local/lib/python3.7/dist-packages (from hurst) (1.21.6)\n",
            "Requirement already satisfied: pandas>=0.18 in /usr/local/lib/python3.7/dist-packages (from hurst) (1.3.5)\n",
            "Requirement already satisfied: python-dateutil>=2.7.3 in /usr/local/lib/python3.7/dist-packages (from pandas>=0.18->hurst) (2.8.2)\n",
            "Requirement already satisfied: pytz>=2017.3 in /usr/local/lib/python3.7/dist-packages (from pandas>=0.18->hurst) (2022.6)\n",
            "Requirement already satisfied: six>=1.5 in /usr/local/lib/python3.7/dist-packages (from python-dateutil>=2.7.3->pandas>=0.18->hurst) (1.15.0)\n"
          ]
        }
      ],
      "source": [
        "# Downloading required packages\n",
        "!pip install yfinance\n",
        "!pip install numpy\n",
        "!pip install pandas\n",
        "!pip install hurst"
      ]
    },
    {
      "cell_type": "code",
      "execution_count": 2,
      "metadata": {
        "id": "NsE9PTzF9hB7"
      },
      "outputs": [],
      "source": [
        "# Import of the necessary modules\n",
        "import numpy as np\n",
        "import pandas as pd\n",
        "import math\n",
        "import yfinance as yf\n",
        "from hurst import compute_Hc\n",
        "import matplotlib.pyplot as plt\n",
        "from IPython.display import clear_output \n",
        "from time import sleep"
      ]
    },
    {
      "cell_type": "code",
      "execution_count": 3,
      "metadata": {
        "id": "afGCAGmh-QT-"
      },
      "outputs": [],
      "source": [
        "######################## Welcome ##########################\n",
        "# Based in fibo sequence.\n",
        "# Flexin (@moraisjota) make this ~ enjoy xD\n",
        "######################## FlexinBot ########################"
      ]
    },
    {
      "cell_type": "code",
      "execution_count": 25,
      "metadata": {
        "id": "Ir6D5Y5W_1dF"
      },
      "outputs": [],
      "source": [
        "class tradingSystem():\n",
        "  def flexin(symbol, dateRange, timeFrame):\n",
        "    ######################## DataFrame ########################\n",
        "    # Finance database import\n",
        "    data = yf.Ticker(symbol).history(period=dateRange, interval=timeFrame)\n",
        "    data.drop(['Volume', 'Dividends', 'Stock Splits'], axis=1, inplace=True)\n",
        "    ######################## Indicators ########################\n",
        "    # Moving average\n",
        "    # 8, 13 and 55 periods (EMA, Adj close)\n",
        "    data['mA8'] = data['Close'].ewm(span=8, min_periods=8).mean()\n",
        "    data['mA13'] = data['Close'].ewm(span=13, min_periods=13).mean()\n",
        "    data['mA55'] = data['Close'].ewm(span=55, min_periods=55).mean()\n",
        "    # Ichimoku Cloud\n",
        "    # 8, 21 and 55 periods\n",
        "    data['tenkanSen'] = (data['High'].rolling(window=8).max()+data['High'].rolling(window=8).min())/2\n",
        "    data['kijunSen'] = (data['High'].rolling(window=21).max()+data['Low'].rolling(window=21).min())/2\n",
        "    data['senkouA'] = ((data['tenkanSen']+data['kijunSen'])/2).shift(21)\n",
        "    data['senkouB'] = ((data['High'].rolling(window=55).max()+data['Low'].rolling(window=55).min())/2).shift(21)\n",
        "    # Relative Strength Index (RSI)\n",
        "    # 21 periods (close) \n",
        "    diff = data['Close'].diff()\n",
        "    diffUp = diff.clip(lower=0)\n",
        "    diffDown = -1*diff.clip(upper=0)\n",
        "    averageGain = diffUp.ewm(span=21, min_periods=21).mean()\n",
        "    averageLoss = abs(diffDown.ewm(span=21, min_periods=21).mean())\n",
        "    relativeStrength = averageGain / averageLoss\n",
        "    data['RSI'] = RSI = 100.0 - (100.0 / (1.0 + relativeStrength))\n",
        "    # Calculate series of Log return of close prices \n",
        "    data['logCloseReturn'] = np.log(data['Close']/data['Close'].shift(1))\n",
        "    ######################## Hurst exponent filter ########################\n",
        "    '''\n",
        "    H = 0.5 — Brownian motion\n",
        "    0.5 < H < 1.0 — persistent behavior\n",
        "    0 < H < 0.5 — anti-persistent behavior\n",
        "    '''\n",
        "    # Funcion def calculate Hurst Exponent (available on github on https://github.com/Mottl/hurst)\n",
        "    H = lambda x: compute_Hc(x)[0]\n",
        "    data['Hurst'] = data['logCloseReturn'].rolling(window=100).apply(H)\n",
        "    # Dealing with NaN data\n",
        "    data.dropna(inplace=True, axis=0)\n",
        "    ######################## Current values ########################\n",
        "    # Capturing all required current values of variables\n",
        "    currentValues = dict()\n",
        "    # Close price\n",
        "    currentValues['Close price'] = currentClosePrice = data['Close'][-1]\n",
        "    # Open price\n",
        "    currentValues['Open price'] = currentOpenPrice = data['Open'][-1]\n",
        "    # Moving average\n",
        "    currentValues['Ma8'] = currentMa8 = data['mA8'][-1]\n",
        "    currentValues['Ma13'] = currentMa13 = data['mA13'][-1]\n",
        "    currentValues['Ma55'] = currentMa55 = data['mA55'][-1]\n",
        "    # Ichimoku Cloud\n",
        "    currentValues['Senkou A'] = currentSenkouA = data['senkouA'][-1]\n",
        "    currentValues['Senkou B'] = currentSenkouB = data['senkouB'][-1]\n",
        "    # RSI\n",
        "    currentValues['Rsi'] = currentRsi = data['RSI'][-1]\n",
        "    # Hurst exponent\n",
        "    currentValues['Hurst'] = currentHurst = data['Hurst'][-1]\n",
        "    print('-----------------------------------------------------------------')\n",
        "    # Plot hurst graph\n",
        "    '''data['Hurst'].tail(5).plot(figsize=(7.7, 5), color='deepskyblue', linestyle='dashdot').grid(True)\n",
        "    plt.title(f'Hurst Exponent of {symbol}', fontsize=20)\n",
        "    plt.xlabel('Time', size=12,  color = 'r')\n",
        "    plt.ylabel('Hurst value', size=12, color = 'deepskyblue') \n",
        "    plt.show()'''\n",
        "    # View current data\n",
        "    print('####################### Flexin strategy 🤖 ######################')\n",
        "    currentValues = dict(sorted(currentValues.items(), key=lambda item: item[1]))\n",
        "    for k, v in currentValues.items():\n",
        "      currentValues = sorted(currentValues)\n",
        "      print(f'{k}| {v.round(2)}')\n",
        "    print('######################## Flexin signals! ########################')\n",
        "    ######################## Flexin strategy ########################\n",
        "    if 1 > currentHurst > 0.55:\n",
        "      print(f'WOW! Hurst exponent is equal to {currentHurst.round(2)} w/ persistent behavior.')\n",
        "      # Buy signal\n",
        "      if currentRsi > 50:\n",
        "        print(f'Relative strength index above 50% level. ⬆️')\n",
        "        if currentSenkouA > currentSenkouB:\n",
        "          print(f'Floating above the clouds. 😶‍🌫️')\n",
        "          if currentClosePrice > currentMa8 and currentClosePrice > currentMa13 and currentClosePrice > currentMa55:\n",
        "            buy = True\n",
        "            print(f'Uptrend probability at {currentClosePrice.round(2)}, sr. J!!! 📈📈📈')\n",
        "            while True in buy:\n",
        "              print('Buy order is open.')\n",
        "              if currentRsi < 50 and currentClosePrice < currentMa8 and currentClosePrice < currentMa13 and currentClosePrice < currentMa55:\n",
        "                print('Close buy order.')\n",
        "                buy = False\n",
        "      else:\n",
        "        print(f'Relative strength index below 50% level ⬇️')\n",
        "        if currentSenkouA < currentSenkouB:\n",
        "          print(f'Floating below the clouds. 🌥️')\n",
        "          if currentClosePrice < currentMa8 and currentClosePrice < currentMa13 and currentClosePrice < currentMa55:\n",
        "            sell = True\n",
        "            print(f'Downtrend probability at {currentClosePrice.round(2)}, sr. J!!! 📉📉📉')\n",
        "            while True in sell:\n",
        "              print('Sell order is open.')\n",
        "              if currentRsi < 50 and currentClosePrice > currentMa8 and currentClosePrice > currentMa13 and currentClosePrice > currentMa55:\n",
        "                print('Close sell order.')\n",
        "                sell = False\n",
        "    else:\n",
        "      print('Wait...! Anti-persistent behavior.')\n",
        "    '''# Buy\n",
        "    if currentClosePrice > currentMa8 and currentOpenPrice > currentMa8 and currentMa8 > currentMa13 and currentMa13 > currentMa55 and currentMa55 > currentSenkouA and currentSenkouA > currentSenkouB and currentRsi > 50 and 1 > currentHurst > 0.55:\n",
        "      buy = True\n",
        "      print(f'Buy: order {buy} at {currentClosePrice}')\n",
        "    else:\n",
        "      print('Buy: False')\n",
        "    # Sell\n",
        "    if currentClosePrice < currentMa8 and currentOpenPrice < currentMa8 and currentMa8 < currentMa13 and currentMa13 < currentMa55 and currentMa55 < currentSenkouA and currentSenkouA < currentSenkouB and currentRsi < 50 and 1 > currentHurst > 0.55:\n",
        "      sell = True\n",
        "      print(f'Buy: order {sell} at {currentClosePrice}')\n",
        "    else:\n",
        "      print('Sell: False')'''"
      ]
    },
    {
      "cell_type": "code",
      "execution_count": null,
      "metadata": {
        "id": "AZvXDWeU-zd3",
        "colab": {
          "base_uri": "https://localhost:8080/"
        },
        "outputId": "67faaa0b-287d-4c5d-b2b8-7d53596118ac"
      },
      "outputs": [
        {
          "output_type": "stream",
          "name": "stdout",
          "text": [
            "-----------------------------------------------------------------\n",
            "####################### Flexin strategy 🤖 ######################\n",
            "Hurst| 0.2\n",
            "Rsi| 20.67\n",
            "Close price| 18685.37\n",
            "Open price| 18685.37\n",
            "Ma8| 18687.75\n",
            "Ma13| 18696.38\n",
            "Ma55| 18777.53\n",
            "Senkou A| 18839.31\n",
            "Senkou B| 18853.81\n",
            "######################## Flexin signals! ########################\n",
            "Wait...! Anti-persistent behavior.\n"
          ]
        }
      ],
      "source": [
        "while True:\n",
        "  tradingSystem.flexin('^HSI', '5d', '1m')\n",
        "  sleep(60)\n",
        "  clear_output()"
      ]
    },
    {
      "cell_type": "code",
      "source": [],
      "metadata": {
        "id": "wT3kCvxAOQtH"
      },
      "execution_count": null,
      "outputs": []
    }
  ],
  "metadata": {
    "colab": {
      "provenance": [],
      "authorship_tag": "ABX9TyP1yOYUJNJy+Ejo41Ej1Iz1",
      "include_colab_link": true
    },
    "kernelspec": {
      "display_name": "Python 3",
      "name": "python3"
    },
    "language_info": {
      "name": "python"
    },
    "gpuClass": "standard",
    "accelerator": "TPU"
  },
  "nbformat": 4,
  "nbformat_minor": 0
}