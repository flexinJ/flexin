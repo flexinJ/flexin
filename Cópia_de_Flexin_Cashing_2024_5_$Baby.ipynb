{
  "cells": [
    {
      "cell_type": "markdown",
      "metadata": {
        "id": "view-in-github",
        "colab_type": "text"
      },
      "source": [
        "<a href=\"https://colab.research.google.com/github/flexinJ/flexin/blob/main/C%C3%B3pia_de_Flexin_Cashing_2024_5_%24Baby.ipynb\" target=\"_parent\"><img src=\"https://colab.research.google.com/assets/colab-badge.svg\" alt=\"Open In Colab\"/></a>"
      ]
    },
    {
      "cell_type": "code",
      "execution_count": 133,
      "metadata": {
        "colab": {
          "base_uri": "https://localhost:8080/"
        },
        "id": "deNjJ2VIHK7x",
        "outputId": "897c2ae7-b322-41cc-ebd7-44d65e81436a"
      },
      "outputs": [
        {
          "output_type": "stream",
          "name": "stdout",
          "text": [
            "Requirement already satisfied: hurst in /usr/local/lib/python3.10/dist-packages (0.0.5)\n",
            "Requirement already satisfied: pandas>=0.18 in /usr/local/lib/python3.10/dist-packages (from hurst) (2.0.3)\n",
            "Requirement already satisfied: numpy>=1.10 in /usr/local/lib/python3.10/dist-packages (from hurst) (1.25.2)\n",
            "Requirement already satisfied: python-dateutil>=2.8.2 in /usr/local/lib/python3.10/dist-packages (from pandas>=0.18->hurst) (2.8.2)\n",
            "Requirement already satisfied: pytz>=2020.1 in /usr/local/lib/python3.10/dist-packages (from pandas>=0.18->hurst) (2023.4)\n",
            "Requirement already satisfied: tzdata>=2022.1 in /usr/local/lib/python3.10/dist-packages (from pandas>=0.18->hurst) (2024.1)\n",
            "Requirement already satisfied: six>=1.5 in /usr/local/lib/python3.10/dist-packages (from python-dateutil>=2.8.2->pandas>=0.18->hurst) (1.16.0)\n",
            "Requirement already satisfied: yfinance in /usr/local/lib/python3.10/dist-packages (0.2.40)\n",
            "Requirement already satisfied: pandas>=1.3.0 in /usr/local/lib/python3.10/dist-packages (from yfinance) (2.0.3)\n",
            "Requirement already satisfied: numpy>=1.16.5 in /usr/local/lib/python3.10/dist-packages (from yfinance) (1.25.2)\n",
            "Requirement already satisfied: requests>=2.31 in /usr/local/lib/python3.10/dist-packages (from yfinance) (2.31.0)\n",
            "Requirement already satisfied: multitasking>=0.0.7 in /usr/local/lib/python3.10/dist-packages (from yfinance) (0.0.11)\n",
            "Requirement already satisfied: lxml>=4.9.1 in /usr/local/lib/python3.10/dist-packages (from yfinance) (4.9.4)\n",
            "Requirement already satisfied: platformdirs>=2.0.0 in /usr/local/lib/python3.10/dist-packages (from yfinance) (4.2.2)\n",
            "Requirement already satisfied: pytz>=2022.5 in /usr/local/lib/python3.10/dist-packages (from yfinance) (2023.4)\n",
            "Requirement already satisfied: frozendict>=2.3.4 in /usr/local/lib/python3.10/dist-packages (from yfinance) (2.4.4)\n",
            "Requirement already satisfied: peewee>=3.16.2 in /usr/local/lib/python3.10/dist-packages (from yfinance) (3.17.5)\n",
            "Requirement already satisfied: beautifulsoup4>=4.11.1 in /usr/local/lib/python3.10/dist-packages (from yfinance) (4.12.3)\n",
            "Requirement already satisfied: html5lib>=1.1 in /usr/local/lib/python3.10/dist-packages (from yfinance) (1.1)\n",
            "Requirement already satisfied: soupsieve>1.2 in /usr/local/lib/python3.10/dist-packages (from beautifulsoup4>=4.11.1->yfinance) (2.5)\n",
            "Requirement already satisfied: six>=1.9 in /usr/local/lib/python3.10/dist-packages (from html5lib>=1.1->yfinance) (1.16.0)\n",
            "Requirement already satisfied: webencodings in /usr/local/lib/python3.10/dist-packages (from html5lib>=1.1->yfinance) (0.5.1)\n",
            "Requirement already satisfied: python-dateutil>=2.8.2 in /usr/local/lib/python3.10/dist-packages (from pandas>=1.3.0->yfinance) (2.8.2)\n",
            "Requirement already satisfied: tzdata>=2022.1 in /usr/local/lib/python3.10/dist-packages (from pandas>=1.3.0->yfinance) (2024.1)\n",
            "Requirement already satisfied: charset-normalizer<4,>=2 in /usr/local/lib/python3.10/dist-packages (from requests>=2.31->yfinance) (3.3.2)\n",
            "Requirement already satisfied: idna<4,>=2.5 in /usr/local/lib/python3.10/dist-packages (from requests>=2.31->yfinance) (3.7)\n",
            "Requirement already satisfied: urllib3<3,>=1.21.1 in /usr/local/lib/python3.10/dist-packages (from requests>=2.31->yfinance) (2.0.7)\n",
            "Requirement already satisfied: certifi>=2017.4.17 in /usr/local/lib/python3.10/dist-packages (from requests>=2.31->yfinance) (2024.6.2)\n",
            "Requirement already satisfied: pandas_ta in /usr/local/lib/python3.10/dist-packages (0.3.14b0)\n",
            "Requirement already satisfied: pandas in /usr/local/lib/python3.10/dist-packages (from pandas_ta) (2.0.3)\n",
            "Requirement already satisfied: python-dateutil>=2.8.2 in /usr/local/lib/python3.10/dist-packages (from pandas->pandas_ta) (2.8.2)\n",
            "Requirement already satisfied: pytz>=2020.1 in /usr/local/lib/python3.10/dist-packages (from pandas->pandas_ta) (2023.4)\n",
            "Requirement already satisfied: tzdata>=2022.1 in /usr/local/lib/python3.10/dist-packages (from pandas->pandas_ta) (2024.1)\n",
            "Requirement already satisfied: numpy>=1.21.0 in /usr/local/lib/python3.10/dist-packages (from pandas->pandas_ta) (1.25.2)\n",
            "Requirement already satisfied: six>=1.5 in /usr/local/lib/python3.10/dist-packages (from python-dateutil>=2.8.2->pandas->pandas_ta) (1.16.0)\n",
            "Requirement already satisfied: requests in /usr/local/lib/python3.10/dist-packages (2.31.0)\n",
            "Requirement already satisfied: charset-normalizer<4,>=2 in /usr/local/lib/python3.10/dist-packages (from requests) (3.3.2)\n",
            "Requirement already satisfied: idna<4,>=2.5 in /usr/local/lib/python3.10/dist-packages (from requests) (3.7)\n",
            "Requirement already satisfied: urllib3<3,>=1.21.1 in /usr/local/lib/python3.10/dist-packages (from requests) (2.0.7)\n",
            "Requirement already satisfied: certifi>=2017.4.17 in /usr/local/lib/python3.10/dist-packages (from requests) (2024.6.2)\n",
            "Requirement already satisfied: pandas in /usr/local/lib/python3.10/dist-packages (2.0.3)\n",
            "Requirement already satisfied: python-dateutil>=2.8.2 in /usr/local/lib/python3.10/dist-packages (from pandas) (2.8.2)\n",
            "Requirement already satisfied: pytz>=2020.1 in /usr/local/lib/python3.10/dist-packages (from pandas) (2023.4)\n",
            "Requirement already satisfied: tzdata>=2022.1 in /usr/local/lib/python3.10/dist-packages (from pandas) (2024.1)\n",
            "Requirement already satisfied: numpy>=1.21.0 in /usr/local/lib/python3.10/dist-packages (from pandas) (1.25.2)\n",
            "Requirement already satisfied: six>=1.5 in /usr/local/lib/python3.10/dist-packages (from python-dateutil>=2.8.2->pandas) (1.16.0)\n",
            "Requirement already satisfied: numpy in /usr/local/lib/python3.10/dist-packages (1.25.2)\n"
          ]
        }
      ],
      "source": [
        "!pip install hurst\n",
        "!pip install yfinance\n",
        "!pip install pandas_ta\n",
        "!pip install requests\n",
        "!pip install pandas\n",
        "!pip install numpy"
      ]
    },
    {
      "cell_type": "markdown",
      "source": [
        "Functions"
      ],
      "metadata": {
        "id": "JFX8AR0nSE6U"
      }
    },
    {
      "cell_type": "code",
      "source": [
        "import pandas as pd\n",
        "import numpy as np\n",
        "import yfinance as yf\n",
        "import requests\n",
        "from hurst import compute_Hc\n",
        "import pandas_ta as ta\n",
        "from IPython.display import clear_output\n",
        "from time import sleep"
      ],
      "metadata": {
        "id": "kTQPWMVqJGNB"
      },
      "execution_count": 134,
      "outputs": []
    },
    {
      "cell_type": "code",
      "execution_count": 135,
      "metadata": {
        "id": "mBL2-B7DFGyR"
      },
      "outputs": [],
      "source": [
        "def get(t, p, i):\n",
        "  '''\n",
        "    Get financial data\n",
        "      param t: ticker\n",
        "      param p: period\n",
        "      param i: interval\n",
        "  '''\n",
        "  try:\n",
        "    d = yf.Ticker(t).history(period=p, interval=i)\n",
        "    d['Ticker'], d['Interval'] = t, i\n",
        "    d.drop(['Volume', 'Dividends', 'Stock Splits'], axis=1, inplace=True)\n",
        "    return d\n",
        "  except:\n",
        "    return f'Error collect data for {t}.'"
      ]
    },
    {
      "cell_type": "code",
      "source": [
        "def telegram(message):\n",
        "  '''\n",
        "    Send message to telegram\n",
        "      param message: message\n",
        "  '''\n",
        "  token = '6183952601:AAFbfrKfZb3iKX6GfYZQnatxo0lg1S4lL8Y'\n",
        "  id = '@flexinflexinbot1'\n",
        "  url = f'https://api.telegram.org/bot{token}/sendMessage'\n",
        "  try:\n",
        "    response = requests.post(url, json={'chat_id': id, 'text': message})\n",
        "    return response\n",
        "  except:\n",
        "    return f'Error sending message to telegram.'"
      ],
      "metadata": {
        "id": "eqgLPpajI0eM"
      },
      "execution_count": 136,
      "outputs": []
    },
    {
      "cell_type": "markdown",
      "source": [
        "Fix"
      ],
      "metadata": {
        "id": "AyooRmn7SBi8"
      }
    },
    {
      "cell_type": "code",
      "source": [
        "def date(d):\n",
        "  '''\n",
        "    Fix datetime\n",
        "      param d: data\n",
        "  '''\n",
        "  try:\n",
        "    if 'Datetime' not in d.columns:\n",
        "      d['Datetime'] = pd.to_datetime(d.index)\n",
        "      return d\n",
        "    else:\n",
        "      return d\n",
        "  except:\n",
        "    return f'Error in fix datetime.'"
      ],
      "metadata": {
        "id": "kFlRVVHpHyyy"
      },
      "execution_count": 137,
      "outputs": []
    },
    {
      "cell_type": "code",
      "source": [
        "def drop(d):\n",
        "  '''\n",
        "    Drop NaN rows\n",
        "      param d: data\n",
        "  '''\n",
        "  try:\n",
        "    d = d.dropna()\n",
        "    return d\n",
        "  except:\n",
        "    return f'Error in drop NaN rows.'"
      ],
      "metadata": {
        "id": "_H4JTGIFEJpX"
      },
      "execution_count": 138,
      "outputs": []
    },
    {
      "cell_type": "code",
      "source": [
        "def transition():\n",
        "  '''\n",
        "    Transition\n",
        "  '''\n",
        "  sleep(5)\n",
        "  clear_output()"
      ],
      "metadata": {
        "id": "mF1baPg-X-ce"
      },
      "execution_count": 139,
      "outputs": []
    },
    {
      "cell_type": "markdown",
      "source": [
        "Technical"
      ],
      "metadata": {
        "id": "nTd7qmzyxrPL"
      }
    },
    {
      "cell_type": "code",
      "source": [
        "def fast(d):\n",
        "  '''\n",
        "    Compute fast exponential moving average\n",
        "      param d: data\n",
        "  '''\n",
        "  try:\n",
        "    d['Fast'] = d['Close'].ewm(50).mean()\n",
        "    return d\n",
        "  except:\n",
        "    return f'Error compute fast exponential moving average.'"
      ],
      "metadata": {
        "id": "1hN4LgxGU04z"
      },
      "execution_count": 140,
      "outputs": []
    },
    {
      "cell_type": "code",
      "source": [
        "def twentyfour(d):\n",
        "  '''\n",
        "    Compute shifted fast exponential moving average\n",
        "      param d: data\n",
        "  '''\n",
        "  try:\n",
        "    d['Twentyfour'] = d['Fast'].shift(24)\n",
        "    return d\n",
        "  except:\n",
        "    return f'Error compute shifted fast exponential moving average.'"
      ],
      "metadata": {
        "id": "EKYvUPh6Y6r-"
      },
      "execution_count": 141,
      "outputs": []
    },
    {
      "cell_type": "code",
      "source": [
        "def slow(d):\n",
        "  '''\n",
        "    Compute slow exponential moving average\n",
        "      param d: data\n",
        "  '''\n",
        "  try:\n",
        "    d['Slow'] = d['Close'].ewm(100).mean()\n",
        "    return d\n",
        "  except:\n",
        "    return f'Error compute slow exponential moving average.'"
      ],
      "metadata": {
        "id": "WmkorYfLgv4X"
      },
      "execution_count": 142,
      "outputs": []
    },
    {
      "cell_type": "code",
      "source": [
        "def f(d):\n",
        "  '''\n",
        "    Compute flexin exponential moving average\n",
        "      param d: data\n",
        "  '''\n",
        "  try:\n",
        "    d['Flexin'] = d['Close'].ewm(len(d['Close'])/2).mean()\n",
        "    return d\n",
        "  except:\n",
        "    return f'Error compute flexin exponential moving average.'"
      ],
      "metadata": {
        "id": "k7eez03IhncC"
      },
      "execution_count": 143,
      "outputs": []
    },
    {
      "cell_type": "markdown",
      "source": [
        "Quantitative"
      ],
      "metadata": {
        "id": "rGQrvIEkx6Ia"
      }
    },
    {
      "cell_type": "code",
      "execution_count": 144,
      "metadata": {
        "id": "GHOHLeHSGbd1"
      },
      "outputs": [],
      "source": [
        "def log(d):\n",
        "  '''\n",
        "    Compute log return\n",
        "      param d: data\n",
        "  '''\n",
        "  try:\n",
        "    d['Log'] = np.log(d['Close']/d['Close'].shift(1))\n",
        "    return d\n",
        "  except:\n",
        "    return f'Error compute log return.'"
      ]
    },
    {
      "cell_type": "code",
      "execution_count": 145,
      "metadata": {
        "id": "98dnZJj72IgU"
      },
      "outputs": [],
      "source": [
        "def hurst(d):\n",
        "  '''\n",
        "    Compute hurst exponent\n",
        "      param d: data\n",
        "  '''\n",
        "  try:\n",
        "    H = lambda x: compute_Hc(x)[0]\n",
        "    d['Hurst'] = d['Log'].rolling(window=100).apply(H)\n",
        "    return d\n",
        "  except:\n",
        "    return f'Error compute hurst exponent.'"
      ]
    },
    {
      "cell_type": "code",
      "execution_count": 146,
      "metadata": {
        "id": "UdSk58mKPMfd"
      },
      "outputs": [],
      "source": [
        "def smooth(d):\n",
        "  '''\n",
        "    Compute smooth hurst exponent of log returns\n",
        "      param d: data\n",
        "  '''\n",
        "  s = [5, 25, 50, 75, 100]\n",
        "  try:\n",
        "    for smooth in s:\n",
        "      d[f'H_{smooth}'] = d['Hurst'].ewm(smooth).mean()\n",
        "      continue\n",
        "    return d\n",
        "  except:\n",
        "    return f'Error compute smooth hurst exponent.'"
      ]
    },
    {
      "cell_type": "code",
      "source": [
        "def adx(d):\n",
        "  '''\n",
        "    Compute average directional index\n",
        "      param d: data\n",
        "      param l: length\n",
        "  '''\n",
        "  import pandas_ta as ta\n",
        "  try:\n",
        "    adx = ta.adx(d['High'], d['Low'], d['Close'], length=14)\n",
        "    d = d.join(adx)\n",
        "    return d\n",
        "  except:\n",
        "    return f'Error compute average directional index.'\n"
      ],
      "metadata": {
        "id": "DIqC3LOSWrTt"
      },
      "execution_count": 147,
      "outputs": []
    },
    {
      "cell_type": "markdown",
      "source": [
        "Verify"
      ],
      "metadata": {
        "id": "fUgl8Sw3HmjF"
      }
    },
    {
      "cell_type": "code",
      "execution_count": 158,
      "metadata": {
        "id": "vPxtxcyi_EH6"
      },
      "outputs": [],
      "source": [
        "def signal(d):\n",
        "  '''\n",
        "    Signals\n",
        "      param d: data\n",
        "  '''\n",
        "  if d['Hurst'][-1]>0.55 and d['H_5'][-1]>d['H_25'][-1] and d['H_25'][-1]>d['H_50'][-1] and d['H_50'][-1]>d['H_75'][-1] and d['H_75'][-1]>d['H_100'][-1]:\n",
        "    if d['Hurst'][-1]>0.55 and d['Fast'][-1]>d['Slow'][-1] and d['ADX_14'][-1]>25 and d['DMP_14'][-1]>d['DMN_14'][-1] and d['Twentyfour'][-1]>d['Flexin'][-1]:\n",
        "      ticker = d['Ticker'][-1]\n",
        "      date = d['Datetime'][-1]\n",
        "      interval = d['Interval'][-1]\n",
        "      telegram(f'📲 {date}| Buy - {ticker}, {interval} (ig: @pipswithpython)')\n",
        "      return f'📲 {date}| Buy - {ticker}, {interval} (ig: @pipswithpython)'\n",
        "    elif d['Hurst'][-1]>0.55 and d['Fast'][-1]<d['Slow'][-1] and d['ADX_14'][-1]<25 and d['DMP_14'][-1]<d['DMN_14'][-1] and d['Twentyfour'][-1]<d['Flexin'][-1]:\n",
        "      ticker = d['Ticker'][-1]\n",
        "      date = d['Datetime'][-1]\n",
        "      interval = d['Interval'][-1]\n",
        "      telegram(f'📲 {date} | Sell - {ticker}, {interval} (ig: @pipswithpython)')\n",
        "      return f'📲 {date} | Sell - {ticker}, {interval} (ig: @pipswithpython)'\n",
        "    else:\n",
        "      ticker = d['Ticker'][-1]\n",
        "      date = d['Datetime'][-1]\n",
        "      interval = d['Interval'][-1]\n",
        "      return f'No signal for {ticker}, {date}, {interval}.'\n",
        "  else:\n",
        "    ticker = d['Ticker'][-1]\n",
        "    date = d['Datetime'][-1]\n",
        "    interval = d['Interval'][-1]\n",
        "    return f'Not trending for {ticker}, {date}, {interval}.'"
      ]
    },
    {
      "cell_type": "markdown",
      "source": [
        "App"
      ],
      "metadata": {
        "id": "3diNQqzCp5CS"
      }
    },
    {
      "cell_type": "code",
      "source": [
        "def apply(t, p, i):\n",
        "  '''\n",
        "    Apply all functions\n",
        "      param t: ticker\n",
        "      param p: period\n",
        "      param i: interval\n",
        "  '''\n",
        "  try:\n",
        "    d = get(t, p, i)\n",
        "    d = date(d)\n",
        "    d = log(d)\n",
        "    d = hurst(d)\n",
        "    d = smooth(d)\n",
        "    d = fast(d)\n",
        "    d = twentyfour(d)\n",
        "    d = slow(d)\n",
        "    d = f(d)\n",
        "    d = adx(d)\n",
        "    d = drop(d)\n",
        "    return d\n",
        "  except:\n",
        "    return f'Error in apply all functions.'"
      ],
      "metadata": {
        "id": "mDOFTvBwmgq2"
      },
      "execution_count": 159,
      "outputs": []
    },
    {
      "cell_type": "code",
      "source": [
        "def flexin(t, p, i):\n",
        "  '''\n",
        "    Flexin\n",
        "      param t: ticker\n",
        "      param p: period\n",
        "      param i: interval\n",
        "  '''\n",
        "  f = apply(t, p, i)\n",
        "  sig = signal(f)\n",
        "  print(sig)"
      ],
      "metadata": {
        "id": "9SeNsW5pp2lJ"
      },
      "execution_count": 160,
      "outputs": []
    },
    {
      "cell_type": "code",
      "source": [
        "wallet = ['^HSI',\n",
        "          '^N225',\n",
        "          '^DJI',\n",
        "          'BTC-USD',\n",
        "          'AUDJPY=X',\n",
        "          'JPY=X',\n",
        "          'NZDUSD=X',\n",
        "          'AUDUSD=X',\n",
        "          'CAD=X',\n",
        "          'GBPUSD=X',\n",
        "          'EURUSD=X',\n",
        "          'CHF=X']"
      ],
      "metadata": {
        "id": "ksoBEdGAzuOJ"
      },
      "execution_count": 161,
      "outputs": []
    },
    {
      "cell_type": "code",
      "source": [
        "while True:\n",
        "  for w in wallet:\n",
        "    flexin(w, '5d', '1m')\n",
        "    transition()"
      ],
      "metadata": {
        "id": "SM_GfK_Vr4WD"
      },
      "execution_count": null,
      "outputs": []
    }
  ],
  "metadata": {
    "colab": {
      "provenance": [],
      "authorship_tag": "ABX9TyNCk0wmMC30GryJpMSTGb6g",
      "include_colab_link": true
    },
    "kernelspec": {
      "display_name": "Python 3",
      "name": "python3"
    },
    "language_info": {
      "name": "python"
    }
  },
  "nbformat": 4,
  "nbformat_minor": 0
}