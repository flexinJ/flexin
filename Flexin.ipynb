{
  "cells": [
    {
      "cell_type": "markdown",
      "metadata": {
        "id": "view-in-github",
        "colab_type": "text"
      },
      "source": [
        "<a href=\"https://colab.research.google.com/github/flexinJ/flexin/blob/main/Flexin.ipynb\" target=\"_parent\"><img src=\"https://colab.research.google.com/assets/colab-badge.svg\" alt=\"Open In Colab\"/></a>"
      ]
    },
    {
      "cell_type": "code",
      "execution_count": 1,
      "metadata": {
        "colab": {
          "base_uri": "https://localhost:8080/"
        },
        "id": "t_aFRGeP8o2w",
        "outputId": "199ff3b0-40ed-4b88-a8e4-aac43a71b30d"
      },
      "outputs": [
        {
          "output_type": "stream",
          "name": "stdout",
          "text": [
            "Looking in indexes: https://pypi.org/simple, https://us-python.pkg.dev/colab-wheels/public/simple/\n",
            "Requirement already satisfied: yfinance in /usr/local/lib/python3.9/dist-packages (0.2.18)\n",
            "Requirement already satisfied: lxml>=4.9.1 in /usr/local/lib/python3.9/dist-packages (from yfinance) (4.9.2)\n",
            "Requirement already satisfied: beautifulsoup4>=4.11.1 in /usr/local/lib/python3.9/dist-packages (from yfinance) (4.11.2)\n",
            "Requirement already satisfied: requests>=2.26 in /usr/local/lib/python3.9/dist-packages (from yfinance) (2.27.1)\n",
            "Requirement already satisfied: html5lib>=1.1 in /usr/local/lib/python3.9/dist-packages (from yfinance) (1.1)\n",
            "Requirement already satisfied: frozendict>=2.3.4 in /usr/local/lib/python3.9/dist-packages (from yfinance) (2.3.7)\n",
            "Requirement already satisfied: cryptography>=3.3.2 in /usr/local/lib/python3.9/dist-packages (from yfinance) (40.0.2)\n",
            "Requirement already satisfied: multitasking>=0.0.7 in /usr/local/lib/python3.9/dist-packages (from yfinance) (0.0.11)\n",
            "Requirement already satisfied: pandas>=1.3.0 in /usr/local/lib/python3.9/dist-packages (from yfinance) (1.5.3)\n",
            "Requirement already satisfied: pytz>=2022.5 in /usr/local/lib/python3.9/dist-packages (from yfinance) (2022.7.1)\n",
            "Requirement already satisfied: appdirs>=1.4.4 in /usr/local/lib/python3.9/dist-packages (from yfinance) (1.4.4)\n",
            "Requirement already satisfied: numpy>=1.16.5 in /usr/local/lib/python3.9/dist-packages (from yfinance) (1.22.4)\n",
            "Requirement already satisfied: soupsieve>1.2 in /usr/local/lib/python3.9/dist-packages (from beautifulsoup4>=4.11.1->yfinance) (2.4.1)\n",
            "Requirement already satisfied: cffi>=1.12 in /usr/local/lib/python3.9/dist-packages (from cryptography>=3.3.2->yfinance) (1.15.1)\n",
            "Requirement already satisfied: six>=1.9 in /usr/local/lib/python3.9/dist-packages (from html5lib>=1.1->yfinance) (1.16.0)\n",
            "Requirement already satisfied: webencodings in /usr/local/lib/python3.9/dist-packages (from html5lib>=1.1->yfinance) (0.5.1)\n",
            "Requirement already satisfied: python-dateutil>=2.8.1 in /usr/local/lib/python3.9/dist-packages (from pandas>=1.3.0->yfinance) (2.8.2)\n",
            "Requirement already satisfied: certifi>=2017.4.17 in /usr/local/lib/python3.9/dist-packages (from requests>=2.26->yfinance) (2022.12.7)\n",
            "Requirement already satisfied: idna<4,>=2.5 in /usr/local/lib/python3.9/dist-packages (from requests>=2.26->yfinance) (3.4)\n",
            "Requirement already satisfied: urllib3<1.27,>=1.21.1 in /usr/local/lib/python3.9/dist-packages (from requests>=2.26->yfinance) (1.26.15)\n",
            "Requirement already satisfied: charset-normalizer~=2.0.0 in /usr/local/lib/python3.9/dist-packages (from requests>=2.26->yfinance) (2.0.12)\n",
            "Requirement already satisfied: pycparser in /usr/local/lib/python3.9/dist-packages (from cffi>=1.12->cryptography>=3.3.2->yfinance) (2.21)\n",
            "Looking in indexes: https://pypi.org/simple, https://us-python.pkg.dev/colab-wheels/public/simple/\n",
            "Requirement already satisfied: numpy in /usr/local/lib/python3.9/dist-packages (1.22.4)\n",
            "Looking in indexes: https://pypi.org/simple, https://us-python.pkg.dev/colab-wheels/public/simple/\n",
            "Requirement already satisfied: pandas in /usr/local/lib/python3.9/dist-packages (1.5.3)\n",
            "Requirement already satisfied: python-dateutil>=2.8.1 in /usr/local/lib/python3.9/dist-packages (from pandas) (2.8.2)\n",
            "Requirement already satisfied: pytz>=2020.1 in /usr/local/lib/python3.9/dist-packages (from pandas) (2022.7.1)\n",
            "Requirement already satisfied: numpy>=1.20.3 in /usr/local/lib/python3.9/dist-packages (from pandas) (1.22.4)\n",
            "Requirement already satisfied: six>=1.5 in /usr/local/lib/python3.9/dist-packages (from python-dateutil>=2.8.1->pandas) (1.16.0)\n",
            "Looking in indexes: https://pypi.org/simple, https://us-python.pkg.dev/colab-wheels/public/simple/\n",
            "Collecting hurst\n",
            "  Downloading hurst-0.0.5-py3-none-any.whl (5.9 kB)\n",
            "Requirement already satisfied: pandas>=0.18 in /usr/local/lib/python3.9/dist-packages (from hurst) (1.5.3)\n",
            "Requirement already satisfied: numpy>=1.10 in /usr/local/lib/python3.9/dist-packages (from hurst) (1.22.4)\n",
            "Requirement already satisfied: python-dateutil>=2.8.1 in /usr/local/lib/python3.9/dist-packages (from pandas>=0.18->hurst) (2.8.2)\n",
            "Requirement already satisfied: pytz>=2020.1 in /usr/local/lib/python3.9/dist-packages (from pandas>=0.18->hurst) (2022.7.1)\n",
            "Requirement already satisfied: six>=1.5 in /usr/local/lib/python3.9/dist-packages (from python-dateutil>=2.8.1->pandas>=0.18->hurst) (1.16.0)\n",
            "Installing collected packages: hurst\n",
            "Successfully installed hurst-0.0.5\n",
            "Looking in indexes: https://pypi.org/simple, https://us-python.pkg.dev/colab-wheels/public/simple/\n",
            "Requirement already satisfied: tqdm in /usr/local/lib/python3.9/dist-packages (4.65.0)\n"
          ]
        }
      ],
      "source": [
        "# Downloading required packages\n",
        "!pip install yfinance\n",
        "!pip install numpy\n",
        "!pip install pandas\n",
        "!pip install hurst\n",
        "!pip install tqdm"
      ]
    },
    {
      "cell_type": "code",
      "execution_count": 2,
      "metadata": {
        "id": "NsE9PTzF9hB7"
      },
      "outputs": [],
      "source": [
        "# Import of the necessary modules\n",
        "from IPython.display import clear_output \n",
        "from time import sleep\n",
        "from tqdm.notebook import tqdm\n",
        "import pandas as pd\n",
        "import requests\n",
        "import sqlite3\n",
        "import yfinance as yf\n",
        "from hurst import compute_Hc\n",
        "import numpy as np"
      ]
    },
    {
      "cell_type": "code",
      "execution_count": 3,
      "metadata": {
        "colab": {
          "base_uri": "https://localhost:8080/",
          "height": 52
        },
        "id": "mCQgJ-YFWGHg",
        "outputId": "74118667-cabb-48b1-cab2-e839116552e5"
      },
      "outputs": [
        {
          "output_type": "execute_result",
          "data": {
            "text/plain": [
              "'conn = sqlite3.connect(\"flexin_signals.db\")\\ncur = conn.cursor()\\ncur.execute(\"CREATE TABLE IF NOT EXISTS store (item TEXT, quantity INTEGER, price REAL)\")\\nconn.commit()\\nconn.close()\\n'"
            ],
            "application/vnd.google.colaboratory.intrinsic+json": {
              "type": "string"
            }
          },
          "metadata": {},
          "execution_count": 3
        }
      ],
      "source": [
        "'''conn = sqlite3.connect(\"flexin_signals.db\")\n",
        "cur = conn.cursor()\n",
        "cur.execute(\"CREATE TABLE IF NOT EXISTS store (item TEXT, quantity INTEGER, price REAL)\")\n",
        "conn.commit()\n",
        "conn.close()\n",
        "'''"
      ]
    },
    {
      "cell_type": "code",
      "execution_count": 4,
      "metadata": {
        "colab": {
          "base_uri": "https://localhost:8080/",
          "height": 35
        },
        "id": "sT6Z-UGUXNKN",
        "outputId": "1a89b299-0ed7-4587-8ff8-56a5e11da4c6"
      },
      "outputs": [
        {
          "output_type": "execute_result",
          "data": {
            "text/plain": [
              "'!pwd\\n!ls'"
            ],
            "application/vnd.google.colaboratory.intrinsic+json": {
              "type": "string"
            }
          },
          "metadata": {},
          "execution_count": 4
        }
      ],
      "source": [
        "'''!pwd\n",
        "!ls'''"
      ]
    },
    {
      "cell_type": "code",
      "execution_count": 5,
      "metadata": {
        "id": "mpSyRPHdwlWr"
      },
      "outputs": [],
      "source": [
        "def telegram(message):\n",
        "\n",
        "    apiToken = '6183952601:AAFbfrKfZb3iKX6GfYZQnatxo0lg1S4lL8Y'\n",
        "    chatID = '@flexinflexinbot1'\n",
        "    apiURL = f'https://api.telegram.org/bot{apiToken}/sendMessage'\n",
        "\n",
        "    try:\n",
        "        response = requests.post(apiURL, json={'chat_id': chatID, 'text': message})\n",
        "        print(response.text)\n",
        "    except Exception as e:\n",
        "        print(e)"
      ]
    },
    {
      "cell_type": "code",
      "execution_count": 6,
      "metadata": {
        "id": "Ir6D5Y5W_1dF"
      },
      "outputs": [],
      "source": [
        "class Flexin:\n",
        "  \n",
        "  def __init__(self, wallet):\n",
        "    '''\n",
        "    Symbol of any pair, stock or commodity\n",
        "    :param symbol: symbol\n",
        "    '''\n",
        "    self.wallet = wallet # Self wallet variable\n",
        "\n",
        "  def run(self):\n",
        "    \n",
        "    for symbol in wallet:\n",
        "      \n",
        "      # BBs variables\n",
        "      n, k = 20, 2 # Moving average periods, Factor to shift the bands\n",
        "      \n",
        "      # ATR variables\n",
        "      p = 14 # Period for calculating the ATR (days)\n",
        "      \n",
        "      # Verify signals variables\n",
        "      verifyBuy, verifySell = False, False # Verify signals\n",
        "      \n",
        "      print(f'Analyzing {symbol}...', end='\\n') # Show the symbol\n",
        "      \n",
        "      #------------------------------------------------------------------------- \n",
        "      # Week filter - For period => 'max' and interval='1d'\n",
        "      #-------------------------------------------------------------------------\n",
        "      w = yf.Ticker(symbol).history(period='max', interval='1d') # Daily data\n",
        "\n",
        "      # Hurst exponent filter (https://github.com/Mottl/hurst) -----------------\n",
        "      H = lambda x: compute_Hc(x)[0] # Compute hurst on anonymous lambda func.\n",
        "      w['Hurst'] = w['Close'].rolling(window=1024).apply(H) # Hurst D avg\n",
        "      mean_week_hurst = np.mean(w['Hurst'])\n",
        "\n",
        "      if mean_week_hurst > 0.5:\n",
        "\n",
        "        # Bollinger Bands ------------------------------------------------------\n",
        "        w['Standard Deviation'] = w['Close'].rolling(n).std() # Stdv\n",
        "        w['Middle Band'] = w['Close'].rolling(n).mean() # Middle\n",
        "        w['Upper Band'] = w['Middle Band'] + w['Standard Deviation']*k # U\n",
        "        w['Lower Band'] = w['Middle Band'] - w['Standard Deviation']*k # l \n",
        "      \n",
        "        #-----------------------------------------------------------------------\n",
        "        # Daily filter - For period => 'max' and interval='1d'\n",
        "        #-----------------------------------------------------------------------\n",
        "        d = yf.Ticker(symbol).history(period='max', interval='1d') # Daily data\n",
        "        \n",
        "        # Hurst exponent filter (https://github.com/Mottl/hurst) ---------------\n",
        "        H = lambda x: compute_Hc(x)[0] # Compute hurst on anonymous lambda func.\n",
        "        d['Hurst'] = d['Close'].rolling(window=1024).apply(H) # Hurst D abg\n",
        "        mean_day_hurst = np.mean(d['Hurst']) # Current daily hurst\n",
        "        \n",
        "        if mean_day_hurst > 0.5:\n",
        "\n",
        "          # Bollinger Bands ----------------------------------------------------\n",
        "          d['Standard Deviation'] = d['Close'].rolling(n).std() # Stdv\n",
        "          d['Middle Band'] = d['Close'].rolling(n).mean() # Middle\n",
        "          d['Upper Band'] = d['Middle Band'] + d['Standard Deviation']*k # U\n",
        "          d['Lower Band'] = d['Middle Band'] - d['Standard Deviation']*k # l\n",
        "        \n",
        "          #---------------------------------------------------------------------\n",
        "          # Hour filter - For period => '1y' and interval='1h'\n",
        "          #---------------------------------------------------------------------\n",
        "          h = yf.Ticker(symbol).history(period='1y', interval='1h') # Hour data\n",
        "\n",
        "          # Hurst exponent filter (https://github.com/Mottl/hurst)--------------\n",
        "          H = lambda x: compute_Hc(x)[0] # Compute hurst\n",
        "          h['Hurst'] = h['Close'].rolling(window=1024).apply(H) # Hurst H avg\n",
        "          mean_hour_hurst = np.mean(h['Hurst']) # Currente hour hurst\n",
        "          mean_4hour_hurst = np.mean(h['Hurst'][:-3:])\n",
        "\n",
        "          if mean_hour_hurst > 0.5 and mean_4hour_hurst > 0.5:\n",
        "\n",
        "            # Bollinger Bands --------------------------------------------------\n",
        "            h['Standard Deviation'] = h['Close'].rolling(n).std() # Stdv\n",
        "            h['Middle Band'] = h['Close'].rolling(n).mean() # Middle\n",
        "            h['Upper Band'] = h['Middle Band'] + h['Standard Deviation']*k # U\n",
        "            h['Lower Band'] = h['Middle Band'] - h['Standard Deviation']*k # L\n",
        "\n",
        "            print('Data collected!', end='\\n')\n",
        "            print('Hurst in persistent behavior 🏂', end='\\n')\n",
        "            \n",
        "            # BUY/LONG ---------------------------------------------------------\n",
        "            if w['Close'][-1]>w['Middle Band'][-1] and d['Close'][-1]>d['Middle Band'][-1] and h['Close'][-4]>h['Middle Band'][-4] and h['Low'][-1]>h['Middle Band'][-1] and h['Open'][-1]>h['Middle Band'][-1] and h['Close'][-1]>h['Upper Band'][-1]:\n",
        "\n",
        "              verifyBuy = True\n",
        "              title = 'Flexin Signal 🤖☔️' # Title\n",
        "              price = h['Close'][-1] # Price\n",
        "              \n",
        "              # ATR hour -------------------------------------------------------\n",
        "              h['H-L'] = h['High']-h['Low']\n",
        "              h['|H-Cp|'] = np.abs(h['High']-h['Close'].shift(1))\n",
        "              h['|L-Cp|'] = np.abs(h['Low']-h['Close'].shift(1))\n",
        "              \n",
        "              # TR - maximum value among these three possibilities\n",
        "              h['TR'] = h[['|H-Cp|', 'H-L', '|L-Cp|']].max(axis=1)\n",
        "              smaTRh = h['TR'].rolling(window=p, min_periods=p).mean()[:p]\n",
        "              restTRh = h['TR'][p:]\n",
        "              \n",
        "              # ATR - Average True Range\n",
        "              h['ATR'] = pd.concat([smaTRh, restTRh]).ewm(alpha=1/p, adjust=False).mean()\n",
        "              \n",
        "              ATR = h['ATR'][-1] # ATR\n",
        "              \n",
        "              takeProfit = price+(0.95*ATR) # TP\n",
        "              stopLoss = price-(1.5*ATR) # SL\n",
        "              # ----------------------------------------------------------------\n",
        "\n",
        "              if verifyBuy == True:\n",
        "\n",
        "                telegram(f'{title}\\n{symbol} at price ${price.round(4)}\\n📈 BUY\\nTP: ${takeProfit.round(4)}\\nSL: ${stopLoss.round(4)}') # Show buy info\n",
        "                sleep(1)\n",
        "                telegram(f'Opening order...💤')\n",
        "                sleep(1)\n",
        "                telegram(f'Open order ✔️')\n",
        "                sleep(1)\n",
        "                \n",
        "                time = 0\n",
        "\n",
        "                while True:\n",
        "\n",
        "                  time += 1\n",
        "                  sleep(1)\n",
        "                  \n",
        "                  if h['Close'][-1] < stopLoss:\n",
        "\n",
        "                    telegram('Price around stop loss 😭')\n",
        "                    \n",
        "                    break\n",
        "                  \n",
        "                  elif h['Close'][-1] > takeProfit:\n",
        "\n",
        "                    telegram('Price arround take profit now 🙏💸')\n",
        "                    \n",
        "                    break\n",
        "\n",
        "                  else:\n",
        "\n",
        "                    continue\n",
        "\n",
        "                time = 0\n",
        "\n",
        "            # SELL/SHORT -------------------------------------------------------\n",
        "            elif w['Close'][-1]<w['Middle Band'][-1] and d['Close'][-1]<d['Middle Band'][-1] and h['Close'][-4]<h['Middle Band'][-4] and h['Low'][-1]<h['Middle Band'][-1] and h['Open'][-1]<h['Middle Band'][-1] and h['Close'][-1]<h['Lower Band'][-1]:\n",
        "                         \n",
        "              verifySell = True\n",
        "              title = 'Signal 🤖☔️' # Title\n",
        "              price = h['Close'][-1] # Price\n",
        "\n",
        "              # ATR hour -----------------------------------------------\n",
        "              h['H-L'] = h['High']-h['Low']\n",
        "              h['|H-Cp|'] = np.abs(h['High']-h['Close'].shift(1))\n",
        "              h['|L-Cp|'] = np.abs(h['Low']-h['Close'].shift(1))\n",
        "            \n",
        "              # TR - maximum value among these three possibilities\n",
        "              h['TR'] = h[['|H-Cp|', 'H-L', '|L-Cp|']].max(axis=1)\n",
        "              smaTRh = h['TR'].rolling(window=p, min_periods=p).mean()[:p] \n",
        "              restTRh = h['TR'][p:] # Rest of indicator\n",
        "              \n",
        "              # ATR - Average True Range\n",
        "              h['ATR'] = pd.concat([smaTRh, restTRh]).ewm(alpha=1/p, adjust=False).mean() # ATR\n",
        "\n",
        "              ATR = h['ATR'][-1] # ATR\n",
        "\n",
        "              takeProfit = price-(0.99*ATR) # TP\n",
        "              stopLoss = price+(1.5*ATR) # SL\n",
        "              # --------------------------------------------------------\n",
        "\n",
        "              if verifySell == True:\n",
        "\n",
        "                telegram(f'{title}\\n{symbol} at price ${price.round(4)}\\n📉 SELL\\nTP: ${takeProfit.round(4)}\\nSL: ${stopLoss.round(4)}') # Show sell info\n",
        "                sleep(1)\n",
        "                telegram(f'Opening order...💤')\n",
        "                sleep(1)\n",
        "                telegram(f'Open order ✔️')\n",
        "                sleep(1)\n",
        "                \n",
        "                time = 0\n",
        "\n",
        "                while True:\n",
        "\n",
        "                  time += 1\n",
        "                  sleep(1)\n",
        "                  \n",
        "                  if h['Close'][-1] > stopLoss:\n",
        "\n",
        "                    telegram('Price around stop loss 😭')\n",
        "                    \n",
        "                    break\n",
        "                  \n",
        "                  elif h['Close'][-1] < takeProfit:\n",
        "\n",
        "                    telegram('Price arround take profit now 🙏💸')\n",
        "                    \n",
        "                    break\n",
        "\n",
        "                  else:\n",
        "\n",
        "                    continue\n",
        "\n",
        "                time = 0\n",
        "\n",
        "            else:\n",
        "              \n",
        "              print(f'No signal for {symbol}', end='\\n') # No signal\n",
        "\n",
        "          else:\n",
        "          \n",
        "            print('Hurst in anti-persistent behavior 💤', end='\\n') # Possible regression"
      ]
    },
    {
      "cell_type": "code",
      "execution_count": 7,
      "metadata": {
        "id": "w0r5GRS1GvwX"
      },
      "outputs": [],
      "source": [
        "wallet = ['JPY=X',\n",
        "          'NZDUSD=X',\n",
        "          'AUDUSD=X',\n",
        "          'CAD=X',\n",
        "          'GBPUSD=X',\n",
        "          'EURUSD=X']"
      ]
    },
    {
      "cell_type": "code",
      "execution_count": null,
      "metadata": {
        "colab": {
          "base_uri": "https://localhost:8080/"
        },
        "id": "0eJfJBocqCSK",
        "outputId": "072030f8-f0fd-4f5e-8629-50d7c8721026"
      },
      "outputs": [
        {
          "output_type": "stream",
          "name": "stdout",
          "text": [
            "Analyzing JPY=X...\n",
            "Data collected!\n",
            "Hurst in persistent behavior 🏂\n",
            "No signal for JPY=X\n",
            "Analyzing NZDUSD=X...\n"
          ]
        }
      ],
      "source": [
        "while True:\n",
        "  flexin = Flexin(wallet)\n",
        "  run = flexin.run()\n",
        "  clear_output()"
      ]
    },
    {
      "cell_type": "code",
      "source": [],
      "metadata": {
        "id": "IfQ0nv_rs7sS"
      },
      "execution_count": null,
      "outputs": []
    }
  ],
  "metadata": {
    "colab": {
      "provenance": [],
      "include_colab_link": true
    },
    "gpuClass": "standard",
    "kernelspec": {
      "display_name": "Python 3",
      "name": "python3"
    },
    "language_info": {
      "name": "python"
    }
  },
  "nbformat": 4,
  "nbformat_minor": 0
}