{
  "cells": [
    {
      "cell_type": "markdown",
      "metadata": {
        "id": "view-in-github",
        "colab_type": "text"
      },
      "source": [
        "<a href=\"https://colab.research.google.com/github/flexinJ/flexin/blob/main/FlexinATR_TELEGRAM_updates.ipynb\" target=\"_parent\"><img src=\"https://colab.research.google.com/assets/colab-badge.svg\" alt=\"Open In Colab\"/></a>"
      ]
    },
    {
      "cell_type": "code",
      "execution_count": 1,
      "metadata": {
        "colab": {
          "base_uri": "https://localhost:8080/"
        },
        "id": "t_aFRGeP8o2w",
        "outputId": "dd700887-0ad2-469c-c598-e036e8a70ef1"
      },
      "outputs": [
        {
          "output_type": "stream",
          "name": "stdout",
          "text": [
            "Looking in indexes: https://pypi.org/simple, https://us-python.pkg.dev/colab-wheels/public/simple/\n",
            "Requirement already satisfied: yfinance in /usr/local/lib/python3.9/dist-packages (0.2.14)\n",
            "Requirement already satisfied: pandas>=1.3.0 in /usr/local/lib/python3.9/dist-packages (from yfinance) (1.4.4)\n",
            "Requirement already satisfied: html5lib>=1.1 in /usr/local/lib/python3.9/dist-packages (from yfinance) (1.1)\n",
            "Requirement already satisfied: beautifulsoup4>=4.11.1 in /usr/local/lib/python3.9/dist-packages (from yfinance) (4.11.2)\n",
            "Requirement already satisfied: lxml>=4.9.1 in /usr/local/lib/python3.9/dist-packages (from yfinance) (4.9.2)\n",
            "Requirement already satisfied: requests>=2.26 in /usr/local/lib/python3.9/dist-packages (from yfinance) (2.27.1)\n",
            "Requirement already satisfied: frozendict>=2.3.4 in /usr/local/lib/python3.9/dist-packages (from yfinance) (2.3.6)\n",
            "Requirement already satisfied: pytz>=2022.5 in /usr/local/lib/python3.9/dist-packages (from yfinance) (2022.7.1)\n",
            "Requirement already satisfied: multitasking>=0.0.7 in /usr/local/lib/python3.9/dist-packages (from yfinance) (0.0.11)\n",
            "Requirement already satisfied: cryptography>=3.3.2 in /usr/local/lib/python3.9/dist-packages (from yfinance) (40.0.1)\n",
            "Requirement already satisfied: appdirs>=1.4.4 in /usr/local/lib/python3.9/dist-packages (from yfinance) (1.4.4)\n",
            "Requirement already satisfied: numpy>=1.16.5 in /usr/local/lib/python3.9/dist-packages (from yfinance) (1.22.4)\n",
            "Requirement already satisfied: soupsieve>1.2 in /usr/local/lib/python3.9/dist-packages (from beautifulsoup4>=4.11.1->yfinance) (2.4)\n",
            "Requirement already satisfied: cffi>=1.12 in /usr/local/lib/python3.9/dist-packages (from cryptography>=3.3.2->yfinance) (1.15.1)\n",
            "Requirement already satisfied: webencodings in /usr/local/lib/python3.9/dist-packages (from html5lib>=1.1->yfinance) (0.5.1)\n",
            "Requirement already satisfied: six>=1.9 in /usr/local/lib/python3.9/dist-packages (from html5lib>=1.1->yfinance) (1.16.0)\n",
            "Requirement already satisfied: python-dateutil>=2.8.1 in /usr/local/lib/python3.9/dist-packages (from pandas>=1.3.0->yfinance) (2.8.2)\n",
            "Requirement already satisfied: certifi>=2017.4.17 in /usr/local/lib/python3.9/dist-packages (from requests>=2.26->yfinance) (2022.12.7)\n",
            "Requirement already satisfied: idna<4,>=2.5 in /usr/local/lib/python3.9/dist-packages (from requests>=2.26->yfinance) (3.4)\n",
            "Requirement already satisfied: urllib3<1.27,>=1.21.1 in /usr/local/lib/python3.9/dist-packages (from requests>=2.26->yfinance) (1.26.15)\n",
            "Requirement already satisfied: charset-normalizer~=2.0.0 in /usr/local/lib/python3.9/dist-packages (from requests>=2.26->yfinance) (2.0.12)\n",
            "Requirement already satisfied: pycparser in /usr/local/lib/python3.9/dist-packages (from cffi>=1.12->cryptography>=3.3.2->yfinance) (2.21)\n",
            "Looking in indexes: https://pypi.org/simple, https://us-python.pkg.dev/colab-wheels/public/simple/\n",
            "Requirement already satisfied: numpy in /usr/local/lib/python3.9/dist-packages (1.22.4)\n",
            "Looking in indexes: https://pypi.org/simple, https://us-python.pkg.dev/colab-wheels/public/simple/\n",
            "Requirement already satisfied: pandas in /usr/local/lib/python3.9/dist-packages (1.4.4)\n",
            "Requirement already satisfied: python-dateutil>=2.8.1 in /usr/local/lib/python3.9/dist-packages (from pandas) (2.8.2)\n",
            "Requirement already satisfied: numpy>=1.18.5 in /usr/local/lib/python3.9/dist-packages (from pandas) (1.22.4)\n",
            "Requirement already satisfied: pytz>=2020.1 in /usr/local/lib/python3.9/dist-packages (from pandas) (2022.7.1)\n",
            "Requirement already satisfied: six>=1.5 in /usr/local/lib/python3.9/dist-packages (from python-dateutil>=2.8.1->pandas) (1.16.0)\n",
            "Looking in indexes: https://pypi.org/simple, https://us-python.pkg.dev/colab-wheels/public/simple/\n",
            "Collecting hurst\n",
            "  Downloading hurst-0.0.5-py3-none-any.whl (5.9 kB)\n",
            "Requirement already satisfied: pandas>=0.18 in /usr/local/lib/python3.9/dist-packages (from hurst) (1.4.4)\n",
            "Requirement already satisfied: numpy>=1.10 in /usr/local/lib/python3.9/dist-packages (from hurst) (1.22.4)\n",
            "Requirement already satisfied: python-dateutil>=2.8.1 in /usr/local/lib/python3.9/dist-packages (from pandas>=0.18->hurst) (2.8.2)\n",
            "Requirement already satisfied: pytz>=2020.1 in /usr/local/lib/python3.9/dist-packages (from pandas>=0.18->hurst) (2022.7.1)\n",
            "Requirement already satisfied: six>=1.5 in /usr/local/lib/python3.9/dist-packages (from python-dateutil>=2.8.1->pandas>=0.18->hurst) (1.16.0)\n",
            "Installing collected packages: hurst\n",
            "Successfully installed hurst-0.0.5\n",
            "Looking in indexes: https://pypi.org/simple, https://us-python.pkg.dev/colab-wheels/public/simple/\n",
            "Requirement already satisfied: tqdm in /usr/local/lib/python3.9/dist-packages (4.65.0)\n"
          ]
        }
      ],
      "source": [
        "# Downloading required packages\n",
        "!pip install yfinance\n",
        "!pip install numpy\n",
        "!pip install pandas\n",
        "!pip install hurst\n",
        "!pip install tqdm"
      ]
    },
    {
      "cell_type": "code",
      "execution_count": 2,
      "metadata": {
        "id": "NsE9PTzF9hB7"
      },
      "outputs": [],
      "source": [
        "# Import of the necessary modules\n",
        "from IPython.display import clear_output \n",
        "from time import sleep\n",
        "from tqdm.notebook import tqdm\n",
        "import pandas as pd\n",
        "import requests"
      ]
    },
    {
      "cell_type": "code",
      "execution_count": 3,
      "metadata": {
        "id": "mpSyRPHdwlWr"
      },
      "outputs": [],
      "source": [
        "def telegram(message):\n",
        "\n",
        "    apiToken = '6183952601:AAFbfrKfZb3iKX6GfYZQnatxo0lg1S4lL8Y'\n",
        "    chatID = '@flexinflexinbot1'\n",
        "    apiURL = f'https://api.telegram.org/bot{apiToken}/sendMessage'\n",
        "\n",
        "    try:\n",
        "        response = requests.post(apiURL, json={'chat_id': chatID, 'text': message})\n",
        "        print(response.text)\n",
        "    except Exception as e:\n",
        "        print(e)"
      ]
    },
    {
      "cell_type": "code",
      "execution_count": 4,
      "metadata": {
        "id": "Ir6D5Y5W_1dF"
      },
      "outputs": [],
      "source": [
        "class Flexin:\n",
        "  \n",
        "  def __init__(self, wallet):\n",
        "    '''\n",
        "    Symbol of any pair, stock or commodity\n",
        "    :param symbol: symbol\n",
        "    '''\n",
        "    self.wallet = wallet # Self wallet variable\n",
        "\n",
        "  # Objects\n",
        "  def run(self):\n",
        "    # Packages needed for this function\n",
        "    import numpy as np\n",
        "    import yfinance as yf\n",
        "    from hurst import compute_Hc\n",
        "    '''\n",
        "    Returns data for any symbol - The first collection is made for the daily\n",
        "    chart and then the hourly chart.\n",
        "    :param symbol: asset symbol for analysis \n",
        "    '''\n",
        "    for symbol in wallet:\n",
        "      # BBs variables\n",
        "      n, k = 20, 2 # Moving average periods, Factor to shift the bands\n",
        "      # ATR variables\n",
        "      p = 14 # Period for calculating the ATR (days)\n",
        "      # Verify signals variables\n",
        "      verifyBuy, verifySell = False, False # Verify signals\n",
        "      print(f'analyzing {symbol}...') # Show the symbol\n",
        "      #------------------------------------------------------------------------- \n",
        "      # Daily filter - For period => 'max' and interval='1d'\n",
        "      #-------------------------------------------------------------------------\n",
        "      d = yf.Ticker(symbol).history(period='max', interval='1d') # Daily data\n",
        "      d.drop(['Volume', 'Dividends', 'Stock Splits'], axis=1, inplace=True)\n",
        "      # Hurst exponent filter (https://github.com/Mottl/hurst) -----------------\n",
        "      H = lambda x: compute_Hc(x)[0] # Compute hurst on anonymous lambda func.\n",
        "      d['Hurst'] = d['Close'].rolling(window=1024).apply(H) # Hurst D average\n",
        "      hurstDaily = d['Hurst'][-1] # Current daily hurst\n",
        "      # Bollinger Bands --------------------------------------------------------\n",
        "      d['Standard Deviation'] = d['Close'].rolling(n).std() # Stdv\n",
        "      d['Middle Band'] = d['Close'].rolling(n).mean() # Middle B.\n",
        "      d['Upper Band'] = d['Middle Band'] + d['Standard Deviation']*k # Upper B.\n",
        "      d['Lower Band'] = d['Middle Band'] - d['Standard Deviation']*k # lower B.\n",
        "      # ATR daily --------------------------------------------------------------\n",
        "      d['H-L'] = d['High']-d['Low'] # diff between the maximum & minimum\n",
        "      d['|H-Cp|'] = np.abs(d['High']-d['Close'].shift(1)) # diff of maximum\n",
        "      d['|L-Cp|'] = np.abs(d['Low']-d['Close'].shift(1)) # diff of minimum\n",
        "      # TR - maximum value among these three possibilities (in each line)\n",
        "      d['TR'] = d[['|H-Cp|', 'H-L', '|L-Cp|']].max(axis=1) # Maximum value diff\n",
        "      smaTR = d['TR'].rolling(window=p, min_periods=p).mean()[:p] # TR sma\n",
        "      restTR = d['TR'][p:] # Rest of indicator\n",
        "      # ATR - Average True Range\n",
        "      d['ATR'] = pd.concat([smaTR, restTR]).ewm(alpha=1/p, adjust=False).mean()\n",
        "      #-------------------------------------------------------------------------\n",
        "      # Hour filter - For period => '1y' and interval='1h'\n",
        "      #-------------------------------------------------------------------------\n",
        "      h = yf.Ticker(symbol).history(period='1y', interval='1h') # Hour data\n",
        "      h.drop(['Volume', 'Dividends', 'Stock Splits'], axis=1, inplace=True)\n",
        "      # Hurst exponent filter (https://github.com/Mottl/hurst)\n",
        "      H = lambda x: compute_Hc(x)[0] # Compute hurst\n",
        "      h['Hurst'] = h['Close'].rolling(window=1024).apply(H) # Hurst H average\n",
        "      hurstHour = h['Hurst'][-1] # Currente hour hurst\n",
        "      # Bollinger Bands\n",
        "      h['Standard Deviation'] = h['Close'].rolling(n).std() # Stdv\n",
        "      h['Middle Band'] = h['Close'].rolling(n).mean() # Middle\n",
        "      h['Upper Band'] = h['Middle Band'] + h['Standard Deviation']*k # Upper\n",
        "      h['Lower Band'] = h['Middle Band'] - h['Standard Deviation']*k # Lower\n",
        "      #-------------------------------------------------------------------------\n",
        "      # Strategy\n",
        "      #-------------------------------------------------------------------------\n",
        "      if 1>d['Hurst'][-1]>0.5 and 1>h['Hurst'][-1]>0.5:\n",
        "        print(f'H© = {hurstDaily.round(4)} 🏂! w/ persistent behavior.')\n",
        "        # BUY/LONG -------------------------------------------------------------\n",
        "        if d['Open'][-1]>d['Middle Band'][-1]<d['Close'][-1]:\n",
        "          if d['Close'][-1]>d['Open'][-1]:\n",
        "            if h['Open'][-1]>h['Middle Band'][-1]:\n",
        "              if h['Close'][-1]>h['Upper Band'][-1]:\n",
        "                verifyBuy = True\n",
        "                if verifyBuy == True:\n",
        "                  price = d['Close'][-1]\n",
        "                  ATR = d['ATR'][-1]\n",
        "                  buyInfo = {\n",
        "                      'Symbol': symbol,\n",
        "                      'Type': 'Buy',\n",
        "                      'Take Profit': price+ATR,\n",
        "                      'Stop Loss': price-ATR}\n",
        "                  print(f'📈 BUY: {verifyBuy} for {symbol} at price {price}.\\n{buyInfo}')\n",
        "                  telegram(f'📈 BUY: {verifyBuy} for {symbol} at {price}.\\n{buyInfo}')\n",
        "        else:\n",
        "          # SELL/SHORT ---------------------------------------------------------\n",
        "          if d['Open'][-1]<d['Middle Band'][-1]>d['Close'][-1]:\n",
        "            if d['Close'][-1]<d['Open'][-1]:\n",
        "              if h['Close'][-1]<h['Lower Band'][-1]:\n",
        "                if h['Open'][-1]<h['Middle Band'][-1]:\n",
        "                  verifySell = True\n",
        "                  if verifySell == True:\n",
        "                    price = d['Close'][-1]\n",
        "                    ATR = d['ATR'][-1]\n",
        "                    sellInfo = {\n",
        "                      'Symbol': symbol,\n",
        "                      'Type': 'Sell',\n",
        "                      'Take Profit': price-ATR,\n",
        "                      'Stop Loss': price+ATR}\n",
        "                    print(f'📉 BUY: {verifySell} for {symbol} at price {price}.\\n{sellInfo}')\n",
        "                    telegram(f'📉 BUY: {verifySell} for {symbol} at {price}.\\n{sellInfo}')\n",
        "      else:\n",
        "        print(f'H© = {hurstDaily.round(4)} 💤! w/ anti-persistent.')\n",
        "      print('')"
      ]
    },
    {
      "cell_type": "code",
      "execution_count": 5,
      "metadata": {
        "id": "w0r5GRS1GvwX"
      },
      "outputs": [],
      "source": [
        "wallet = ['EURUSD=X',\n",
        "          'JPY=X',\n",
        "          'GBPUSD=X',\n",
        "          'CHF=X',\n",
        "          'AUDUSD=X',\n",
        "          'CAD=X',\n",
        "          'NZDUSD=X',\n",
        "          '^HSI']"
      ]
    },
    {
      "cell_type": "code",
      "execution_count": null,
      "metadata": {
        "colab": {
          "base_uri": "https://localhost:8080/"
        },
        "id": "0eJfJBocqCSK",
        "outputId": "04998ac3-29ab-4039-9d1b-d28c416a9e69"
      },
      "outputs": [
        {
          "output_type": "stream",
          "name": "stdout",
          "text": [
            "analyzing EURUSD=X...\n",
            "H© = 0.5529 💤! w/ anti-persistent.\n",
            "\n",
            "analyzing JPY=X...\n",
            "H© = 0.5739 🏂! w/ persistent behavior.\n",
            "\n",
            "analyzing GBPUSD=X...\n",
            "H© = 0.5335 💤! w/ anti-persistent.\n",
            "\n",
            "analyzing CHF=X...\n",
            "H© = 0.4627 💤! w/ anti-persistent.\n",
            "\n",
            "analyzing AUDUSD=X...\n"
          ]
        }
      ],
      "source": [
        "while True:\n",
        "  Flexin(wallet).run()\n",
        "  clear_output()"
      ]
    }
  ],
  "metadata": {
    "colab": {
      "provenance": [],
      "include_colab_link": true
    },
    "gpuClass": "standard",
    "kernelspec": {
      "display_name": "Python 3",
      "name": "python3"
    },
    "language_info": {
      "name": "python"
    }
  },
  "nbformat": 4,
  "nbformat_minor": 0
}